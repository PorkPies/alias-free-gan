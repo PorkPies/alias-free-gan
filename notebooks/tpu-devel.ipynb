{
 "cells": [
  {
   "cell_type": "code",
   "execution_count": 1,
   "metadata": {},
   "outputs": [
    {
     "name": "stdout",
     "output_type": "stream",
     "text": [
      "Python 3.7.11\n"
     ]
    }
   ],
   "source": [
    "!python --version"
   ]
  },
  {
   "cell_type": "code",
   "execution_count": 1,
   "metadata": {},
   "outputs": [
    {
     "name": "stdout",
     "output_type": "stream",
     "text": [
      "/content/drive/MyDrive/afg-lightning-devel-tpu/alias-free-gan-pytorch-lightning\n"
     ]
    }
   ],
   "source": [
    "%cd /content/drive/MyDrive/afg-lightning-devel-tpu/alias-free-gan-pytorch-lightning/"
   ]
  },
  {
   "cell_type": "code",
   "execution_count": null,
   "metadata": {},
   "outputs": [],
   "source": [
    "!python install.py"
   ]
  },
  {
   "cell_type": "code",
   "execution_count": 4,
   "metadata": {},
   "outputs": [
    {
     "name": "stdout",
     "output_type": "stream",
     "text": [
      "TPU runtime\n"
     ]
    }
   ],
   "source": [
    "import os\n",
    "if os.environ['COLAB_TPU_ADDR']:\n",
    "  print('TPU runtime')\n",
    "else:\n",
    "  print('Not a TPU runtime')"
   ]
  },
  {
   "cell_type": "code",
   "execution_count": null,
   "metadata": {},
   "outputs": [],
   "source": [
    "!python scripts/trainer.py --help"
   ]
  },
  {
   "cell_type": "code",
   "execution_count": 8,
   "metadata": {},
   "outputs": [
    {
     "name": "stdout",
     "output_type": "stream",
     "text": [
      "USE_CPU_OP set to: 1\n",
      "Setting up for Colab TPUs\n",
      "COLAB_TPU_ADDR is: 10.79.131.146:8470\n",
      "TPU_IP_ADDRESS set to: 10.79.131.146\n",
      "XRT_TPU_CONFIG set to: tpu_worker;0;10.79.131.146:8470\n"
     ]
    }
   ],
   "source": [
    "!python scripts/tpu_setup.py"
   ]
  },
  {
   "cell_type": "code",
   "execution_count": null,
   "metadata": {},
   "outputs": [],
   "source": [
    "!python scripts/trainer.py \\\n",
    "    --size 256 \\\n",
    "    --dataset_path \"/content/drive/MyDrive/afg-lightning-devel-arrayfire/alias-free-gan-pytorch-lightning/datasets/album-art-256/\" \\\n",
    "    --logger True \\\n",
    "    --weights_summary \"full\" \\\n",
    "    --tpu_cores 8 \\\n",
    "    --batch 4 \\\n",
    "    --n_samples 4"
   ]
  },
  {
   "cell_type": "code",
   "execution_count": null,
   "metadata": {},
   "outputs": [],
   "source": []
  }
 ],
 "metadata": {
  "interpreter": {
   "hash": "31f2aee4e71d21fbe5cf8b01ff0e069b9275f58929596ceb00d14d90e3e16cd6"
  },
  "kernelspec": {
   "display_name": "Python 3.7.11 64-bit",
   "name": "python3"
  },
  "language_info": {
   "codemirror_mode": {
    "name": "ipython",
    "version": 3
   },
   "file_extension": ".py",
   "mimetype": "text/x-python",
   "name": "python",
   "nbconvert_exporter": "python",
   "pygments_lexer": "ipython3",
   "version": "3.7.11"
  },
  "orig_nbformat": 4
 },
 "nbformat": 4,
 "nbformat_minor": 2
}