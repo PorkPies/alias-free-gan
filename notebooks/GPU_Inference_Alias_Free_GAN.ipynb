{
  "nbformat": 4,
  "nbformat_minor": 2,
  "metadata": {
    "colab": {
      "name": "GPU_Inference_Alias_Free_GAN.ipynb",
      "provenance": [],
      "collapsed_sections": [
        "ufjH87Y7rV9h"
      ],
      "authorship_tag": "ABX9TyNe2yLXLhEIfsjmLkKEpivV",
      "include_colab_link": true
    },
    "kernelspec": {
      "name": "python3",
      "display_name": "Python 3"
    },
    "language_info": {
      "name": "python"
    },
    "accelerator": "GPU"
  },
  "cells": [
    {
      "cell_type": "markdown",
      "source": [
        "<a href=\"https://colab.research.google.com/github/duskvirkus/alias-free-gan/blob/devel/notebooks/GPU_Inference_Alias_Free_GAN.ipynb\" target=\"_parent\"><img src=\"https://colab.research.google.com/assets/colab-badge.svg\" alt=\"Open In Colab\"/></a>"
      ],
      "metadata": {
        "id": "view-in-github",
        "colab_type": "text"
      }
    },
    {
      "cell_type": "markdown",
      "source": [
        "# GPU Inference - Alias-Free GAN\n",
        "\n",
        "by duskvirkus\n",
        "\n",
        "This is a notebook for generating images and latent space walks with Alias-Free GAN on a Colab GPU instance.\n",
        "\n",
        "Repository: https://github.com/duskvirkus/alias-free-gan"
      ],
      "metadata": {
        "id": "d9FLSZsEo44l"
      }
    },
    {
      "cell_type": "markdown",
      "source": [
        "## GPU check\n",
        "\n",
        "If this fails change the runtime type in Runtime > Change runtime type > Select GPU."
      ],
      "metadata": {
        "id": "s5awrcU8pNA7"
      }
    },
    {
      "cell_type": "code",
      "execution_count": 1,
      "source": [
        "!nvidia-smi -L"
      ],
      "outputs": [
        {
          "output_type": "stream",
          "name": "stdout",
          "text": [
            "GPU 0: Tesla P100-PCIE-16GB (UUID: GPU-a508f6d5-c4b3-f5fc-ffb7-f635f3a12a41)\n"
          ]
        }
      ],
      "metadata": {
        "id": "v34gmaX8haFi",
        "colab": {
          "base_uri": "https://localhost:8080/"
        },
        "outputId": "99d50bfb-92a2-43ef-8ffa-fc755bf4fa93"
      }
    },
    {
      "cell_type": "markdown",
      "source": [
        "## Clone Repository"
      ],
      "metadata": {
        "id": "oAOXsX-FpbPZ"
      }
    },
    {
      "cell_type": "code",
      "execution_count": 2,
      "source": [
        "import os\n",
        "\n",
        "repo_name = 'alias-free-gan'\n",
        "git_repo = 'https://github.com/duskvirkus/alias-free-gan.git'\n",
        "branch_name = 'devel'\n",
        "\n",
        "working_dir = os.path.join('/content', repo_name)\n",
        "\n",
        "!git clone --branch {branch_name} {git_repo}\n",
        "%cd {repo_name}"
      ],
      "outputs": [
        {
          "output_type": "stream",
          "name": "stdout",
          "text": [
            "Cloning into 'alias-free-gan'...\n",
            "remote: Enumerating objects: 1247, done.\u001b[K\n",
            "remote: Counting objects: 100% (289/289), done.\u001b[K\n",
            "remote: Compressing objects: 100% (170/170), done.\u001b[K\n",
            "remote: Total 1247 (delta 157), reused 194 (delta 102), pack-reused 958\u001b[K\n",
            "Receiving objects: 100% (1247/1247), 73.53 MiB | 32.30 MiB/s, done.\n",
            "Resolving deltas: 100% (618/618), done.\n",
            "/content/alias-free-gan\n"
          ]
        }
      ],
      "metadata": {
        "id": "CuydfwVQpan6",
        "colab": {
          "base_uri": "https://localhost:8080/"
        },
        "outputId": "47e8d5be-1ef4-448f-adc1-b789ec4d2eb1"
      }
    },
    {
      "cell_type": "markdown",
      "source": [
        "## Connect Drive\n",
        "\n",
        "Recomended but not nesscary connect to drive to make accessing models and saving outputs easier. If you don't do this you'll have to upload and download from your colab session."
      ],
      "metadata": {
        "id": "nh3SSwEwp4jX"
      }
    },
    {
      "cell_type": "code",
      "execution_count": 3,
      "source": [
        "from google.colab import drive\n",
        "drive.mount('/content/drive')"
      ],
      "outputs": [
        {
          "output_type": "stream",
          "name": "stdout",
          "text": [
            "Mounted at /content/drive\n"
          ]
        }
      ],
      "metadata": {
        "id": "jONkPM9fqYDZ",
        "colab": {
          "base_uri": "https://localhost:8080/"
        },
        "outputId": "2ee130d2-a629-4b55-e04e-0a4a883fc660"
      }
    },
    {
      "cell_type": "markdown",
      "source": [
        "## Install Dependencies\n",
        "\n",
        "You will likely see warnings or errors. Ignore these unless you're having trouble in other cells then include the output if you file an issue.\n",
        "\n",
        "Issue Link: https://github.com/duskvirkus/alias-free-gan/issues/new"
      ],
      "metadata": {
        "id": "glk2ycNtqgXt"
      }
    },
    {
      "cell_type": "code",
      "execution_count": null,
      "source": [
        "!python install.py"
      ],
      "outputs": [],
      "metadata": {
        "id": "_LfvT2UPqjOJ"
      }
    },
    {
      "cell_type": "markdown",
      "source": [
        "## Set Model and Save Location"
      ],
      "metadata": {
        "id": "zlKPcoS3rIRf"
      }
    },
    {
      "cell_type": "code",
      "execution_count": 5,
      "source": [
        "model_path = '/content/drive/MyDrive/colab-gpu-alias-free/alias-free-gan/results/training-000005/000145-epoch-checkpoint.pt'\n",
        "model_size = 256 # 256, 512, or 1024\n",
        "out_base_path = '/content/drive/MyDrive/alias-free-experiments/testing/training-5-epoch-145/'\n",
        "import os\n",
        "os.makedirs(out_base_path, exist_ok=True)"
      ],
      "outputs": [],
      "metadata": {
        "id": "8FUCrvzHrHlT"
      }
    },
    {
      "cell_type": "markdown",
      "source": [
        "## Setup Output Counter\n",
        "\n",
        "This is will help avoid overwriting some generated files by accident."
      ],
      "metadata": {
        "id": "ufjH87Y7rV9h"
      }
    },
    {
      "cell_type": "code",
      "execution_count": 6,
      "source": [
        "def get_output_count():\n",
        "  global output_count\n",
        "  output_count += 1\n",
        "  return '-' + str(output_count)\n",
        "\n",
        "output_count = -1"
      ],
      "outputs": [],
      "metadata": {
        "id": "-MIcXlsXrZt7"
      }
    },
    {
      "cell_type": "markdown",
      "source": [
        "## Generate Single Images\n",
        "\n",
        "This will generate a folder of images with a seed range. These seeds can be used in the next section for interpolations. Checkout the help for more information on seed values."
      ],
      "metadata": {
        "id": "g1Y1KzRGsDSq"
      }
    },
    {
      "cell_type": "code",
      "execution_count": null,
      "source": [
        "!python scripts/generate_images.py --help"
      ],
      "outputs": [],
      "metadata": {
        "id": "9L88V3--tLxG"
      }
    },
    {
      "cell_type": "code",
      "execution_count": null,
      "source": [
        "out_dir = os.path.join(out_base_path, 'images' + get_output_count())\n",
        "!python scripts/generate_images.py \\\n",
        "  --size {model_size} \\\n",
        "  --load_model {model_path} \\\n",
        "  --outdir {out_dir} \\\n",
        "  --seed_stop 9"
      ],
      "outputs": [
        {
          "output_type": "stream",
          "name": "stdout",
          "text": [
            "Using Alias-Free GAN version: 1.0.0\n",
            "GPU available: True, used: True\n",
            "TPU available: False, using: 0 TPU cores\n",
            "IPU available: False, using: 0 IPUs\n",
            "LOCAL_RANK: 0 - CUDA_VISIBLE_DEVICES: [0]\n",
            "2021-08-03 13:21:01.027564: I tensorflow/stream_executor/platform/default/dso_loader.cc:53] Successfully opened dynamic library libcudart.so.11.0\n",
            "\n",
            "  | Name          | Type          | Params\n",
            "------------------------------------------------\n",
            "0 | generator     | Generator     | 17.3 M\n",
            "1 | g_ema         | Generator     | 17.3 M\n",
            "2 | discriminator | Discriminator | 28.9 M\n",
            "------------------------------------------------\n",
            "63.5 M    Trainable params\n",
            "0         Non-trainable params\n",
            "63.5 M    Total params\n",
            "253.864   Total estimated model params size (MB)\n",
            "Loading Model from: /content/drive/MyDrive/colab-gpu-alias-free/alias-free-gan/results/training-000005/000145-epoch-checkpoint.pt\n",
            "\n",
            "Generating image for seed 0 at truncation 0.750000 and saving to /content/drive/MyDrive/alias-free-experiments/testing/training-5-epoch-145/images-0/seed0000.png\n",
            "Generating image for seed 1 at truncation 0.750000 and saving to /content/drive/MyDrive/alias-free-experiments/testing/training-5-epoch-145/images-0/seed0001.png\n",
            "Generating image for seed 2 at truncation 0.750000 and saving to /content/drive/MyDrive/alias-free-experiments/testing/training-5-epoch-145/images-0/seed0002.png\n",
            "Generating image for seed 3 at truncation 0.750000 and saving to /content/drive/MyDrive/alias-free-experiments/testing/training-5-epoch-145/images-0/seed0003.png\n",
            "Generating image for seed 4 at truncation 0.750000 and saving to /content/drive/MyDrive/alias-free-experiments/testing/training-5-epoch-145/images-0/seed0004.png\n",
            "Generating image for seed 5 at truncation 0.750000 and saving to /content/drive/MyDrive/alias-free-experiments/testing/training-5-epoch-145/images-0/seed0005.png\n",
            "Generating image for seed 6 at truncation 0.750000 and saving to /content/drive/MyDrive/alias-free-experiments/testing/training-5-epoch-145/images-0/seed0006.png\n",
            "Generating image for seed 7 at truncation 0.750000 and saving to /content/drive/MyDrive/alias-free-experiments/testing/training-5-epoch-145/images-0/seed0007.png\n",
            "Generating image for seed 8 at truncation 0.750000 and saving to /content/drive/MyDrive/alias-free-experiments/testing/training-5-epoch-145/images-0/seed0008.png\n"
          ]
        }
      ],
      "metadata": {
        "id": "FKb-GsTmsUke",
        "colab": {
          "base_uri": "https://localhost:8080/"
        },
        "outputId": "ca100f94-30f7-453d-ab1a-192d9b02615c"
      }
    },
    {
      "cell_type": "markdown",
      "source": [
        "## Generate Interpolation\n",
        "\n",
        "Interpolate been seed values.\n",
        "\n",
        "**Seeds:**\n",
        "\n",
        "- If less than two seed values are provided enough will be randomly generated.\n",
        "- Be sure to start and end at the same seed if you want a loop.\n",
        "\n",
        "A seeds example\n",
        "```python\n",
        "  --seeds 10 1 32 10\n",
        "```\n",
        "\n",
        "**Easing:**\n",
        "\n",
        "You may notice there are a bunch of easing options. Linear is default. All the opitons are python ports of example code from [easings.net](https://easings.net/). Follow the link to view the shape of the different easing methods.\n",
        "\n",
        "**Notes:**\n",
        "\n",
        "- As always checkout the help for more information on all available options.\n",
        "- This automatically compensates for the distance between seed to make animation smoother."
      ],
      "metadata": {
        "id": "4Zxj8uGAuUDn"
      }
    },
    {
      "cell_type": "code",
      "execution_count": null,
      "source": [
        "!python scripts/generate_interpolation.py --help"
      ],
      "outputs": [],
      "metadata": {
        "id": "ywSskK58u0FD"
      }
    },
    {
      "cell_type": "code",
      "execution_count": null,
      "source": [
        "out_dir = os.path.join(out_base_path, 'interpolate' + get_output_count())\n",
        "!python scripts/generate_interpolation.py \\\n",
        "  --size {model_size} \\\n",
        "  --load_model {model_path} \\\n",
        "  --outdir {out_dir} \\\n",
        "  --frames 48"
      ],
      "outputs": [
        {
          "output_type": "stream",
          "name": "stdout",
          "text": [
            "Using Alias-Free GAN version: 1.0.0\n",
            "GPU available: True, used: True\n",
            "TPU available: False, using: 0 TPU cores\n",
            "IPU available: False, using: 0 IPUs\n",
            "LOCAL_RANK: 0 - CUDA_VISIBLE_DEVICES: [0]\n",
            "2021-08-03 13:23:04.066718: I tensorflow/stream_executor/platform/default/dso_loader.cc:53] Successfully opened dynamic library libcudart.so.11.0\n",
            "\n",
            "  | Name          | Type          | Params\n",
            "------------------------------------------------\n",
            "0 | generator     | Generator     | 17.3 M\n",
            "1 | g_ema         | Generator     | 17.3 M\n",
            "2 | discriminator | Discriminator | 28.9 M\n",
            "------------------------------------------------\n",
            "63.5 M    Trainable params\n",
            "0         Non-trainable params\n",
            "63.5 M    Total params\n",
            "253.864   Total estimated model params size (MB)\n",
            "Loading Model from: /content/drive/MyDrive/colab-gpu-alias-free/alias-free-gan/results/training-000005/000145-epoch-checkpoint.pt\n",
            "\n",
            "Generating 48 frames for interpolation with seeds [11246, 61205] with linear easing.\n",
            "Saving log of arguments to /content/drive/MyDrive/alias-free-experiments/testing/training-5-epoch-145/interpolate-0/args_log.txt\n",
            "Saving z_vectors to /content/drive/MyDrive/alias-free-experiments/testing/training-5-epoch-145/interpolate-0/z_vectors.pt\n",
            "Generate from vectors progress: 0/48\n",
            "Generate from vectors progress: 1/48\n",
            "Generate from vectors progress: 2/48\n",
            "Generate from vectors progress: 3/48\n",
            "Generate from vectors progress: 4/48\n",
            "Generate from vectors progress: 5/48\n",
            "Generate from vectors progress: 6/48\n",
            "Generate from vectors progress: 7/48\n",
            "Generate from vectors progress: 8/48\n",
            "Generate from vectors progress: 9/48\n",
            "Generate from vectors progress: 10/48\n",
            "Generate from vectors progress: 11/48\n",
            "Generate from vectors progress: 12/48\n",
            "Generate from vectors progress: 13/48\n",
            "Generate from vectors progress: 14/48\n",
            "Generate from vectors progress: 15/48\n",
            "Generate from vectors progress: 16/48\n",
            "Generate from vectors progress: 17/48\n",
            "Generate from vectors progress: 18/48\n",
            "Generate from vectors progress: 19/48\n",
            "Generate from vectors progress: 20/48\n",
            "Generate from vectors progress: 21/48\n",
            "Generate from vectors progress: 22/48\n",
            "Generate from vectors progress: 23/48\n",
            "Generate from vectors progress: 24/48\n",
            "Generate from vectors progress: 25/48\n",
            "Generate from vectors progress: 26/48\n",
            "Generate from vectors progress: 27/48\n",
            "Generate from vectors progress: 28/48\n",
            "Generate from vectors progress: 29/48\n",
            "Generate from vectors progress: 30/48\n",
            "Generate from vectors progress: 31/48\n",
            "Generate from vectors progress: 32/48\n",
            "Generate from vectors progress: 33/48\n",
            "Generate from vectors progress: 34/48\n",
            "Generate from vectors progress: 35/48\n",
            "Generate from vectors progress: 36/48\n",
            "Generate from vectors progress: 37/48\n",
            "Generate from vectors progress: 38/48\n",
            "Generate from vectors progress: 39/48\n",
            "Generate from vectors progress: 40/48\n",
            "Generate from vectors progress: 41/48\n",
            "Generate from vectors progress: 42/48\n",
            "Generate from vectors progress: 43/48\n",
            "Generate from vectors progress: 44/48\n",
            "Generate from vectors progress: 45/48\n",
            "Generate from vectors progress: 46/48\n",
            "Generate from vectors progress: 47/48\n"
          ]
        }
      ],
      "metadata": {
        "id": "yE5PA5t5upXO",
        "colab": {
          "base_uri": "https://localhost:8080/"
        },
        "outputId": "ead088a2-3779-4be1-dcd7-a89809378814"
      }
    },
    {
      "cell_type": "markdown",
      "source": [
        "## Circular Interpolation\n",
        "\n",
        "Generates interpolation using sin and cos.\n",
        "\n",
        "**Diameter:**\n",
        "\n",
        "Diameter value should be between 0.0 and 10.0. If two are passed, the script will treat them as a min and max and generate a random diameter for each vector dimension.\n",
        "\n",
        "It's recommended you use low values for low frame counts like 1.5 for 36 frames and much higher values for larger frame counts like 6.0 for 480 frames.\n",
        "\n",
        "**Notes:**\n",
        "\n",
        "- Seed values are used diffently from generate images and interpolate."
      ],
      "metadata": {
        "id": "WRbYCuMyxPd4"
      }
    },
    {
      "cell_type": "code",
      "execution_count": null,
      "source": [
        "!python scripts/generate_interpolation.py --help"
      ],
      "outputs": [],
      "metadata": {
        "id": "jptQsC63y2Y0"
      }
    },
    {
      "cell_type": "code",
      "execution_count": null,
      "source": [
        "out_dir = os.path.join(out_base_path, 'circular' + get_output_count())\n",
        "!python scripts/generate_interpolation.py \\\n",
        "  --method circular \\\n",
        "  --size {model_size} \\\n",
        "  --load_model {model_path} \\\n",
        "  --outdir {out_dir} \\\n",
        "  --frames 48 \\\n",
        "  --diameter 2.0"
      ],
      "outputs": [
        {
          "output_type": "stream",
          "name": "stdout",
          "text": [
            "Using Alias-Free GAN version: 1.0.0\n",
            "GPU available: True, used: True\n",
            "TPU available: False, using: 0 TPU cores\n",
            "IPU available: False, using: 0 IPUs\n",
            "LOCAL_RANK: 0 - CUDA_VISIBLE_DEVICES: [0]\n",
            "2021-08-03 13:38:19.786621: I tensorflow/stream_executor/platform/default/dso_loader.cc:53] Successfully opened dynamic library libcudart.so.11.0\n",
            "\n",
            "  | Name          | Type          | Params\n",
            "------------------------------------------------\n",
            "0 | generator     | Generator     | 17.3 M\n",
            "1 | g_ema         | Generator     | 17.3 M\n",
            "2 | discriminator | Discriminator | 28.9 M\n",
            "------------------------------------------------\n",
            "63.5 M    Trainable params\n",
            "0         Non-trainable params\n",
            "63.5 M    Total params\n",
            "253.864   Total estimated model params size (MB)\n",
            "Loading Model from: /content/drive/MyDrive/colab-gpu-alias-free/alias-free-gan/results/training-000005/000145-epoch-checkpoint.pt\n",
            "\n",
            "Generating 48 frames for circular interpolation with seed 88740.\n",
            "Saving log of arguments to /content/drive/MyDrive/alias-free-experiments/testing/training-5-epoch-145/circular-2/args_log.txt\n",
            "Saving z_vectors to /content/drive/MyDrive/alias-free-experiments/testing/training-5-epoch-145/circular-2/z_vectors.pt\n",
            "Generate from vectors progress: 0/48\n",
            "Generate from vectors progress: 1/48\n",
            "Generate from vectors progress: 2/48\n",
            "Generate from vectors progress: 3/48\n",
            "Generate from vectors progress: 4/48\n",
            "Generate from vectors progress: 5/48\n",
            "Generate from vectors progress: 6/48\n",
            "Generate from vectors progress: 7/48\n",
            "Generate from vectors progress: 8/48\n",
            "Generate from vectors progress: 9/48\n",
            "Generate from vectors progress: 10/48\n",
            "Generate from vectors progress: 11/48\n",
            "Generate from vectors progress: 12/48\n",
            "Generate from vectors progress: 13/48\n",
            "Generate from vectors progress: 14/48\n",
            "Generate from vectors progress: 15/48\n",
            "Generate from vectors progress: 16/48\n",
            "Generate from vectors progress: 17/48\n",
            "Generate from vectors progress: 18/48\n",
            "Generate from vectors progress: 19/48\n",
            "Generate from vectors progress: 20/48\n",
            "Generate from vectors progress: 21/48\n",
            "Generate from vectors progress: 22/48\n",
            "Generate from vectors progress: 23/48\n",
            "Generate from vectors progress: 24/48\n",
            "Generate from vectors progress: 25/48\n",
            "Generate from vectors progress: 26/48\n",
            "Generate from vectors progress: 27/48\n",
            "Generate from vectors progress: 28/48\n",
            "Generate from vectors progress: 29/48\n",
            "Generate from vectors progress: 30/48\n",
            "Generate from vectors progress: 31/48\n",
            "Generate from vectors progress: 32/48\n",
            "Generate from vectors progress: 33/48\n",
            "Generate from vectors progress: 34/48\n",
            "Generate from vectors progress: 35/48\n",
            "Generate from vectors progress: 36/48\n",
            "Generate from vectors progress: 37/48\n",
            "Generate from vectors progress: 38/48\n",
            "Generate from vectors progress: 39/48\n",
            "Generate from vectors progress: 40/48\n",
            "Generate from vectors progress: 41/48\n",
            "Generate from vectors progress: 42/48\n",
            "Generate from vectors progress: 43/48\n",
            "Generate from vectors progress: 44/48\n",
            "Generate from vectors progress: 45/48\n",
            "Generate from vectors progress: 46/48\n",
            "Generate from vectors progress: 47/48\n"
          ]
        }
      ],
      "metadata": {
        "id": "YsBl9maGxwrY",
        "colab": {
          "base_uri": "https://localhost:8080/"
        },
        "outputId": "82288435-7a21-4fb2-c6a5-1972e7e7fded"
      }
    },
    {
      "cell_type": "markdown",
      "source": [
        "## Simplex Noise\n",
        "\n",
        "Generates a interpolation loop useing open simplex noise.\n",
        "\n",
        "**Diameter:**\n",
        "\n",
        "No limits on diameter size. Two diameter values will be treated as min and max.\n",
        "\n",
        "Same thing as above where smaller diameter values for low frame count and higher for more frames.\n",
        "\n",
        "**Notes:**\n",
        "\n",
        "- Seed values are used diffently from generate images and interpolate."
      ],
      "metadata": {
        "id": "q3Pu1KZ0zIAA"
      }
    },
    {
      "cell_type": "code",
      "execution_count": null,
      "source": [
        "!python scripts/generate_interpolation.py --help"
      ],
      "outputs": [],
      "metadata": {
        "id": "bZmVVSQDzG37"
      }
    },
    {
      "cell_type": "code",
      "execution_count": null,
      "source": [
        "out_dir = os.path.join(out_base_path, 'simplex_noise' + get_output_count())\n",
        "!python scripts/generate_interpolation.py \\\n",
        "  --method simplex_noise \\\n",
        "  --size {model_size} \\\n",
        "  --load_model {model_path} \\\n",
        "  --outdir {out_dir} \\\n",
        "  --frames 48 \\\n",
        "  --diameter 0.3"
      ],
      "outputs": [
        {
          "output_type": "stream",
          "name": "stdout",
          "text": [
            "Using Alias-Free GAN version: 1.0.0\n",
            "GPU available: True, used: True\n",
            "TPU available: False, using: 0 TPU cores\n",
            "IPU available: False, using: 0 IPUs\n",
            "LOCAL_RANK: 0 - CUDA_VISIBLE_DEVICES: [0]\n",
            "2021-08-03 13:45:48.126001: I tensorflow/stream_executor/platform/default/dso_loader.cc:53] Successfully opened dynamic library libcudart.so.11.0\n",
            "\n",
            "  | Name          | Type          | Params\n",
            "------------------------------------------------\n",
            "0 | generator     | Generator     | 17.3 M\n",
            "1 | g_ema         | Generator     | 17.3 M\n",
            "2 | discriminator | Discriminator | 28.9 M\n",
            "------------------------------------------------\n",
            "63.5 M    Trainable params\n",
            "0         Non-trainable params\n",
            "63.5 M    Total params\n",
            "253.864   Total estimated model params size (MB)\n",
            "Loading Model from: /content/drive/MyDrive/colab-gpu-alias-free/alias-free-gan/results/training-000005/000145-epoch-checkpoint.pt\n",
            "\n",
            "Generating 48 frames for simplex noise interpolation with seed 44692.\n",
            "Saving log of arguments to /content/drive/MyDrive/alias-free-experiments/testing/training-5-epoch-145/simplex_noise-3/args_log.txt\n",
            "Saving z_vectors to /content/drive/MyDrive/alias-free-experiments/testing/training-5-epoch-145/simplex_noise-3/z_vectors.pt\n",
            "Generate from vectors progress: 0/48\n",
            "Generate from vectors progress: 1/48\n",
            "Generate from vectors progress: 2/48\n",
            "Generate from vectors progress: 3/48\n",
            "Generate from vectors progress: 4/48\n",
            "Generate from vectors progress: 5/48\n",
            "Generate from vectors progress: 6/48\n",
            "Generate from vectors progress: 7/48\n",
            "Generate from vectors progress: 8/48\n",
            "Generate from vectors progress: 9/48\n",
            "Generate from vectors progress: 10/48\n",
            "Generate from vectors progress: 11/48\n",
            "Generate from vectors progress: 12/48\n",
            "Generate from vectors progress: 13/48\n",
            "Generate from vectors progress: 14/48\n",
            "Generate from vectors progress: 15/48\n",
            "Generate from vectors progress: 16/48\n",
            "Generate from vectors progress: 17/48\n",
            "Generate from vectors progress: 18/48\n",
            "Generate from vectors progress: 19/48\n",
            "Generate from vectors progress: 20/48\n",
            "Generate from vectors progress: 21/48\n",
            "Generate from vectors progress: 22/48\n",
            "Generate from vectors progress: 23/48\n",
            "Generate from vectors progress: 24/48\n",
            "Generate from vectors progress: 25/48\n",
            "Generate from vectors progress: 26/48\n",
            "Generate from vectors progress: 27/48\n",
            "Generate from vectors progress: 28/48\n",
            "Generate from vectors progress: 29/48\n",
            "Generate from vectors progress: 30/48\n",
            "Generate from vectors progress: 31/48\n",
            "Generate from vectors progress: 32/48\n",
            "Generate from vectors progress: 33/48\n",
            "Generate from vectors progress: 34/48\n",
            "Generate from vectors progress: 35/48\n",
            "Generate from vectors progress: 36/48\n",
            "Generate from vectors progress: 37/48\n",
            "Generate from vectors progress: 38/48\n",
            "Generate from vectors progress: 39/48\n",
            "Generate from vectors progress: 40/48\n",
            "Generate from vectors progress: 41/48\n",
            "Generate from vectors progress: 42/48\n",
            "Generate from vectors progress: 43/48\n",
            "Generate from vectors progress: 44/48\n",
            "Generate from vectors progress: 45/48\n",
            "Generate from vectors progress: 46/48\n",
            "Generate from vectors progress: 47/48\n"
          ]
        }
      ],
      "metadata": {
        "id": "R4mckIeEz5qh",
        "colab": {
          "base_uri": "https://localhost:8080/"
        },
        "outputId": "0b92b717-6e4d-4e86-c40d-2d70e3aaf630"
      }
    },
    {
      "cell_type": "markdown",
      "source": [
        "## Repeat / Load Interpolation\n",
        "\n",
        "By default each interpolation saves a z_vectors.pt file which can be reloaded to repeat the interpolation. As long as the models have the same style dimensions you can use these across different models.\n",
        "\n",
        "You can also use another method to generate them. The files follow the format of \n",
        "```python\n",
        "torch.save({\n",
        "  'z_vectors': ## An array of numpy.arrays with shape (1, style_dim).\n",
        "    ## style_dim is typically 512. (aliasfreeganinstance.generator.style_dim)\n",
        "    ## Values in these numpy.arrays range between 0 and 1\n",
        "  })\n",
        "```"
      ],
      "metadata": {
        "id": "Hyc3vsCC0HIS"
      }
    },
    {
      "cell_type": "code",
      "execution_count": null,
      "source": [
        "!python scripts/generate_interpolation.py --help"
      ],
      "outputs": [],
      "metadata": {
        "id": "GCsnEGkO0Gow"
      }
    },
    {
      "cell_type": "code",
      "execution_count": null,
      "source": [
        "out_dir = os.path.join(out_base_path, 'z_vector_load' + get_output_count())\n",
        "!python scripts/generate_interpolation.py \\\n",
        "  --method load_z_vectors \\\n",
        "  --size {model_size} \\\n",
        "  --load_model {model_path} \\\n",
        "  --outdir {out_dir} \\\n",
        "  --path_to_z_vectors '/content/drive/MyDrive/alias-free-experiments/testing/training-5-epoch-145/simplex_noise-3/z_vectors.pt'"
      ],
      "outputs": [
        {
          "output_type": "stream",
          "name": "stdout",
          "text": [
            "Using Alias-Free GAN version: 1.0.0\n",
            "GPU available: True, used: True\n",
            "TPU available: False, using: 0 TPU cores\n",
            "IPU available: False, using: 0 IPUs\n",
            "LOCAL_RANK: 0 - CUDA_VISIBLE_DEVICES: [0]\n",
            "2021-08-03 13:53:01.508180: I tensorflow/stream_executor/platform/default/dso_loader.cc:53] Successfully opened dynamic library libcudart.so.11.0\n",
            "\n",
            "  | Name          | Type          | Params\n",
            "------------------------------------------------\n",
            "0 | generator     | Generator     | 17.3 M\n",
            "1 | g_ema         | Generator     | 17.3 M\n",
            "2 | discriminator | Discriminator | 28.9 M\n",
            "------------------------------------------------\n",
            "63.5 M    Trainable params\n",
            "0         Non-trainable params\n",
            "63.5 M    Total params\n",
            "253.864   Total estimated model params size (MB)\n",
            "Loading Model from: /content/drive/MyDrive/colab-gpu-alias-free/alias-free-gan/results/training-000005/000145-epoch-checkpoint.pt\n",
            "\n",
            "Saving log of arguments to /content/drive/MyDrive/alias-free-experiments/testing/training-5-epoch-145/z_vector_load-4/args_log.txt\n",
            "Skipping save z_vectors because load_z_vectors is the selected method.\n",
            "Generate from vectors progress: 0/48\n",
            "Generate from vectors progress: 1/48\n",
            "Generate from vectors progress: 2/48\n",
            "Generate from vectors progress: 3/48\n",
            "Generate from vectors progress: 4/48\n",
            "Generate from vectors progress: 5/48\n",
            "Generate from vectors progress: 6/48\n",
            "Generate from vectors progress: 7/48\n",
            "Generate from vectors progress: 8/48\n",
            "Generate from vectors progress: 9/48\n",
            "Generate from vectors progress: 10/48\n",
            "Generate from vectors progress: 11/48\n",
            "Generate from vectors progress: 12/48\n",
            "Generate from vectors progress: 13/48\n",
            "Generate from vectors progress: 14/48\n",
            "Generate from vectors progress: 15/48\n",
            "Generate from vectors progress: 16/48\n",
            "Generate from vectors progress: 17/48\n",
            "Generate from vectors progress: 18/48\n",
            "Generate from vectors progress: 19/48\n",
            "Generate from vectors progress: 20/48\n",
            "Generate from vectors progress: 21/48\n",
            "Generate from vectors progress: 22/48\n",
            "Generate from vectors progress: 23/48\n",
            "Generate from vectors progress: 24/48\n",
            "Generate from vectors progress: 25/48\n",
            "Generate from vectors progress: 26/48\n",
            "Generate from vectors progress: 27/48\n",
            "Generate from vectors progress: 28/48\n",
            "Generate from vectors progress: 29/48\n",
            "Generate from vectors progress: 30/48\n",
            "Generate from vectors progress: 31/48\n",
            "Generate from vectors progress: 32/48\n",
            "Generate from vectors progress: 33/48\n",
            "Generate from vectors progress: 34/48\n",
            "Generate from vectors progress: 35/48\n",
            "Generate from vectors progress: 36/48\n",
            "Generate from vectors progress: 37/48\n",
            "Generate from vectors progress: 38/48\n",
            "Generate from vectors progress: 39/48\n",
            "Generate from vectors progress: 40/48\n",
            "Generate from vectors progress: 41/48\n",
            "Generate from vectors progress: 42/48\n",
            "Generate from vectors progress: 43/48\n",
            "Generate from vectors progress: 44/48\n",
            "Generate from vectors progress: 45/48\n",
            "Generate from vectors progress: 46/48\n",
            "Generate from vectors progress: 47/48\n"
          ]
        }
      ],
      "metadata": {
        "id": "2lIpPNi711XR",
        "colab": {
          "base_uri": "https://localhost:8080/"
        },
        "outputId": "25de0c0e-d199-4607-997f-092409670dc7"
      }
    },
    {
      "cell_type": "markdown",
      "source": [
        "## Rosinality Translate Script\n",
        "\n",
        "Creates animation with translation on the same latent.\n",
        "\n",
        "Run the first cell to install latest version of ffmpeg for the video codacs. Required if using `--video True` argument."
      ],
      "metadata": {
        "id": "e364fod5Ap34"
      }
    },
    {
      "cell_type": "code",
      "execution_count": null,
      "source": [
        "!python scripts/rosinality_generate.py --help"
      ],
      "outputs": [],
      "metadata": {
        "id": "VSR4ZhHqKqw3"
      }
    },
    {
      "cell_type": "code",
      "execution_count": 8,
      "source": [
        "out_dir = os.path.join(out_base_path, 'rosinality_translate' + get_output_count())\n",
        "!python scripts/rosinality_generate.py \\\n",
        "    --size {model_size} \\\n",
        "    --outdir {out_dir} \\\n",
        "    --n_frame 120 \\\n",
        "    --n_img 1 \\\n",
        "    --frames True \\\n",
        "    {model_path}"
      ],
      "outputs": [
        {
          "output_type": "stream",
          "name": "stdout",
          "text": [
            "Using Alias-Free GAN version: 1.0.0\n",
            "GPU available: True, used: True\n",
            "TPU available: False, using: 0 TPU cores\n",
            "IPU available: False, using: 0 IPUs\n",
            "LOCAL_RANK: 0 - CUDA_VISIBLE_DEVICES: [0]\n",
            "\n",
            "  | Name          | Type          | Params\n",
            "------------------------------------------------\n",
            "0 | generator     | Generator     | 17.3 M\n",
            "1 | g_ema         | Generator     | 17.3 M\n",
            "2 | discriminator | Discriminator | 28.9 M\n",
            "------------------------------------------------\n",
            "63.5 M    Trainable params\n",
            "0         Non-trainable params\n",
            "63.5 M    Total params\n",
            "253.864   Total estimated model params size (MB)\n",
            "Loading Model from: /content/drive/MyDrive/colab-gpu-alias-free/alias-free-gan/results/training-000005/000145-epoch-checkpoint.pt\n",
            "\n",
            "100% 120/120 [20:45<00:00, 10.38s/it]\n",
            "OpenCV: FFMPEG: tag 0x5634504d/'MP4V' is not supported with codec id 12 and format 'mp4 / MP4 (MPEG-4 Part 14)'\n",
            "OpenCV: FFMPEG: fallback to use tag 0x7634706d/'mp4v'\n",
            "100% 120/120 [00:00<00:00, 1022.33it/s]\n"
          ]
        }
      ],
      "metadata": {
        "colab": {
          "base_uri": "https://localhost:8080/"
        },
        "id": "alSYMck-ApYr",
        "outputId": "4265eaa4-247a-4380-8f05-225b3dc90ab8"
      }
    }
  ]
}