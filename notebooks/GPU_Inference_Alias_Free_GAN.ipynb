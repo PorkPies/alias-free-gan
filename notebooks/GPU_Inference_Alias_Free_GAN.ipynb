{
  "nbformat": 4,
  "nbformat_minor": 2,
  "metadata": {
    "accelerator": "GPU",
    "colab": {
      "name": "GPU_Inference_Alias_Free_GAN.ipynb",
      "provenance": [],
      "collapsed_sections": [
        "ufjH87Y7rV9h"
      ],
      "authorship_tag": "ABX9TyOefAt7rTw6GjouY45e5U86",
      "include_colab_link": true
    },
    "kernelspec": {
      "display_name": "Python 3",
      "name": "python3"
    },
    "language_info": {
      "name": "python"
    }
  },
  "cells": [
    {
      "cell_type": "markdown",
      "source": [
        "<a href=\"https://colab.research.google.com/github/duskvirkus/alias-free-gan/blob/stable/notebooks/GPU_Inference_Alias_Free_GAN.ipynb\" target=\"_parent\"><img src=\"https://colab.research.google.com/assets/colab-badge.svg\" alt=\"Open In Colab\"/></a>"
      ],
      "metadata": {
        "id": "view-in-github",
        "colab_type": "text"
      }
    },
    {
      "cell_type": "markdown",
      "source": [
        "# GPU Inference - Alias-Free GAN\n",
        "\n",
        "by duskvirkus\n",
        "\n",
        "This is a notebook for generating images and latent space walks with Alias-Free GAN on a Colab GPU instance.\n",
        "\n",
        "Repository: https://github.com/duskvirkus/alias-free-gan"
      ],
      "metadata": {
        "id": "d9FLSZsEo44l"
      }
    },
    {
      "cell_type": "markdown",
      "source": [
        "## GPU check\n",
        "\n",
        "If this fails change the runtime type in Runtime > Change runtime type > Select GPU."
      ],
      "metadata": {
        "id": "s5awrcU8pNA7"
      }
    },
    {
      "cell_type": "code",
      "execution_count": null,
      "source": [
        "!nvidia-smi -L"
      ],
      "outputs": [
        {
          "output_type": "stream",
          "name": "stdout",
          "text": [
            "GPU 0: Tesla V100-SXM2-16GB (UUID: GPU-e2fbc5dc-47d4-f15a-5792-1e21ddf6ad0e)\n"
          ]
        }
      ],
      "metadata": {
        "colab": {
          "base_uri": "https://localhost:8080/"
        },
        "id": "v34gmaX8haFi",
        "outputId": "44a24ce0-af28-46c9-fe73-5b9201ef542d"
      }
    },
    {
      "cell_type": "markdown",
      "source": [
        "## Clone Repository"
      ],
      "metadata": {
        "id": "oAOXsX-FpbPZ"
      }
    },
    {
      "cell_type": "code",
      "execution_count": null,
      "source": [
        "import os\n",
        "\n",
        "repo_name = 'alias-free-gan'\n",
        "git_repo = 'https://github.com/duskvirkus/alias-free-gan.git'\n",
        "branch_name = 'stable'\n",
        "\n",
        "working_dir = os.path.join('/content', repo_name)\n",
        "\n",
        "!git clone --branch {branch_name} {git_repo}\n",
        "%cd {repo_name}"
      ],
      "outputs": [
        {
          "output_type": "stream",
          "name": "stdout",
          "text": [
            "Cloning into 'alias-free-gan'...\n",
            "remote: Enumerating objects: 1364, done.\u001b[K\n",
            "remote: Counting objects: 100% (406/406), done.\u001b[K\n",
            "remote: Compressing objects: 100% (182/182), done.\u001b[K\n",
            "remote: Total 1364 (delta 227), reused 340 (delta 204), pack-reused 958\u001b[K\n",
            "Receiving objects: 100% (1364/1364), 112.70 MiB | 23.30 MiB/s, done.\n",
            "Resolving deltas: 100% (688/688), done.\n",
            "/content/alias-free-gan\n"
          ]
        }
      ],
      "metadata": {
        "colab": {
          "base_uri": "https://localhost:8080/"
        },
        "id": "CuydfwVQpan6",
        "outputId": "15be1193-9213-4c20-fd40-04b8979186d1"
      }
    },
    {
      "cell_type": "markdown",
      "source": [
        "## Connect Drive\n",
        "\n",
        "Recomended but not nesscary connect to drive to make accessing models and saving outputs easier. If you don't do this you'll have to upload and download from your colab session."
      ],
      "metadata": {
        "id": "nh3SSwEwp4jX"
      }
    },
    {
      "cell_type": "code",
      "execution_count": null,
      "source": [
        "from google.colab import drive\n",
        "drive.mount('/content/drive')"
      ],
      "outputs": [
        {
          "output_type": "stream",
          "name": "stdout",
          "text": [
            "Mounted at /content/drive\n"
          ]
        }
      ],
      "metadata": {
        "colab": {
          "base_uri": "https://localhost:8080/"
        },
        "id": "jONkPM9fqYDZ",
        "outputId": "a2382b00-ac32-42b7-e4c8-5db7831e2688"
      }
    },
    {
      "cell_type": "markdown",
      "source": [
        "## Install Dependencies\n",
        "\n",
        "You will may see warnings or errors. Ignore these unless you're having trouble in other cells then include the output if you file an issue.\n",
        "\n",
        "Issue Link: https://github.com/duskvirkus/alias-free-gan/issues/new"
      ],
      "metadata": {
        "id": "glk2ycNtqgXt"
      }
    },
    {
      "cell_type": "code",
      "execution_count": null,
      "source": [
        "!python install.py"
      ],
      "outputs": [
        {
          "output_type": "stream",
          "name": "stdout",
          "text": [
            "Collecting pytorch-lightning\n",
            "  Downloading pytorch_lightning-1.4.4-py3-none-any.whl (918 kB)\n",
            "\u001b[?25l\r\u001b[K     |▍                               | 10 kB 39.6 MB/s eta 0:00:01\r\u001b[K     |▊                               | 20 kB 39.3 MB/s eta 0:00:01\r\u001b[K     |█                               | 30 kB 42.9 MB/s eta 0:00:01\r\u001b[K     |█▍                              | 40 kB 28.7 MB/s eta 0:00:01\r\u001b[K     |█▉                              | 51 kB 18.2 MB/s eta 0:00:01\r\u001b[K     |██▏                             | 61 kB 15.3 MB/s eta 0:00:01\r\u001b[K     |██▌                             | 71 kB 14.3 MB/s eta 0:00:01\r\u001b[K     |██▉                             | 81 kB 15.8 MB/s eta 0:00:01\r\u001b[K     |███▏                            | 92 kB 14.7 MB/s eta 0:00:01\r\u001b[K     |███▋                            | 102 kB 13.4 MB/s eta 0:00:01\r\u001b[K     |████                            | 112 kB 13.4 MB/s eta 0:00:01\r\u001b[K     |████▎                           | 122 kB 13.4 MB/s eta 0:00:01\r\u001b[K     |████▋                           | 133 kB 13.4 MB/s eta 0:00:01\r\u001b[K     |█████                           | 143 kB 13.4 MB/s eta 0:00:01\r\u001b[K     |█████▍                          | 153 kB 13.4 MB/s eta 0:00:01\r\u001b[K     |█████▊                          | 163 kB 13.4 MB/s eta 0:00:01\r\u001b[K     |██████                          | 174 kB 13.4 MB/s eta 0:00:01\r\u001b[K     |██████▍                         | 184 kB 13.4 MB/s eta 0:00:01\r\u001b[K     |██████▉                         | 194 kB 13.4 MB/s eta 0:00:01\r\u001b[K     |███████▏                        | 204 kB 13.4 MB/s eta 0:00:01\r\u001b[K     |███████▌                        | 215 kB 13.4 MB/s eta 0:00:01\r\u001b[K     |███████▉                        | 225 kB 13.4 MB/s eta 0:00:01\r\u001b[K     |████████▏                       | 235 kB 13.4 MB/s eta 0:00:01\r\u001b[K     |████████▋                       | 245 kB 13.4 MB/s eta 0:00:01\r\u001b[K     |█████████                       | 256 kB 13.4 MB/s eta 0:00:01\r\u001b[K     |█████████▎                      | 266 kB 13.4 MB/s eta 0:00:01\r\u001b[K     |█████████▋                      | 276 kB 13.4 MB/s eta 0:00:01\r\u001b[K     |██████████                      | 286 kB 13.4 MB/s eta 0:00:01\r\u001b[K     |██████████▍                     | 296 kB 13.4 MB/s eta 0:00:01\r\u001b[K     |██████████▊                     | 307 kB 13.4 MB/s eta 0:00:01\r\u001b[K     |███████████                     | 317 kB 13.4 MB/s eta 0:00:01\r\u001b[K     |███████████▍                    | 327 kB 13.4 MB/s eta 0:00:01\r\u001b[K     |███████████▊                    | 337 kB 13.4 MB/s eta 0:00:01\r\u001b[K     |████████████▏                   | 348 kB 13.4 MB/s eta 0:00:01\r\u001b[K     |████████████▌                   | 358 kB 13.4 MB/s eta 0:00:01\r\u001b[K     |████████████▉                   | 368 kB 13.4 MB/s eta 0:00:01\r\u001b[K     |█████████████▏                  | 378 kB 13.4 MB/s eta 0:00:01\r\u001b[K     |█████████████▋                  | 389 kB 13.4 MB/s eta 0:00:01\r\u001b[K     |██████████████                  | 399 kB 13.4 MB/s eta 0:00:01\r\u001b[K     |██████████████▎                 | 409 kB 13.4 MB/s eta 0:00:01\r\u001b[K     |██████████████▋                 | 419 kB 13.4 MB/s eta 0:00:01\r\u001b[K     |███████████████                 | 430 kB 13.4 MB/s eta 0:00:01\r\u001b[K     |███████████████▍                | 440 kB 13.4 MB/s eta 0:00:01\r\u001b[K     |███████████████▊                | 450 kB 13.4 MB/s eta 0:00:01\r\u001b[K     |████████████████                | 460 kB 13.4 MB/s eta 0:00:01\r\u001b[K     |████████████████▍               | 471 kB 13.4 MB/s eta 0:00:01\r\u001b[K     |████████████████▊               | 481 kB 13.4 MB/s eta 0:00:01\r\u001b[K     |█████████████████▏              | 491 kB 13.4 MB/s eta 0:00:01\r\u001b[K     |█████████████████▌              | 501 kB 13.4 MB/s eta 0:00:01\r\u001b[K     |█████████████████▉              | 512 kB 13.4 MB/s eta 0:00:01\r\u001b[K     |██████████████████▏             | 522 kB 13.4 MB/s eta 0:00:01\r\u001b[K     |██████████████████▌             | 532 kB 13.4 MB/s eta 0:00:01\r\u001b[K     |███████████████████             | 542 kB 13.4 MB/s eta 0:00:01\r\u001b[K     |███████████████████▎            | 552 kB 13.4 MB/s eta 0:00:01\r\u001b[K     |███████████████████▋            | 563 kB 13.4 MB/s eta 0:00:01\r\u001b[K     |████████████████████            | 573 kB 13.4 MB/s eta 0:00:01\r\u001b[K     |████████████████████▍           | 583 kB 13.4 MB/s eta 0:00:01\r\u001b[K     |████████████████████▊           | 593 kB 13.4 MB/s eta 0:00:01\r\u001b[K     |█████████████████████           | 604 kB 13.4 MB/s eta 0:00:01\r\u001b[K     |█████████████████████▍          | 614 kB 13.4 MB/s eta 0:00:01\r\u001b[K     |█████████████████████▊          | 624 kB 13.4 MB/s eta 0:00:01\r\u001b[K     |██████████████████████▏         | 634 kB 13.4 MB/s eta 0:00:01\r\u001b[K     |██████████████████████▌         | 645 kB 13.4 MB/s eta 0:00:01\r\u001b[K     |██████████████████████▉         | 655 kB 13.4 MB/s eta 0:00:01\r\u001b[K     |███████████████████████▏        | 665 kB 13.4 MB/s eta 0:00:01\r\u001b[K     |███████████████████████▌        | 675 kB 13.4 MB/s eta 0:00:01\r\u001b[K     |████████████████████████        | 686 kB 13.4 MB/s eta 0:00:01\r\u001b[K     |████████████████████████▎       | 696 kB 13.4 MB/s eta 0:00:01\r\u001b[K     |████████████████████████▋       | 706 kB 13.4 MB/s eta 0:00:01\r\u001b[K     |█████████████████████████       | 716 kB 13.4 MB/s eta 0:00:01\r\u001b[K     |█████████████████████████▎      | 727 kB 13.4 MB/s eta 0:00:01\r\u001b[K     |█████████████████████████▊      | 737 kB 13.4 MB/s eta 0:00:01\r\u001b[K     |██████████████████████████      | 747 kB 13.4 MB/s eta 0:00:01\r\u001b[K     |██████████████████████████▍     | 757 kB 13.4 MB/s eta 0:00:01\r\u001b[K     |██████████████████████████▊     | 768 kB 13.4 MB/s eta 0:00:01\r\u001b[K     |███████████████████████████▏    | 778 kB 13.4 MB/s eta 0:00:01\r\u001b[K     |███████████████████████████▌    | 788 kB 13.4 MB/s eta 0:00:01\r\u001b[K     |███████████████████████████▉    | 798 kB 13.4 MB/s eta 0:00:01\r\u001b[K     |████████████████████████████▏   | 808 kB 13.4 MB/s eta 0:00:01\r\u001b[K     |████████████████████████████▌   | 819 kB 13.4 MB/s eta 0:00:01\r\u001b[K     |█████████████████████████████   | 829 kB 13.4 MB/s eta 0:00:01\r\u001b[K     |█████████████████████████████▎  | 839 kB 13.4 MB/s eta 0:00:01\r\u001b[K     |█████████████████████████████▋  | 849 kB 13.4 MB/s eta 0:00:01\r\u001b[K     |██████████████████████████████  | 860 kB 13.4 MB/s eta 0:00:01\r\u001b[K     |██████████████████████████████▎ | 870 kB 13.4 MB/s eta 0:00:01\r\u001b[K     |██████████████████████████████▊ | 880 kB 13.4 MB/s eta 0:00:01\r\u001b[K     |███████████████████████████████ | 890 kB 13.4 MB/s eta 0:00:01\r\u001b[K     |███████████████████████████████▍| 901 kB 13.4 MB/s eta 0:00:01\r\u001b[K     |███████████████████████████████▊| 911 kB 13.4 MB/s eta 0:00:01\r\u001b[K     |████████████████████████████████| 918 kB 13.4 MB/s \n",
            "\u001b[?25hCollecting pytorch-lightning-bolts\n",
            "  Downloading pytorch_lightning_bolts-0.3.2-py3-none-any.whl (253 kB)\n",
            "\u001b[K     |████████████████████████████████| 253 kB 65.7 MB/s \n",
            "\u001b[?25hCollecting wandb\n",
            "  Downloading wandb-0.12.1-py2.py3-none-any.whl (1.7 MB)\n",
            "\u001b[K     |████████████████████████████████| 1.7 MB 57.5 MB/s \n",
            "\u001b[?25hCollecting ninja\n",
            "  Downloading ninja-1.10.2-py2.py3-none-manylinux_2_5_x86_64.manylinux1_x86_64.whl (108 kB)\n",
            "\u001b[K     |████████████████████████████████| 108 kB 65.0 MB/s \n",
            "\u001b[?25hRequirement already satisfied: pytest in /usr/local/lib/python3.7/dist-packages (3.6.4)\n",
            "Collecting pydantic\n",
            "  Downloading pydantic-1.8.2-cp37-cp37m-manylinux2014_x86_64.whl (10.1 MB)\n",
            "\u001b[K     |████████████████████████████████| 10.1 MB 50.0 MB/s \n",
            "\u001b[?25hCollecting pyhocon\n",
            "  Downloading pyhocon-0.3.58.tar.gz (114 kB)\n",
            "\u001b[K     |████████████████████████████████| 114 kB 68.9 MB/s \n",
            "\u001b[?25hCollecting opencv-python-headless\n",
            "  Downloading opencv_python_headless-4.5.3.56-cp37-cp37m-manylinux2014_x86_64.whl (37.1 MB)\n",
            "\u001b[K     |████████████████████████████████| 37.1 MB 1.2 MB/s \n",
            "\u001b[?25hCollecting opensimplex\n",
            "  Downloading opensimplex-0.3-py3-none-any.whl (15 kB)\n",
            "Requirement already satisfied: tqdm>=4.41.0 in /usr/local/lib/python3.7/dist-packages (from pytorch-lightning) (4.62.0)\n",
            "Requirement already satisfied: torch>=1.6 in /usr/local/lib/python3.7/dist-packages (from pytorch-lightning) (1.9.0+cu102)\n",
            "Collecting fsspec[http]!=2021.06.0,>=2021.05.0\n",
            "  Downloading fsspec-2021.7.0-py3-none-any.whl (118 kB)\n",
            "\u001b[K     |████████████████████████████████| 118 kB 71.6 MB/s \n",
            "\u001b[?25hCollecting PyYAML>=5.1\n",
            "  Downloading PyYAML-5.4.1-cp37-cp37m-manylinux1_x86_64.whl (636 kB)\n",
            "\u001b[K     |████████████████████████████████| 636 kB 49.9 MB/s \n",
            "\u001b[?25hRequirement already satisfied: tensorboard>=2.2.0 in /usr/local/lib/python3.7/dist-packages (from pytorch-lightning) (2.6.0)\n",
            "Requirement already satisfied: typing-extensions in /usr/local/lib/python3.7/dist-packages (from pytorch-lightning) (3.7.4.3)\n",
            "Collecting pyDeprecate==0.3.1\n",
            "  Downloading pyDeprecate-0.3.1-py3-none-any.whl (10 kB)\n",
            "Requirement already satisfied: packaging>=17.0 in /usr/local/lib/python3.7/dist-packages (from pytorch-lightning) (21.0)\n",
            "Collecting torchmetrics>=0.4.0\n",
            "  Downloading torchmetrics-0.5.0-py3-none-any.whl (272 kB)\n",
            "\u001b[K     |████████████████████████████████| 272 kB 72.6 MB/s \n",
            "\u001b[?25hCollecting future>=0.17.1\n",
            "  Downloading future-0.18.2.tar.gz (829 kB)\n",
            "\u001b[K     |████████████████████████████████| 829 kB 58.2 MB/s \n",
            "\u001b[?25hRequirement already satisfied: numpy>=1.17.2 in /usr/local/lib/python3.7/dist-packages (from pytorch-lightning) (1.19.5)\n",
            "Requirement already satisfied: requests in /usr/local/lib/python3.7/dist-packages (from fsspec[http]!=2021.06.0,>=2021.05.0->pytorch-lightning) (2.23.0)\n",
            "Collecting aiohttp\n",
            "  Downloading aiohttp-3.7.4.post0-cp37-cp37m-manylinux2014_x86_64.whl (1.3 MB)\n",
            "\u001b[K     |████████████████████████████████| 1.3 MB 46.6 MB/s \n",
            "\u001b[?25hRequirement already satisfied: pyparsing>=2.0.2 in /usr/local/lib/python3.7/dist-packages (from packaging>=17.0->pytorch-lightning) (2.4.7)\n",
            "Requirement already satisfied: tensorboard-plugin-wit>=1.6.0 in /usr/local/lib/python3.7/dist-packages (from tensorboard>=2.2.0->pytorch-lightning) (1.8.0)\n",
            "Requirement already satisfied: google-auth-oauthlib<0.5,>=0.4.1 in /usr/local/lib/python3.7/dist-packages (from tensorboard>=2.2.0->pytorch-lightning) (0.4.5)\n",
            "Requirement already satisfied: wheel>=0.26 in /usr/local/lib/python3.7/dist-packages (from tensorboard>=2.2.0->pytorch-lightning) (0.37.0)\n",
            "Requirement already satisfied: tensorboard-data-server<0.7.0,>=0.6.0 in /usr/local/lib/python3.7/dist-packages (from tensorboard>=2.2.0->pytorch-lightning) (0.6.1)\n",
            "Requirement already satisfied: grpcio>=1.24.3 in /usr/local/lib/python3.7/dist-packages (from tensorboard>=2.2.0->pytorch-lightning) (1.39.0)\n",
            "Requirement already satisfied: markdown>=2.6.8 in /usr/local/lib/python3.7/dist-packages (from tensorboard>=2.2.0->pytorch-lightning) (3.3.4)\n",
            "Requirement already satisfied: absl-py>=0.4 in /usr/local/lib/python3.7/dist-packages (from tensorboard>=2.2.0->pytorch-lightning) (0.12.0)\n",
            "Requirement already satisfied: setuptools>=41.0.0 in /usr/local/lib/python3.7/dist-packages (from tensorboard>=2.2.0->pytorch-lightning) (57.4.0)\n",
            "Requirement already satisfied: werkzeug>=0.11.15 in /usr/local/lib/python3.7/dist-packages (from tensorboard>=2.2.0->pytorch-lightning) (1.0.1)\n",
            "Requirement already satisfied: protobuf>=3.6.0 in /usr/local/lib/python3.7/dist-packages (from tensorboard>=2.2.0->pytorch-lightning) (3.17.3)\n",
            "Requirement already satisfied: google-auth<2,>=1.6.3 in /usr/local/lib/python3.7/dist-packages (from tensorboard>=2.2.0->pytorch-lightning) (1.34.0)\n",
            "Requirement already satisfied: six in /usr/local/lib/python3.7/dist-packages (from absl-py>=0.4->tensorboard>=2.2.0->pytorch-lightning) (1.15.0)\n",
            "Requirement already satisfied: cachetools<5.0,>=2.0.0 in /usr/local/lib/python3.7/dist-packages (from google-auth<2,>=1.6.3->tensorboard>=2.2.0->pytorch-lightning) (4.2.2)\n",
            "Requirement already satisfied: pyasn1-modules>=0.2.1 in /usr/local/lib/python3.7/dist-packages (from google-auth<2,>=1.6.3->tensorboard>=2.2.0->pytorch-lightning) (0.2.8)\n",
            "Requirement already satisfied: rsa<5,>=3.1.4 in /usr/local/lib/python3.7/dist-packages (from google-auth<2,>=1.6.3->tensorboard>=2.2.0->pytorch-lightning) (4.7.2)\n",
            "Requirement already satisfied: requests-oauthlib>=0.7.0 in /usr/local/lib/python3.7/dist-packages (from google-auth-oauthlib<0.5,>=0.4.1->tensorboard>=2.2.0->pytorch-lightning) (1.3.0)\n",
            "Requirement already satisfied: importlib-metadata in /usr/local/lib/python3.7/dist-packages (from markdown>=2.6.8->tensorboard>=2.2.0->pytorch-lightning) (4.6.4)\n",
            "Requirement already satisfied: pyasn1<0.5.0,>=0.4.6 in /usr/local/lib/python3.7/dist-packages (from pyasn1-modules>=0.2.1->google-auth<2,>=1.6.3->tensorboard>=2.2.0->pytorch-lightning) (0.4.8)\n",
            "Requirement already satisfied: urllib3!=1.25.0,!=1.25.1,<1.26,>=1.21.1 in /usr/local/lib/python3.7/dist-packages (from requests->fsspec[http]!=2021.06.0,>=2021.05.0->pytorch-lightning) (1.24.3)\n",
            "Requirement already satisfied: chardet<4,>=3.0.2 in /usr/local/lib/python3.7/dist-packages (from requests->fsspec[http]!=2021.06.0,>=2021.05.0->pytorch-lightning) (3.0.4)\n",
            "Requirement already satisfied: idna<3,>=2.5 in /usr/local/lib/python3.7/dist-packages (from requests->fsspec[http]!=2021.06.0,>=2021.05.0->pytorch-lightning) (2.10)\n",
            "Requirement already satisfied: certifi>=2017.4.17 in /usr/local/lib/python3.7/dist-packages (from requests->fsspec[http]!=2021.06.0,>=2021.05.0->pytorch-lightning) (2021.5.30)\n",
            "Requirement already satisfied: oauthlib>=3.0.0 in /usr/local/lib/python3.7/dist-packages (from requests-oauthlib>=0.7.0->google-auth-oauthlib<0.5,>=0.4.1->tensorboard>=2.2.0->pytorch-lightning) (3.1.1)\n",
            "Requirement already satisfied: Click!=8.0.0,>=7.0 in /usr/local/lib/python3.7/dist-packages (from wandb) (7.1.2)\n",
            "Collecting sentry-sdk>=1.0.0\n",
            "  Downloading sentry_sdk-1.3.1-py2.py3-none-any.whl (133 kB)\n",
            "\u001b[K     |████████████████████████████████| 133 kB 77.4 MB/s \n",
            "\u001b[?25hCollecting docker-pycreds>=0.4.0\n",
            "  Downloading docker_pycreds-0.4.0-py2.py3-none-any.whl (9.0 kB)\n",
            "Requirement already satisfied: promise<3,>=2.0 in /usr/local/lib/python3.7/dist-packages (from wandb) (2.3)\n",
            "Collecting pathtools\n",
            "  Downloading pathtools-0.1.2.tar.gz (11 kB)\n",
            "Collecting shortuuid>=0.5.0\n",
            "  Downloading shortuuid-1.0.1-py3-none-any.whl (7.5 kB)\n",
            "Collecting subprocess32>=3.5.3\n",
            "  Downloading subprocess32-3.5.4.tar.gz (97 kB)\n",
            "\u001b[K     |████████████████████████████████| 97 kB 7.9 MB/s \n",
            "\u001b[?25hRequirement already satisfied: psutil>=5.0.0 in /usr/local/lib/python3.7/dist-packages (from wandb) (5.4.8)\n",
            "Collecting GitPython>=1.0.0\n",
            "  Downloading GitPython-3.1.18-py3-none-any.whl (170 kB)\n",
            "\u001b[K     |████████████████████████████████| 170 kB 68.8 MB/s \n",
            "\u001b[?25hCollecting configparser>=3.8.1\n",
            "  Downloading configparser-5.0.2-py3-none-any.whl (19 kB)\n",
            "Requirement already satisfied: python-dateutil>=2.6.1 in /usr/local/lib/python3.7/dist-packages (from wandb) (2.8.2)\n",
            "Collecting gitdb<5,>=4.0.1\n",
            "  Downloading gitdb-4.0.7-py3-none-any.whl (63 kB)\n",
            "\u001b[K     |████████████████████████████████| 63 kB 2.1 MB/s \n",
            "\u001b[?25hCollecting smmap<5,>=3.0.1\n",
            "  Downloading smmap-4.0.0-py2.py3-none-any.whl (24 kB)\n",
            "Requirement already satisfied: attrs>=17.4.0 in /usr/local/lib/python3.7/dist-packages (from pytest) (21.2.0)\n",
            "Requirement already satisfied: atomicwrites>=1.0 in /usr/local/lib/python3.7/dist-packages (from pytest) (1.4.0)\n",
            "Requirement already satisfied: pluggy<0.8,>=0.5 in /usr/local/lib/python3.7/dist-packages (from pytest) (0.7.1)\n",
            "Requirement already satisfied: more-itertools>=4.0.0 in /usr/local/lib/python3.7/dist-packages (from pytest) (8.8.0)\n",
            "Requirement already satisfied: py>=1.5.0 in /usr/local/lib/python3.7/dist-packages (from pytest) (1.10.0)\n",
            "Collecting yarl<2.0,>=1.0\n",
            "  Downloading yarl-1.6.3-cp37-cp37m-manylinux2014_x86_64.whl (294 kB)\n",
            "\u001b[K     |████████████████████████████████| 294 kB 62.7 MB/s \n",
            "\u001b[?25hCollecting async-timeout<4.0,>=3.0\n",
            "  Downloading async_timeout-3.0.1-py3-none-any.whl (8.2 kB)\n",
            "Collecting multidict<7.0,>=4.5\n",
            "  Downloading multidict-5.1.0-cp37-cp37m-manylinux2014_x86_64.whl (142 kB)\n",
            "\u001b[K     |████████████████████████████████| 142 kB 67.5 MB/s \n",
            "\u001b[?25hRequirement already satisfied: zipp>=0.5 in /usr/local/lib/python3.7/dist-packages (from importlib-metadata->markdown>=2.6.8->tensorboard>=2.2.0->pytorch-lightning) (3.5.0)\n",
            "Building wheels for collected packages: future, subprocess32, pyhocon, pathtools\n",
            "  Building wheel for future (setup.py) ... \u001b[?25l\u001b[?25hdone\n",
            "  Created wheel for future: filename=future-0.18.2-py3-none-any.whl size=491070 sha256=95198edf632a61062aea85e203e4fa5beb200135346d716733a7a94d38ead3dc\n",
            "  Stored in directory: /root/.cache/pip/wheels/56/b0/fe/4410d17b32f1f0c3cf54cdfb2bc04d7b4b8f4ae377e2229ba0\n",
            "  Building wheel for subprocess32 (setup.py) ... \u001b[?25l\u001b[?25hdone\n",
            "  Created wheel for subprocess32: filename=subprocess32-3.5.4-py3-none-any.whl size=6502 sha256=53f347258f515355b9e5c1bac690cebf1f71b6145f8c354b279e664d60e9c890\n",
            "  Stored in directory: /root/.cache/pip/wheels/50/ca/fa/8fca8d246e64f19488d07567547ddec8eb084e8c0d7a59226a\n",
            "  Building wheel for pyhocon (setup.py) ... \u001b[?25l\u001b[?25hdone\n",
            "  Created wheel for pyhocon: filename=pyhocon-0.3.58-py3-none-any.whl size=19890 sha256=f78ab0557a953733a28556343d2c68712b75780181da90f8f8ddef2a341ff2ae\n",
            "  Stored in directory: /root/.cache/pip/wheels/cb/20/f9/ff360765ce6f9fc078d6599c10a8f36496e5b5011a29df1ae3\n",
            "  Building wheel for pathtools (setup.py) ... \u001b[?25l\u001b[?25hdone\n",
            "  Created wheel for pathtools: filename=pathtools-0.1.2-py3-none-any.whl size=8807 sha256=3e8ba319fbe7dd1db42904c8dc2696121201338c71090a40cd97a415e7462a20\n",
            "  Stored in directory: /root/.cache/pip/wheels/3e/31/09/fa59cef12cdcfecc627b3d24273699f390e71828921b2cbba2\n",
            "Successfully built future subprocess32 pyhocon pathtools\n",
            "Installing collected packages: multidict, yarl, async-timeout, smmap, fsspec, aiohttp, torchmetrics, PyYAML, pyDeprecate, gitdb, future, subprocess32, shortuuid, sentry-sdk, pytorch-lightning, pathtools, GitPython, docker-pycreds, configparser, wandb, pytorch-lightning-bolts, pyhocon, pydantic, opensimplex, opencv-python-headless, ninja\n",
            "  Attempting uninstall: PyYAML\n",
            "    Found existing installation: PyYAML 3.13\n",
            "    Uninstalling PyYAML-3.13:\n",
            "      Successfully uninstalled PyYAML-3.13\n",
            "  Attempting uninstall: future\n",
            "    Found existing installation: future 0.16.0\n",
            "    Uninstalling future-0.16.0:\n",
            "      Successfully uninstalled future-0.16.0\n",
            "Successfully installed GitPython-3.1.18 PyYAML-5.4.1 aiohttp-3.7.4.post0 async-timeout-3.0.1 configparser-5.0.2 docker-pycreds-0.4.0 fsspec-2021.7.0 future-0.18.2 gitdb-4.0.7 multidict-5.1.0 ninja-1.10.2 opencv-python-headless-4.5.3.56 opensimplex-0.3 pathtools-0.1.2 pyDeprecate-0.3.1 pydantic-1.8.2 pyhocon-0.3.58 pytorch-lightning-1.4.4 pytorch-lightning-bolts-0.3.2 sentry-sdk-1.3.1 shortuuid-1.0.1 smmap-4.0.0 subprocess32-3.5.4 torchmetrics-0.5.0 wandb-0.12.1 yarl-1.6.3\n"
          ]
        }
      ],
      "metadata": {
        "colab": {
          "base_uri": "https://localhost:8080/"
        },
        "id": "_LfvT2UPqjOJ",
        "outputId": "e2f92967-a260-4981-b39d-ac8a3f0d9798"
      }
    },
    {
      "cell_type": "markdown",
      "source": [
        "### Install imagemagick\n",
        "\n",
        "Only needed if you want to make gifs."
      ],
      "metadata": {
        "id": "9p3y7SpCgX1B"
      }
    },
    {
      "cell_type": "code",
      "execution_count": null,
      "source": [
        "!apt install imagemagick"
      ],
      "outputs": [
        {
          "output_type": "stream",
          "name": "stdout",
          "text": [
            "Reading package lists... Done\n",
            "Building dependency tree       \n",
            "Reading state information... Done\n",
            "The following package was automatically installed and is no longer required:\n",
            "  libnvidia-common-460\n",
            "Use 'apt autoremove' to remove it.\n",
            "The following additional packages will be installed:\n",
            "  fonts-droid-fallback fonts-noto-mono ghostscript gsfonts\n",
            "  imagemagick-6-common imagemagick-6.q16 libcupsfilters1 libcupsimage2\n",
            "  libdjvulibre-text libdjvulibre21 libgs9 libgs9-common libijs-0.35\n",
            "  libjbig2dec0 liblqr-1-0 libmagickcore-6.q16-3 libmagickcore-6.q16-3-extra\n",
            "  libmagickwand-6.q16-3 libnetpbm10 libwmf0.2-7 netpbm poppler-data\n",
            "Suggested packages:\n",
            "  fonts-noto ghostscript-x imagemagick-doc autotrace cups-bsd | lpr | lprng\n",
            "  enscript gimp gnuplot grads hp2xx html2ps libwmf-bin mplayer povray radiance\n",
            "  sane-utils texlive-base-bin transfig ufraw-batch inkscape libjxr-tools\n",
            "  libwmf0.2-7-gtk poppler-utils fonts-japanese-mincho | fonts-ipafont-mincho\n",
            "  fonts-japanese-gothic | fonts-ipafont-gothic fonts-arphic-ukai\n",
            "  fonts-arphic-uming fonts-nanum\n",
            "The following NEW packages will be installed:\n",
            "  fonts-droid-fallback fonts-noto-mono ghostscript gsfonts imagemagick\n",
            "  imagemagick-6-common imagemagick-6.q16 libcupsfilters1 libcupsimage2\n",
            "  libdjvulibre-text libdjvulibre21 libgs9 libgs9-common libijs-0.35\n",
            "  libjbig2dec0 liblqr-1-0 libmagickcore-6.q16-3 libmagickcore-6.q16-3-extra\n",
            "  libmagickwand-6.q16-3 libnetpbm10 libwmf0.2-7 netpbm poppler-data\n",
            "0 upgraded, 23 newly installed, 0 to remove and 40 not upgraded.\n",
            "Need to get 18.4 MB of archives.\n",
            "After this operation, 66.3 MB of additional disk space will be used.\n",
            "Get:1 http://archive.ubuntu.com/ubuntu bionic/main amd64 fonts-droid-fallback all 1:6.0.1r16-1.1 [1,805 kB]\n",
            "Get:2 http://archive.ubuntu.com/ubuntu bionic/main amd64 liblqr-1-0 amd64 0.4.2-2.1 [27.7 kB]\n",
            "Get:3 http://archive.ubuntu.com/ubuntu bionic-updates/main amd64 imagemagick-6-common all 8:6.9.7.4+dfsg-16ubuntu6.11 [60.2 kB]\n",
            "Get:4 http://archive.ubuntu.com/ubuntu bionic-updates/main amd64 libmagickcore-6.q16-3 amd64 8:6.9.7.4+dfsg-16ubuntu6.11 [1,619 kB]\n",
            "Get:5 http://archive.ubuntu.com/ubuntu bionic-updates/main amd64 libmagickwand-6.q16-3 amd64 8:6.9.7.4+dfsg-16ubuntu6.11 [294 kB]\n",
            "Get:6 http://archive.ubuntu.com/ubuntu bionic/main amd64 poppler-data all 0.4.8-2 [1,479 kB]\n",
            "Get:7 http://archive.ubuntu.com/ubuntu bionic/main amd64 fonts-noto-mono all 20171026-2 [75.5 kB]\n",
            "Get:8 http://archive.ubuntu.com/ubuntu bionic-updates/main amd64 libcupsimage2 amd64 2.2.7-1ubuntu2.8 [18.6 kB]\n",
            "Get:9 http://archive.ubuntu.com/ubuntu bionic/main amd64 libijs-0.35 amd64 0.35-13 [15.5 kB]\n",
            "Get:10 http://archive.ubuntu.com/ubuntu bionic/main amd64 libjbig2dec0 amd64 0.13-6 [55.9 kB]\n",
            "Get:11 http://archive.ubuntu.com/ubuntu bionic-updates/main amd64 libgs9-common all 9.26~dfsg+0-0ubuntu0.18.04.14 [5,092 kB]\n",
            "Get:12 http://archive.ubuntu.com/ubuntu bionic-updates/main amd64 libgs9 amd64 9.26~dfsg+0-0ubuntu0.18.04.14 [2,265 kB]\n",
            "Get:13 http://archive.ubuntu.com/ubuntu bionic-updates/main amd64 ghostscript amd64 9.26~dfsg+0-0ubuntu0.18.04.14 [51.3 kB]\n",
            "Get:14 http://archive.ubuntu.com/ubuntu bionic/main amd64 gsfonts all 1:8.11+urwcyr1.0.7~pre44-4.4 [3,120 kB]\n",
            "Get:15 http://archive.ubuntu.com/ubuntu bionic-updates/main amd64 imagemagick-6.q16 amd64 8:6.9.7.4+dfsg-16ubuntu6.11 [423 kB]\n",
            "Get:16 http://archive.ubuntu.com/ubuntu bionic-updates/main amd64 imagemagick amd64 8:6.9.7.4+dfsg-16ubuntu6.11 [14.2 kB]\n",
            "Get:17 http://archive.ubuntu.com/ubuntu bionic-updates/main amd64 libcupsfilters1 amd64 1.20.2-0ubuntu3.1 [108 kB]\n",
            "Get:18 http://archive.ubuntu.com/ubuntu bionic-updates/main amd64 libdjvulibre-text all 3.5.27.1-8ubuntu0.4 [49.4 kB]\n",
            "Get:19 http://archive.ubuntu.com/ubuntu bionic-updates/main amd64 libdjvulibre21 amd64 3.5.27.1-8ubuntu0.4 [561 kB]\n",
            "Get:20 http://archive.ubuntu.com/ubuntu bionic/main amd64 libwmf0.2-7 amd64 0.2.8.4-12 [150 kB]\n",
            "Get:21 http://archive.ubuntu.com/ubuntu bionic-updates/main amd64 libmagickcore-6.q16-3-extra amd64 8:6.9.7.4+dfsg-16ubuntu6.11 [62.4 kB]\n",
            "Get:22 http://archive.ubuntu.com/ubuntu bionic/main amd64 libnetpbm10 amd64 2:10.0-15.3build1 [58.0 kB]\n",
            "Get:23 http://archive.ubuntu.com/ubuntu bionic/main amd64 netpbm amd64 2:10.0-15.3build1 [1,017 kB]\n",
            "Fetched 18.4 MB in 0s (49.6 MB/s)\n",
            "Selecting previously unselected package fonts-droid-fallback.\n",
            "(Reading database ... 148489 files and directories currently installed.)\n",
            "Preparing to unpack .../00-fonts-droid-fallback_1%3a6.0.1r16-1.1_all.deb ...\n",
            "Unpacking fonts-droid-fallback (1:6.0.1r16-1.1) ...\n",
            "Selecting previously unselected package liblqr-1-0:amd64.\n",
            "Preparing to unpack .../01-liblqr-1-0_0.4.2-2.1_amd64.deb ...\n",
            "Unpacking liblqr-1-0:amd64 (0.4.2-2.1) ...\n",
            "Selecting previously unselected package imagemagick-6-common.\n",
            "Preparing to unpack .../02-imagemagick-6-common_8%3a6.9.7.4+dfsg-16ubuntu6.11_all.deb ...\n",
            "Unpacking imagemagick-6-common (8:6.9.7.4+dfsg-16ubuntu6.11) ...\n",
            "Selecting previously unselected package libmagickcore-6.q16-3:amd64.\n",
            "Preparing to unpack .../03-libmagickcore-6.q16-3_8%3a6.9.7.4+dfsg-16ubuntu6.11_amd64.deb ...\n",
            "Unpacking libmagickcore-6.q16-3:amd64 (8:6.9.7.4+dfsg-16ubuntu6.11) ...\n",
            "Selecting previously unselected package libmagickwand-6.q16-3:amd64.\n",
            "Preparing to unpack .../04-libmagickwand-6.q16-3_8%3a6.9.7.4+dfsg-16ubuntu6.11_amd64.deb ...\n",
            "Unpacking libmagickwand-6.q16-3:amd64 (8:6.9.7.4+dfsg-16ubuntu6.11) ...\n",
            "Selecting previously unselected package poppler-data.\n",
            "Preparing to unpack .../05-poppler-data_0.4.8-2_all.deb ...\n",
            "Unpacking poppler-data (0.4.8-2) ...\n",
            "Selecting previously unselected package fonts-noto-mono.\n",
            "Preparing to unpack .../06-fonts-noto-mono_20171026-2_all.deb ...\n",
            "Unpacking fonts-noto-mono (20171026-2) ...\n",
            "Selecting previously unselected package libcupsimage2:amd64.\n",
            "Preparing to unpack .../07-libcupsimage2_2.2.7-1ubuntu2.8_amd64.deb ...\n",
            "Unpacking libcupsimage2:amd64 (2.2.7-1ubuntu2.8) ...\n",
            "Selecting previously unselected package libijs-0.35:amd64.\n",
            "Preparing to unpack .../08-libijs-0.35_0.35-13_amd64.deb ...\n",
            "Unpacking libijs-0.35:amd64 (0.35-13) ...\n",
            "Selecting previously unselected package libjbig2dec0:amd64.\n",
            "Preparing to unpack .../09-libjbig2dec0_0.13-6_amd64.deb ...\n",
            "Unpacking libjbig2dec0:amd64 (0.13-6) ...\n",
            "Selecting previously unselected package libgs9-common.\n",
            "Preparing to unpack .../10-libgs9-common_9.26~dfsg+0-0ubuntu0.18.04.14_all.deb ...\n",
            "Unpacking libgs9-common (9.26~dfsg+0-0ubuntu0.18.04.14) ...\n",
            "Selecting previously unselected package libgs9:amd64.\n",
            "Preparing to unpack .../11-libgs9_9.26~dfsg+0-0ubuntu0.18.04.14_amd64.deb ...\n",
            "Unpacking libgs9:amd64 (9.26~dfsg+0-0ubuntu0.18.04.14) ...\n",
            "Selecting previously unselected package ghostscript.\n",
            "Preparing to unpack .../12-ghostscript_9.26~dfsg+0-0ubuntu0.18.04.14_amd64.deb ...\n",
            "Unpacking ghostscript (9.26~dfsg+0-0ubuntu0.18.04.14) ...\n",
            "Selecting previously unselected package gsfonts.\n",
            "Preparing to unpack .../13-gsfonts_1%3a8.11+urwcyr1.0.7~pre44-4.4_all.deb ...\n",
            "Unpacking gsfonts (1:8.11+urwcyr1.0.7~pre44-4.4) ...\n",
            "Selecting previously unselected package imagemagick-6.q16.\n",
            "Preparing to unpack .../14-imagemagick-6.q16_8%3a6.9.7.4+dfsg-16ubuntu6.11_amd64.deb ...\n",
            "Unpacking imagemagick-6.q16 (8:6.9.7.4+dfsg-16ubuntu6.11) ...\n",
            "Selecting previously unselected package imagemagick.\n",
            "Preparing to unpack .../15-imagemagick_8%3a6.9.7.4+dfsg-16ubuntu6.11_amd64.deb ...\n",
            "Unpacking imagemagick (8:6.9.7.4+dfsg-16ubuntu6.11) ...\n",
            "Selecting previously unselected package libcupsfilters1:amd64.\n",
            "Preparing to unpack .../16-libcupsfilters1_1.20.2-0ubuntu3.1_amd64.deb ...\n",
            "Unpacking libcupsfilters1:amd64 (1.20.2-0ubuntu3.1) ...\n",
            "Selecting previously unselected package libdjvulibre-text.\n",
            "Preparing to unpack .../17-libdjvulibre-text_3.5.27.1-8ubuntu0.4_all.deb ...\n",
            "Unpacking libdjvulibre-text (3.5.27.1-8ubuntu0.4) ...\n",
            "Selecting previously unselected package libdjvulibre21:amd64.\n",
            "Preparing to unpack .../18-libdjvulibre21_3.5.27.1-8ubuntu0.4_amd64.deb ...\n",
            "Unpacking libdjvulibre21:amd64 (3.5.27.1-8ubuntu0.4) ...\n",
            "Selecting previously unselected package libwmf0.2-7:amd64.\n",
            "Preparing to unpack .../19-libwmf0.2-7_0.2.8.4-12_amd64.deb ...\n",
            "Unpacking libwmf0.2-7:amd64 (0.2.8.4-12) ...\n",
            "Selecting previously unselected package libmagickcore-6.q16-3-extra:amd64.\n",
            "Preparing to unpack .../20-libmagickcore-6.q16-3-extra_8%3a6.9.7.4+dfsg-16ubuntu6.11_amd64.deb ...\n",
            "Unpacking libmagickcore-6.q16-3-extra:amd64 (8:6.9.7.4+dfsg-16ubuntu6.11) ...\n",
            "Selecting previously unselected package libnetpbm10.\n",
            "Preparing to unpack .../21-libnetpbm10_2%3a10.0-15.3build1_amd64.deb ...\n",
            "Unpacking libnetpbm10 (2:10.0-15.3build1) ...\n",
            "Selecting previously unselected package netpbm.\n",
            "Preparing to unpack .../22-netpbm_2%3a10.0-15.3build1_amd64.deb ...\n",
            "Unpacking netpbm (2:10.0-15.3build1) ...\n",
            "Setting up libgs9-common (9.26~dfsg+0-0ubuntu0.18.04.14) ...\n",
            "Setting up imagemagick-6-common (8:6.9.7.4+dfsg-16ubuntu6.11) ...\n",
            "Setting up fonts-droid-fallback (1:6.0.1r16-1.1) ...\n",
            "Setting up gsfonts (1:8.11+urwcyr1.0.7~pre44-4.4) ...\n",
            "Setting up poppler-data (0.4.8-2) ...\n",
            "Setting up libdjvulibre-text (3.5.27.1-8ubuntu0.4) ...\n",
            "Setting up libnetpbm10 (2:10.0-15.3build1) ...\n",
            "Setting up fonts-noto-mono (20171026-2) ...\n",
            "Setting up libcupsfilters1:amd64 (1.20.2-0ubuntu3.1) ...\n",
            "Setting up libcupsimage2:amd64 (2.2.7-1ubuntu2.8) ...\n",
            "Setting up liblqr-1-0:amd64 (0.4.2-2.1) ...\n",
            "Setting up libjbig2dec0:amd64 (0.13-6) ...\n",
            "Setting up libijs-0.35:amd64 (0.35-13) ...\n",
            "Setting up netpbm (2:10.0-15.3build1) ...\n",
            "Setting up libgs9:amd64 (9.26~dfsg+0-0ubuntu0.18.04.14) ...\n",
            "Setting up libwmf0.2-7:amd64 (0.2.8.4-12) ...\n",
            "Setting up libmagickcore-6.q16-3:amd64 (8:6.9.7.4+dfsg-16ubuntu6.11) ...\n",
            "Setting up libdjvulibre21:amd64 (3.5.27.1-8ubuntu0.4) ...\n",
            "Setting up ghostscript (9.26~dfsg+0-0ubuntu0.18.04.14) ...\n",
            "Setting up libmagickwand-6.q16-3:amd64 (8:6.9.7.4+dfsg-16ubuntu6.11) ...\n",
            "Setting up imagemagick-6.q16 (8:6.9.7.4+dfsg-16ubuntu6.11) ...\n",
            "update-alternatives: using /usr/bin/compare-im6.q16 to provide /usr/bin/compare (compare) in auto mode\n",
            "update-alternatives: using /usr/bin/compare-im6.q16 to provide /usr/bin/compare-im6 (compare-im6) in auto mode\n",
            "update-alternatives: using /usr/bin/animate-im6.q16 to provide /usr/bin/animate (animate) in auto mode\n",
            "update-alternatives: using /usr/bin/animate-im6.q16 to provide /usr/bin/animate-im6 (animate-im6) in auto mode\n",
            "update-alternatives: using /usr/bin/convert-im6.q16 to provide /usr/bin/convert (convert) in auto mode\n",
            "update-alternatives: using /usr/bin/convert-im6.q16 to provide /usr/bin/convert-im6 (convert-im6) in auto mode\n",
            "update-alternatives: using /usr/bin/composite-im6.q16 to provide /usr/bin/composite (composite) in auto mode\n",
            "update-alternatives: using /usr/bin/composite-im6.q16 to provide /usr/bin/composite-im6 (composite-im6) in auto mode\n",
            "update-alternatives: using /usr/bin/conjure-im6.q16 to provide /usr/bin/conjure (conjure) in auto mode\n",
            "update-alternatives: using /usr/bin/conjure-im6.q16 to provide /usr/bin/conjure-im6 (conjure-im6) in auto mode\n",
            "update-alternatives: using /usr/bin/import-im6.q16 to provide /usr/bin/import (import) in auto mode\n",
            "update-alternatives: using /usr/bin/import-im6.q16 to provide /usr/bin/import-im6 (import-im6) in auto mode\n",
            "update-alternatives: using /usr/bin/identify-im6.q16 to provide /usr/bin/identify (identify) in auto mode\n",
            "update-alternatives: using /usr/bin/identify-im6.q16 to provide /usr/bin/identify-im6 (identify-im6) in auto mode\n",
            "update-alternatives: using /usr/bin/stream-im6.q16 to provide /usr/bin/stream (stream) in auto mode\n",
            "update-alternatives: using /usr/bin/stream-im6.q16 to provide /usr/bin/stream-im6 (stream-im6) in auto mode\n",
            "update-alternatives: using /usr/bin/display-im6.q16 to provide /usr/bin/display (display) in auto mode\n",
            "update-alternatives: using /usr/bin/display-im6.q16 to provide /usr/bin/display-im6 (display-im6) in auto mode\n",
            "update-alternatives: using /usr/bin/montage-im6.q16 to provide /usr/bin/montage (montage) in auto mode\n",
            "update-alternatives: using /usr/bin/montage-im6.q16 to provide /usr/bin/montage-im6 (montage-im6) in auto mode\n",
            "update-alternatives: using /usr/bin/mogrify-im6.q16 to provide /usr/bin/mogrify (mogrify) in auto mode\n",
            "update-alternatives: using /usr/bin/mogrify-im6.q16 to provide /usr/bin/mogrify-im6 (mogrify-im6) in auto mode\n",
            "Setting up libmagickcore-6.q16-3-extra:amd64 (8:6.9.7.4+dfsg-16ubuntu6.11) ...\n",
            "Setting up imagemagick (8:6.9.7.4+dfsg-16ubuntu6.11) ...\n",
            "Processing triggers for hicolor-icon-theme (0.17-2) ...\n",
            "Processing triggers for fontconfig (2.12.6-0ubuntu2) ...\n",
            "Processing triggers for mime-support (3.60ubuntu1) ...\n",
            "Processing triggers for libc-bin (2.27-3ubuntu1.2) ...\n",
            "/sbin/ldconfig.real: /usr/local/lib/python3.7/dist-packages/ideep4py/lib/libmkldnn.so.0 is not a symbolic link\n",
            "\n",
            "Processing triggers for man-db (2.8.3-2ubuntu0.1) ...\n"
          ]
        }
      ],
      "metadata": {
        "colab": {
          "base_uri": "https://localhost:8080/"
        },
        "id": "TlmtkUwCgXEI",
        "outputId": "7008f635-216b-4cf0-a6ed-24d220155b26"
      }
    },
    {
      "cell_type": "markdown",
      "source": [
        "## Set Model and Save Location"
      ],
      "metadata": {
        "id": "zlKPcoS3rIRf"
      }
    },
    {
      "cell_type": "code",
      "execution_count": null,
      "source": [
        "model_path = 'rosinality-ffhq-800k' # either the path to a model you've trained or the name of a pretrained model\n",
        "model_size = 256 # 256, 512, or 1024 (you'll need colab high ram instance for 1024 and maybe 512)\n",
        "out_base_path = '/content/drive/MyDrive/colab-alias-free-generate/ros-ffhq-test-0/'\n",
        "import os\n",
        "os.makedirs(out_base_path, exist_ok=True)"
      ],
      "outputs": [],
      "metadata": {
        "id": "8FUCrvzHrHlT"
      }
    },
    {
      "cell_type": "markdown",
      "source": [
        "## Setup Output Counter\n",
        "\n",
        "This is will help avoid overwriting some generated files by accident."
      ],
      "metadata": {
        "id": "ufjH87Y7rV9h"
      }
    },
    {
      "cell_type": "code",
      "execution_count": null,
      "source": [
        "def get_output_count():\n",
        "  global output_count\n",
        "  output_count += 1\n",
        "  return '-' + str(output_count)\n",
        "\n",
        "output_count = -1"
      ],
      "outputs": [],
      "metadata": {
        "id": "-MIcXlsXrZt7"
      }
    },
    {
      "cell_type": "markdown",
      "source": [
        "## Generate Single Images\n",
        "\n",
        "This will generate a folder of images with a seed range. These seeds can be used in the next section for interpolations. Checkout the help for more information on seed values."
      ],
      "metadata": {
        "id": "g1Y1KzRGsDSq"
      }
    },
    {
      "cell_type": "code",
      "execution_count": null,
      "source": [
        "!python scripts/generate_images.py --help"
      ],
      "outputs": [],
      "metadata": {
        "id": "9L88V3--tLxG"
      }
    },
    {
      "cell_type": "code",
      "execution_count": null,
      "source": [
        "out_dir = os.path.join(out_base_path, 'images' + get_output_count())\n",
        "!python scripts/generate_images.py \\\n",
        "  --size {model_size} \\\n",
        "  --load_model {model_path} \\\n",
        "  --outdir {out_dir} \\\n",
        "  --seed_stop 9"
      ],
      "outputs": [
        {
          "output_type": "stream",
          "name": "stdout",
          "text": [
            "Using Alias-Free GAN version: 1.1.0\n",
            "GPU available: True, used: True\n",
            "TPU available: False, using: 0 TPU cores\n",
            "IPU available: False, using: 0 IPUs\n",
            "LOCAL_RANK: 0 - CUDA_VISIBLE_DEVICES: [0]\n",
            "\n",
            "  | Name          | Type          | Params\n",
            "------------------------------------------------\n",
            "0 | generator     | Generator     | 17.3 M\n",
            "1 | g_ema         | Generator     | 17.3 M\n",
            "2 | discriminator | Discriminator | 28.9 M\n",
            "------------------------------------------------\n",
            "63.5 M    Trainable params\n",
            "0         Non-trainable params\n",
            "63.5 M    Total params\n",
            "253.864   Total estimated model params size (MB)\n",
            "Attempting to load pretrained model...\n",
            "Attempting to download rosinality-ffhq-800k from https://aliasfreegan.sfo3.cdn.digitaloceanspaces.com/rosinality-ffhq-800k.pt\n",
            "CompletedProcess(args=['wget', '--progress=bar:force', '-O', '/content/alias-free-gan/pretrained/rosinality-ffhq-800k.pt', 'https://aliasfreegan.sfo3.cdn.digitaloceanspaces.com/rosinality-ffhq-800k.pt'], returncode=0, stdout=b'', stderr=b'--2021-08-29 01:27:30--  https://aliasfreegan.sfo3.cdn.digitaloceanspaces.com/rosinality-ffhq-800k.pt\\nResolving aliasfreegan.sfo3.cdn.digitaloceanspaces.com (aliasfreegan.sfo3.cdn.digitaloceanspaces.com)... 205.185.216.42, 205.185.216.10\\nConnecting to aliasfreegan.sfo3.cdn.digitaloceanspaces.com (aliasfreegan.sfo3.cdn.digitaloceanspaces.com)|205.185.216.42|:443... connected.\\nHTTP request sent, awaiting response... 200 OK\\nLength: 623360041 (594M) [application/octet-stream]\\nSaving to: \\xe2\\x80\\x98/content/alias-free-gan/pretrained/rosinality-ffhq-800k.pt\\xe2\\x80\\x99\\n\\n\\r          /content/   0%[                    ]       0  --.-KB/s               \\r         /content/a   6%[>                   ]  41.28M   206MB/s               \\r        /content/al  13%[=>                  ]  83.16M   208MB/s               \\r       /content/ali  19%[==>                 ] 116.93M   195MB/s               \\r      /content/alia  26%[====>               ] 157.22M   197MB/s               \\r     /content/alias  33%[=====>              ] 197.37M   197MB/s               \\r    /content/alias-  39%[======>             ] 235.68M   196MB/s               \\r   /content/alias-f  44%[=======>            ] 264.26M   189MB/s               \\r  /content/alias-fr  47%[========>           ] 279.63M   174MB/s               \\r /content/alias-fre  48%[========>           ] 286.10M   159MB/s               \\r/content/alias-free  51%[=========>          ] 308.69M   154MB/s               \\rcontent/alias-free-  57%[==========>         ] 339.55M   154MB/s               \\rontent/alias-free-g  58%[==========>         ] 348.88M   145MB/s               \\rntent/alias-free-ga  59%[==========>         ] 354.76M   136MB/s               \\rtent/alias-free-gan  62%[===========>        ] 369.77M   131MB/s               \\rent/alias-free-gan/  65%[============>       ] 386.50M   128MB/s    eta 2s     \\rnt/alias-free-gan/p  67%[============>       ] 400.49M   121MB/s    eta 2s     \\rt/alias-free-gan/pr  68%[============>       ] 408.45M   111MB/s    eta 2s     \\r/alias-free-gan/pre  70%[=============>      ] 421.38M   104MB/s    eta 2s     \\ralias-free-gan/pret  73%[=============>      ] 436.38M  94.6MB/s    eta 2s     \\rlias-free-gan/pretr  78%[==============>     ] 463.92M  91.9MB/s    eta 1s     \\rias-free-gan/pretra  84%[===============>    ] 504.99M  94.2MB/s    eta 1s     \\ras-free-gan/pretrai  91%[=================>  ] 541.42M  92.5MB/s    eta 1s     \\rs-free-gan/pretrain  96%[==================> ] 575.57M  97.0MB/s    eta 1s     \\r/content/alias-free 100%[===================>] 594.48M  99.7MB/s    in 4.8s    \\n\\n2021-08-29 01:27:35 (124 MB/s) - \\xe2\\x80\\x98/content/alias-free-gan/pretrained/rosinality-ffhq-800k.pt\\xe2\\x80\\x99 saved [623360041/623360041]\\n\\n')\n",
            "Loading pretrained model from: /content/alias-free-gan/pretrained/rosinality-ffhq-800k.pt\n",
            "\n",
            "\n",
            "rosinality-ffhq-800k information:\n",
            "FFHQ 256 model trained by rosinality (source: https://github.com/rosinality/alias-free-gan-pytorch/issues/3). Trained for 800k steps with a batch size of 16.\n",
            "\n",
            "\n",
            "Generating image for seed 0 at truncation 0.750000 and saving to /content/drive/MyDrive/colab-alias-free-generate/ros-ffhq-test-0/images-0/seed0000.png\n",
            "tcmalloc: large alloc 1435500544 bytes == 0x5632dce38000 @  0x7fd6a84efb6b 0x7fd6a850f379 0x7fd64cc5d26e 0x7fd64cc5e9e2 0x7fd690aab9f8 0x7fd690a95359 0x7fd690aa21bf 0x7fd690aa35a7 0x7fd690a9ddbb 0x7fd690a9e4c7 0x7fd691103c62 0x7fd690f5557b 0x7fd6925a0c01 0x7fd6925a1392 0x7fd690bc956d 0x7fd690660518 0x7fd6911762ba 0x7fd690bc3a7b 0x7fd6906591db 0x7fd69117621a 0x7fd690bc1fc5 0x7fd690658daa 0x7fd691176552 0x7fd690bc887d 0x7fd6a355d026 0x5631a15d2010 0x5631a15d1da0 0x5631a16462f9 0x5631a1512d14 0x5631a1643318 0x5631a1640c35\n",
            "tcmalloc: large alloc 1433075712 bytes == 0x5632dce38000 @  0x7fd6a84efb6b 0x7fd6a850f379 0x7fd64cc5d26e 0x7fd64cc5e9e2 0x7fd690aab9f8 0x7fd690a95359 0x7fd690aa21bf 0x7fd690aa35a7 0x7fd690a9ddbb 0x7fd690a9e4c7 0x7fd691103c62 0x7fd690f5557b 0x7fd6925a0c01 0x7fd6925a1392 0x7fd690bc956d 0x7fd690660518 0x7fd6911762ba 0x7fd690bc3a7b 0x7fd6906591db 0x7fd69117621a 0x7fd690bc1fc5 0x7fd690658daa 0x7fd691176552 0x7fd690bc887d 0x7fd6a355d026 0x5631a15d2010 0x5631a15d1da0 0x5631a16462f9 0x5631a1512d14 0x5631a1643318 0x5631a1640c35\n",
            "Generating image for seed 1 at truncation 0.750000 and saving to /content/drive/MyDrive/colab-alias-free-generate/ros-ffhq-test-0/images-0/seed0001.png\n",
            "tcmalloc: large alloc 1435500544 bytes == 0x56335854e000 @  0x7fd6a84efb6b 0x7fd6a850f379 0x7fd64cc5d26e 0x7fd64cc5e9e2 0x7fd690aab9f8 0x7fd690a95359 0x7fd690aa21bf 0x7fd690aa35a7 0x7fd690a9ddbb 0x7fd690a9e4c7 0x7fd691103c62 0x7fd690f5557b 0x7fd6925a0c01 0x7fd6925a1392 0x7fd690bc956d 0x7fd690660518 0x7fd6911762ba 0x7fd690bc3a7b 0x7fd6906591db 0x7fd69117621a 0x7fd690bc1fc5 0x7fd690658daa 0x7fd691176552 0x7fd690bc887d 0x7fd6a355d026 0x5631a15d2010 0x5631a15d1da0 0x5631a16462f9 0x5631a1512d14 0x5631a1643318 0x5631a1640c35\n",
            "Generating image for seed 2 at truncation 0.750000 and saving to /content/drive/MyDrive/colab-alias-free-generate/ros-ffhq-test-0/images-0/seed0002.png\n",
            "Generating image for seed 3 at truncation 0.750000 and saving to /content/drive/MyDrive/colab-alias-free-generate/ros-ffhq-test-0/images-0/seed0003.png\n",
            "Generating image for seed 4 at truncation 0.750000 and saving to /content/drive/MyDrive/colab-alias-free-generate/ros-ffhq-test-0/images-0/seed0004.png\n",
            "Generating image for seed 5 at truncation 0.750000 and saving to /content/drive/MyDrive/colab-alias-free-generate/ros-ffhq-test-0/images-0/seed0005.png\n",
            "Generating image for seed 6 at truncation 0.750000 and saving to /content/drive/MyDrive/colab-alias-free-generate/ros-ffhq-test-0/images-0/seed0006.png\n",
            "Generating image for seed 7 at truncation 0.750000 and saving to /content/drive/MyDrive/colab-alias-free-generate/ros-ffhq-test-0/images-0/seed0007.png\n",
            "Generating image for seed 8 at truncation 0.750000 and saving to /content/drive/MyDrive/colab-alias-free-generate/ros-ffhq-test-0/images-0/seed0008.png\n"
          ]
        }
      ],
      "metadata": {
        "colab": {
          "base_uri": "https://localhost:8080/"
        },
        "id": "FKb-GsTmsUke",
        "outputId": "5c75ed18-e7c7-44aa-9e0c-adbace6d6835"
      }
    },
    {
      "cell_type": "markdown",
      "source": [
        "## Generate Interpolation\n",
        "\n",
        "Interpolate been seed values.\n",
        "\n",
        "**Seeds:**\n",
        "\n",
        "- If less than two seed values are provided enough will be randomly generated.\n",
        "- Be sure to start and end at the same seed if you want a loop.\n",
        "\n",
        "A seeds example\n",
        "```python\n",
        "  --seeds 10 1 32 10\n",
        "```\n",
        "\n",
        "**Easing:**\n",
        "\n",
        "You may notice there are a bunch of easing options. Linear is default. All the opitons are python ports of example code from [easings.net](https://easings.net/). Follow the link to view the shape of the different easing methods.\n",
        "\n",
        "**Notes:**\n",
        "\n",
        "- As always checkout the help for more information on all available options.\n",
        "- This automatically compensates for the distance between seed to make animation smoother.\n",
        "\n",
        "Example Output:\n"
      ],
      "metadata": {
        "id": "4Zxj8uGAuUDn"
      }
    },
    {
      "cell_type": "code",
      "execution_count": null,
      "source": [
        "!python scripts/generate_interpolation.py --help"
      ],
      "outputs": [],
      "metadata": {
        "id": "ywSskK58u0FD"
      }
    },
    {
      "cell_type": "code",
      "execution_count": null,
      "source": [
        "out_dir = os.path.join(out_base_path, 'interpolate' + get_output_count())\n",
        "!python scripts/generate_interpolation.py \\\n",
        "  --size {model_size} \\\n",
        "  --load_model {model_path} \\\n",
        "  --outdir {out_dir} \\\n",
        "  --frames 48"
      ],
      "outputs": [
        {
          "output_type": "stream",
          "name": "stdout",
          "text": [
            "Using Alias-Free GAN version: 1.1.0\n",
            "GPU available: True, used: True\n",
            "TPU available: False, using: 0 TPU cores\n",
            "IPU available: False, using: 0 IPUs\n",
            "LOCAL_RANK: 0 - CUDA_VISIBLE_DEVICES: [0]\n",
            "\n",
            "  | Name          | Type          | Params\n",
            "------------------------------------------------\n",
            "0 | generator     | Generator     | 17.3 M\n",
            "1 | g_ema         | Generator     | 17.3 M\n",
            "2 | discriminator | Discriminator | 28.9 M\n",
            "------------------------------------------------\n",
            "63.5 M    Trainable params\n",
            "0         Non-trainable params\n",
            "63.5 M    Total params\n",
            "253.864   Total estimated model params size (MB)\n",
            "Attempting to load pretrained model...\n",
            "Loading pretrained model from: /content/alias-free-gan/pretrained/rosinality-ffhq-800k.pt\n",
            "\n",
            "\n",
            "rosinality-ffhq-800k information:\n",
            "FFHQ 256 model trained by rosinality (source: https://github.com/rosinality/alias-free-gan-pytorch/issues/3). Trained for 800k steps with a batch size of 16.\n",
            "\n",
            "\n",
            "Generating 48 frames for interpolation with seeds [80733, 88649] with linear easing.\n",
            "Saving log of arguments to /content/drive/MyDrive/colab-alias-free-generate/ros-ffhq-test-0/interpolate-1/args_log.txt\n",
            "Saving z_vectors to /content/drive/MyDrive/colab-alias-free-generate/ros-ffhq-test-0/interpolate-1/z_vectors.pt\n",
            "Generate from vectors progress: 1/48\n",
            "tcmalloc: large alloc 1435500544 bytes == 0x55faf7724000 @  0x7fdc6f438b6b 0x7fdc6f458379 0x7fdc13be626e 0x7fdc13be79e2 0x7fdc57a349f8 0x7fdc57a1e359 0x7fdc57a2b1bf 0x7fdc57a2c5a7 0x7fdc57a26dbb 0x7fdc57a274c7 0x7fdc5808cc62 0x7fdc57ede57b 0x7fdc59529c01 0x7fdc5952a392 0x7fdc57b5256d 0x7fdc575e9518 0x7fdc580ff2ba 0x7fdc57b4ca7b 0x7fdc575e21db 0x7fdc580ff21a 0x7fdc57b4afc5 0x7fdc575e1daa 0x7fdc580ff552 0x7fdc57b5187d 0x7fdc6a4e6026 0x55f98ef79010 0x55f98ef78da0 0x55f98efed2f9 0x55f98eeb9d14 0x55f98efea318 0x55f98efe7c35\n",
            "tcmalloc: large alloc 1433075712 bytes == 0x55faf7724000 @  0x7fdc6f438b6b 0x7fdc6f458379 0x7fdc13be626e 0x7fdc13be79e2 0x7fdc57a349f8 0x7fdc57a1e359 0x7fdc57a2b1bf 0x7fdc57a2c5a7 0x7fdc57a26dbb 0x7fdc57a274c7 0x7fdc5808cc62 0x7fdc57ede57b 0x7fdc59529c01 0x7fdc5952a392 0x7fdc57b5256d 0x7fdc575e9518 0x7fdc580ff2ba 0x7fdc57b4ca7b 0x7fdc575e21db 0x7fdc580ff21a 0x7fdc57b4afc5 0x7fdc575e1daa 0x7fdc580ff552 0x7fdc57b5187d 0x7fdc6a4e6026 0x55f98ef79010 0x55f98ef78da0 0x55f98efed2f9 0x55f98eeb9d14 0x55f98efea318 0x55f98efe7c35\n",
            "Generate from vectors progress: 2/48\n",
            "tcmalloc: large alloc 1435500544 bytes == 0x55fada9c0000 @  0x7fdc6f438b6b 0x7fdc6f458379 0x7fdc13be626e 0x7fdc13be79e2 0x7fdc57a349f8 0x7fdc57a1e359 0x7fdc57a2b1bf 0x7fdc57a2c5a7 0x7fdc57a26dbb 0x7fdc57a274c7 0x7fdc5808cc62 0x7fdc57ede57b 0x7fdc59529c01 0x7fdc5952a392 0x7fdc57b5256d 0x7fdc575e9518 0x7fdc580ff2ba 0x7fdc57b4ca7b 0x7fdc575e21db 0x7fdc580ff21a 0x7fdc57b4afc5 0x7fdc575e1daa 0x7fdc580ff552 0x7fdc57b5187d 0x7fdc6a4e6026 0x55f98ef79010 0x55f98ef78da0 0x55f98efed2f9 0x55f98eeb9d14 0x55f98efea318 0x55f98efe7c35\n",
            "Generate from vectors progress: 3/48\n",
            "Generate from vectors progress: 4/48\n",
            "Generate from vectors progress: 5/48\n",
            "Generate from vectors progress: 6/48\n",
            "Generate from vectors progress: 7/48\n",
            "Generate from vectors progress: 8/48\n",
            "Generate from vectors progress: 9/48\n",
            "Generate from vectors progress: 10/48\n",
            "Generate from vectors progress: 11/48\n",
            "Generate from vectors progress: 12/48\n",
            "Generate from vectors progress: 13/48\n",
            "Generate from vectors progress: 14/48\n",
            "Generate from vectors progress: 15/48\n",
            "Generate from vectors progress: 16/48\n",
            "Generate from vectors progress: 17/48\n",
            "Generate from vectors progress: 18/48\n",
            "Generate from vectors progress: 19/48\n",
            "Generate from vectors progress: 20/48\n",
            "Generate from vectors progress: 21/48\n",
            "Generate from vectors progress: 22/48\n",
            "Generate from vectors progress: 23/48\n",
            "Generate from vectors progress: 24/48\n",
            "Generate from vectors progress: 25/48\n",
            "Generate from vectors progress: 26/48\n",
            "Generate from vectors progress: 27/48\n",
            "Generate from vectors progress: 28/48\n",
            "Generate from vectors progress: 29/48\n",
            "Generate from vectors progress: 30/48\n",
            "Generate from vectors progress: 31/48\n",
            "Generate from vectors progress: 32/48\n",
            "Generate from vectors progress: 33/48\n",
            "Generate from vectors progress: 34/48\n",
            "Generate from vectors progress: 35/48\n",
            "Generate from vectors progress: 36/48\n",
            "Generate from vectors progress: 37/48\n",
            "Generate from vectors progress: 38/48\n",
            "Generate from vectors progress: 39/48\n",
            "Generate from vectors progress: 40/48\n",
            "Generate from vectors progress: 41/48\n",
            "Generate from vectors progress: 42/48\n",
            "Generate from vectors progress: 43/48\n",
            "Generate from vectors progress: 44/48\n",
            "Generate from vectors progress: 45/48\n",
            "Generate from vectors progress: 46/48\n",
            "Generate from vectors progress: 47/48\n",
            "Generate from vectors progress: 48/48\n"
          ]
        }
      ],
      "metadata": {
        "colab": {
          "base_uri": "https://localhost:8080/"
        },
        "id": "yE5PA5t5upXO",
        "outputId": "79ace6a9-b2c4-4c75-ab84-8b74f16a2ba1"
      }
    },
    {
      "cell_type": "markdown",
      "source": [
        "### Create .mp4 with ffmpeg"
      ],
      "metadata": {
        "id": "xejIAsBfhHdm"
      }
    },
    {
      "cell_type": "code",
      "execution_count": null,
      "source": [
        "!ffmpeg -framerate 24 -i {out_dir}/frames/frame-%09d.png -c:v libx264 -pix_fmt yuv420p -crf 23 {out_dir}/interpolation.mp4"
      ],
      "outputs": [
        {
          "output_type": "stream",
          "name": "stdout",
          "text": [
            "ffmpeg version 3.4.8-0ubuntu0.2 Copyright (c) 2000-2020 the FFmpeg developers\n",
            "  built with gcc 7 (Ubuntu 7.5.0-3ubuntu1~18.04)\n",
            "  configuration: --prefix=/usr --extra-version=0ubuntu0.2 --toolchain=hardened --libdir=/usr/lib/x86_64-linux-gnu --incdir=/usr/include/x86_64-linux-gnu --enable-gpl --disable-stripping --enable-avresample --enable-avisynth --enable-gnutls --enable-ladspa --enable-libass --enable-libbluray --enable-libbs2b --enable-libcaca --enable-libcdio --enable-libflite --enable-libfontconfig --enable-libfreetype --enable-libfribidi --enable-libgme --enable-libgsm --enable-libmp3lame --enable-libmysofa --enable-libopenjpeg --enable-libopenmpt --enable-libopus --enable-libpulse --enable-librubberband --enable-librsvg --enable-libshine --enable-libsnappy --enable-libsoxr --enable-libspeex --enable-libssh --enable-libtheora --enable-libtwolame --enable-libvorbis --enable-libvpx --enable-libwavpack --enable-libwebp --enable-libx265 --enable-libxml2 --enable-libxvid --enable-libzmq --enable-libzvbi --enable-omx --enable-openal --enable-opengl --enable-sdl2 --enable-libdc1394 --enable-libdrm --enable-libiec61883 --enable-chromaprint --enable-frei0r --enable-libopencv --enable-libx264 --enable-shared\n",
            "  libavutil      55. 78.100 / 55. 78.100\n",
            "  libavcodec     57.107.100 / 57.107.100\n",
            "  libavformat    57. 83.100 / 57. 83.100\n",
            "  libavdevice    57. 10.100 / 57. 10.100\n",
            "  libavfilter     6.107.100 /  6.107.100\n",
            "  libavresample   3.  7.  0 /  3.  7.  0\n",
            "  libswscale      4.  8.100 /  4.  8.100\n",
            "  libswresample   2.  9.100 /  2.  9.100\n",
            "  libpostproc    54.  7.100 / 54.  7.100\n",
            "Input #0, image2, from '/content/drive/MyDrive/colab-alias-free-generate/ros-ffhq-test-0/interpolate-1/frames/frame-%09d.png':\n",
            "  Duration: 00:00:02.00, start: 0.000000, bitrate: N/A\n",
            "    Stream #0:0: Video: png, rgb24(pc), 256x256, 24 fps, 24 tbr, 24 tbn, 24 tbc\n",
            "Stream mapping:\n",
            "  Stream #0:0 -> #0:0 (png (native) -> h264 (libx264))\n",
            "Press [q] to stop, [?] for help\n",
            "\u001b[1;36m[libx264 @ 0x55ef794efe00] \u001b[0musing cpu capabilities: MMX2 SSE2Fast SSSE3 SSE4.2 AVX FMA3 BMI2 AVX2 AVX512\n",
            "\u001b[1;36m[libx264 @ 0x55ef794efe00] \u001b[0mprofile High, level 1.3\n",
            "\u001b[1;36m[libx264 @ 0x55ef794efe00] \u001b[0m264 - core 152 r2854 e9a5903 - H.264/MPEG-4 AVC codec - Copyleft 2003-2017 - http://www.videolan.org/x264.html - options: cabac=1 ref=3 deblock=1:0:0 analyse=0x3:0x113 me=hex subme=7 psy=1 psy_rd=1.00:0.00 mixed_ref=1 me_range=16 chroma_me=1 trellis=1 8x8dct=1 cqm=0 deadzone=21,11 fast_pskip=1 chroma_qp_offset=-2 threads=3 lookahead_threads=1 sliced_threads=0 nr=0 decimate=1 interlaced=0 bluray_compat=0 constrained_intra=0 bframes=3 b_pyramid=2 b_adapt=1 b_bias=0 direct=1 weightb=1 open_gop=0 weightp=2 keyint=250 keyint_min=24 scenecut=40 intra_refresh=0 rc_lookahead=40 rc=crf mbtree=1 crf=23.0 qcomp=0.60 qpmin=0 qpmax=69 qpstep=4 ip_ratio=1.40 aq=1:1.00\n",
            "Output #0, mp4, to '/content/drive/MyDrive/colab-alias-free-generate/ros-ffhq-test-0/interpolate-1/interpolation.mp4':\n",
            "  Metadata:\n",
            "    encoder         : Lavf57.83.100\n",
            "    Stream #0:0: Video: h264 (libx264) (avc1 / 0x31637661), yuv420p, 256x256, q=-1--1, 24 fps, 12288 tbn, 24 tbc\n",
            "    Metadata:\n",
            "      encoder         : Lavc57.107.100 libx264\n",
            "    Side data:\n",
            "      cpb: bitrate max/min/avg: 0/0/0 buffer size: 0 vbv_delay: -1\n",
            "frame=   48 fps=0.0 q=-1.0 Lsize=      71kB time=00:00:01.87 bitrate= 310.0kbits/s speed=5.41x    \n",
            "video:70kB audio:0kB subtitle:0kB other streams:0kB global headers:0kB muxing overhead: 1.911453%\n",
            "\u001b[1;36m[libx264 @ 0x55ef794efe00] \u001b[0mframe I:1     Avg QP:25.27  size:  6899\n",
            "\u001b[1;36m[libx264 @ 0x55ef794efe00] \u001b[0mframe P:21    Avg QP:25.05  size:  2472\n",
            "\u001b[1;36m[libx264 @ 0x55ef794efe00] \u001b[0mframe B:26    Avg QP:27.77  size:   454\n",
            "\u001b[1;36m[libx264 @ 0x55ef794efe00] \u001b[0mconsecutive B-frames: 22.9% 12.5%  6.2% 58.3%\n",
            "\u001b[1;36m[libx264 @ 0x55ef794efe00] \u001b[0mmb I  I16..4:  7.4% 62.9% 29.7%\n",
            "\u001b[1;36m[libx264 @ 0x55ef794efe00] \u001b[0mmb P  I16..4:  1.2%  6.5%  1.5%  P16..4: 41.2% 26.6% 14.7%  0.0%  0.0%    skip: 8.3%\n",
            "\u001b[1;36m[libx264 @ 0x55ef794efe00] \u001b[0mmb B  I16..4:  0.0%  0.1%  0.1%  B16..8: 44.0%  4.4%  1.3%  direct: 2.4%  skip:47.7%  L0:26.2% L1:53.4% BI:20.4%\n",
            "\u001b[1;36m[libx264 @ 0x55ef794efe00] \u001b[0m8x8 transform intra:67.4% inter:65.4%\n",
            "\u001b[1;36m[libx264 @ 0x55ef794efe00] \u001b[0mcoded y,uvDC,uvAC intra: 76.3% 82.1% 35.1% inter: 26.5% 21.5% 0.7%\n",
            "\u001b[1;36m[libx264 @ 0x55ef794efe00] \u001b[0mi16 v,h,dc,p: 28% 13% 15% 44%\n",
            "\u001b[1;36m[libx264 @ 0x55ef794efe00] \u001b[0mi8 v,h,dc,ddl,ddr,vr,hd,vl,hu: 18%  9% 22%  7%  8% 16%  5% 10%  7%\n",
            "\u001b[1;36m[libx264 @ 0x55ef794efe00] \u001b[0mi4 v,h,dc,ddl,ddr,vr,hd,vl,hu: 21% 12% 14%  6% 11% 15%  9%  7%  6%\n",
            "\u001b[1;36m[libx264 @ 0x55ef794efe00] \u001b[0mi8c dc,h,v,p: 53% 15% 26%  6%\n",
            "\u001b[1;36m[libx264 @ 0x55ef794efe00] \u001b[0mWeighted P-Frames: Y:9.5% UV:4.8%\n",
            "\u001b[1;36m[libx264 @ 0x55ef794efe00] \u001b[0mref P L0: 62.7% 29.8%  6.8%  0.7%  0.0%\n",
            "\u001b[1;36m[libx264 @ 0x55ef794efe00] \u001b[0mref B L0: 98.4%  1.5%  0.2%\n",
            "\u001b[1;36m[libx264 @ 0x55ef794efe00] \u001b[0mref B L1: 99.2%  0.8%\n",
            "\u001b[1;36m[libx264 @ 0x55ef794efe00] \u001b[0mkb/s:282.47\n"
          ]
        }
      ],
      "metadata": {
        "colab": {
          "base_uri": "https://localhost:8080/"
        },
        "id": "b2r4EfrNhL78",
        "outputId": "fa7d1da2-3e15-4474-cb9e-1758a0b2bdcf"
      }
    },
    {
      "cell_type": "markdown",
      "source": [
        "### Create .gif with imagemagick"
      ],
      "metadata": {
        "id": "LfLMaBkEhMYW"
      }
    },
    {
      "cell_type": "code",
      "execution_count": null,
      "source": [
        "!convert -delay 5 -loop 0 {out_dir}/frames/*.png {out_dir}/interpolation.gif"
      ],
      "outputs": [],
      "metadata": {
        "id": "ne7EmimAhQuM"
      }
    },
    {
      "cell_type": "markdown",
      "source": [
        "## Circular Interpolation\n",
        "\n",
        "Generates interpolation using sin and cos.\n",
        "\n",
        "**Diameter:**\n",
        "\n",
        "Diameter value should be between 0.0 and 10.0. If two are passed, the script will treat them as a min and max and generate a random diameter for each vector dimension.\n",
        "\n",
        "It's recommended you use low values for low frame counts like 1.5 for 36 frames and much higher values for larger frame counts like 6.0 for 480 frames.\n",
        "\n",
        "**Notes:**\n",
        "\n",
        "- Seed values are used diffently from generate images and interpolate."
      ],
      "metadata": {
        "id": "WRbYCuMyxPd4"
      }
    },
    {
      "cell_type": "code",
      "execution_count": null,
      "source": [
        "!python scripts/generate_interpolation.py --help"
      ],
      "outputs": [],
      "metadata": {
        "id": "jptQsC63y2Y0"
      }
    },
    {
      "cell_type": "code",
      "execution_count": null,
      "source": [
        "out_dir = os.path.join(out_base_path, 'circular' + get_output_count())\n",
        "!python scripts/generate_interpolation.py \\\n",
        "  --method circular \\\n",
        "  --size {model_size} \\\n",
        "  --load_model {model_path} \\\n",
        "  --outdir {out_dir} \\\n",
        "  --frames 48 \\\n",
        "  --diameter 2.0"
      ],
      "outputs": [
        {
          "output_type": "stream",
          "name": "stdout",
          "text": [
            "Using Alias-Free GAN version: 1.1.0\n",
            "GPU available: True, used: True\n",
            "TPU available: False, using: 0 TPU cores\n",
            "IPU available: False, using: 0 IPUs\n",
            "LOCAL_RANK: 0 - CUDA_VISIBLE_DEVICES: [0]\n",
            "\n",
            "  | Name          | Type          | Params\n",
            "------------------------------------------------\n",
            "0 | generator     | Generator     | 17.3 M\n",
            "1 | g_ema         | Generator     | 17.3 M\n",
            "2 | discriminator | Discriminator | 28.9 M\n",
            "------------------------------------------------\n",
            "63.5 M    Trainable params\n",
            "0         Non-trainable params\n",
            "63.5 M    Total params\n",
            "253.864   Total estimated model params size (MB)\n",
            "Attempting to load pretrained model...\n",
            "Loading pretrained model from: /content/alias-free-gan/pretrained/rosinality-ffhq-800k.pt\n",
            "\n",
            "\n",
            "rosinality-ffhq-800k information:\n",
            "FFHQ 256 model trained by rosinality (source: https://github.com/rosinality/alias-free-gan-pytorch/issues/3). Trained for 800k steps with a batch size of 16.\n",
            "\n",
            "\n",
            "Generating 48 frames for circular interpolation with seed 98836.\n",
            "Saving log of arguments to /content/drive/MyDrive/colab-alias-free-generate/ros-ffhq-test-0/circular-2/args_log.txt\n",
            "Saving z_vectors to /content/drive/MyDrive/colab-alias-free-generate/ros-ffhq-test-0/circular-2/z_vectors.pt\n",
            "Generate from vectors progress: 1/48\n",
            "tcmalloc: large alloc 1435500544 bytes == 0x561f5d050000 @  0x7fab2ef68b6b 0x7fab2ef88379 0x7faad371626e 0x7faad37179e2 0x7fab175649f8 0x7fab1754e359 0x7fab1755b1bf 0x7fab1755c5a7 0x7fab17556dbb 0x7fab175574c7 0x7fab17bbcc62 0x7fab17a0e57b 0x7fab19059c01 0x7fab1905a392 0x7fab1768256d 0x7fab17119518 0x7fab17c2f2ba 0x7fab1767ca7b 0x7fab171121db 0x7fab17c2f21a 0x7fab1767afc5 0x7fab17111daa 0x7fab17c2f552 0x7fab1768187d 0x7fab2a016026 0x561df5b99010 0x561df5b98da0 0x561df5c0d2f9 0x561df5ad9d14 0x561df5c0a318 0x561df5c07c35\n",
            "tcmalloc: large alloc 1433075712 bytes == 0x561f5d050000 @  0x7fab2ef68b6b 0x7fab2ef88379 0x7faad371626e 0x7faad37179e2 0x7fab175649f8 0x7fab1754e359 0x7fab1755b1bf 0x7fab1755c5a7 0x7fab17556dbb 0x7fab175574c7 0x7fab17bbcc62 0x7fab17a0e57b 0x7fab19059c01 0x7fab1905a392 0x7fab1768256d 0x7fab17119518 0x7fab17c2f2ba 0x7fab1767ca7b 0x7fab171121db 0x7fab17c2f21a 0x7fab1767afc5 0x7fab17111daa 0x7fab17c2f552 0x7fab1768187d 0x7fab2a016026 0x561df5b99010 0x561df5b98da0 0x561df5c0d2f9 0x561df5ad9d14 0x561df5c0a318 0x561df5c07c35\n",
            "Generate from vectors progress: 2/48\n",
            "tcmalloc: large alloc 1435500544 bytes == 0x561fb2dc6000 @  0x7fab2ef68b6b 0x7fab2ef88379 0x7faad371626e 0x7faad37179e2 0x7fab175649f8 0x7fab1754e359 0x7fab1755b1bf 0x7fab1755c5a7 0x7fab17556dbb 0x7fab175574c7 0x7fab17bbcc62 0x7fab17a0e57b 0x7fab19059c01 0x7fab1905a392 0x7fab1768256d 0x7fab17119518 0x7fab17c2f2ba 0x7fab1767ca7b 0x7fab171121db 0x7fab17c2f21a 0x7fab1767afc5 0x7fab17111daa 0x7fab17c2f552 0x7fab1768187d 0x7fab2a016026 0x561df5b99010 0x561df5b98da0 0x561df5c0d2f9 0x561df5ad9d14 0x561df5c0a318 0x561df5c07c35\n",
            "Generate from vectors progress: 3/48\n",
            "Generate from vectors progress: 4/48\n",
            "Generate from vectors progress: 5/48\n",
            "Generate from vectors progress: 6/48\n",
            "Generate from vectors progress: 7/48\n",
            "Generate from vectors progress: 8/48\n",
            "Generate from vectors progress: 9/48\n",
            "Generate from vectors progress: 10/48\n",
            "Generate from vectors progress: 11/48\n",
            "Generate from vectors progress: 12/48\n",
            "Generate from vectors progress: 13/48\n",
            "Generate from vectors progress: 14/48\n",
            "Generate from vectors progress: 15/48\n",
            "Generate from vectors progress: 16/48\n",
            "Generate from vectors progress: 17/48\n",
            "Generate from vectors progress: 18/48\n",
            "Generate from vectors progress: 19/48\n",
            "Generate from vectors progress: 20/48\n",
            "Generate from vectors progress: 21/48\n",
            "Generate from vectors progress: 22/48\n",
            "Generate from vectors progress: 23/48\n",
            "Generate from vectors progress: 24/48\n",
            "Generate from vectors progress: 25/48\n",
            "Generate from vectors progress: 26/48\n",
            "Generate from vectors progress: 27/48\n",
            "Generate from vectors progress: 28/48\n",
            "Generate from vectors progress: 29/48\n",
            "Generate from vectors progress: 30/48\n",
            "Generate from vectors progress: 31/48\n",
            "Generate from vectors progress: 32/48\n",
            "Generate from vectors progress: 33/48\n",
            "Generate from vectors progress: 34/48\n",
            "Generate from vectors progress: 35/48\n",
            "Generate from vectors progress: 36/48\n",
            "Generate from vectors progress: 37/48\n",
            "Generate from vectors progress: 38/48\n",
            "Generate from vectors progress: 39/48\n",
            "Generate from vectors progress: 40/48\n",
            "Generate from vectors progress: 41/48\n",
            "Generate from vectors progress: 42/48\n",
            "Generate from vectors progress: 43/48\n",
            "Generate from vectors progress: 44/48\n",
            "Generate from vectors progress: 45/48\n",
            "Generate from vectors progress: 46/48\n",
            "Generate from vectors progress: 47/48\n",
            "Generate from vectors progress: 48/48\n"
          ]
        }
      ],
      "metadata": {
        "colab": {
          "base_uri": "https://localhost:8080/"
        },
        "id": "YsBl9maGxwrY",
        "outputId": "bd1c992c-b4ca-4a98-d05a-ea0019bb3198"
      }
    },
    {
      "cell_type": "markdown",
      "source": [
        "### Create .mp4 with ffmpeg"
      ],
      "metadata": {
        "id": "yWXGhWZlivQq"
      }
    },
    {
      "cell_type": "code",
      "execution_count": null,
      "source": [
        "!ffmpeg -framerate 24 -i {out_dir}/frames/frame-%09d.png -c:v libx264 -pix_fmt yuv420p -crf 23 {out_dir}/circular.mp4"
      ],
      "outputs": [
        {
          "output_type": "stream",
          "name": "stdout",
          "text": [
            "ffmpeg version 3.4.8-0ubuntu0.2 Copyright (c) 2000-2020 the FFmpeg developers\n",
            "  built with gcc 7 (Ubuntu 7.5.0-3ubuntu1~18.04)\n",
            "  configuration: --prefix=/usr --extra-version=0ubuntu0.2 --toolchain=hardened --libdir=/usr/lib/x86_64-linux-gnu --incdir=/usr/include/x86_64-linux-gnu --enable-gpl --disable-stripping --enable-avresample --enable-avisynth --enable-gnutls --enable-ladspa --enable-libass --enable-libbluray --enable-libbs2b --enable-libcaca --enable-libcdio --enable-libflite --enable-libfontconfig --enable-libfreetype --enable-libfribidi --enable-libgme --enable-libgsm --enable-libmp3lame --enable-libmysofa --enable-libopenjpeg --enable-libopenmpt --enable-libopus --enable-libpulse --enable-librubberband --enable-librsvg --enable-libshine --enable-libsnappy --enable-libsoxr --enable-libspeex --enable-libssh --enable-libtheora --enable-libtwolame --enable-libvorbis --enable-libvpx --enable-libwavpack --enable-libwebp --enable-libx265 --enable-libxml2 --enable-libxvid --enable-libzmq --enable-libzvbi --enable-omx --enable-openal --enable-opengl --enable-sdl2 --enable-libdc1394 --enable-libdrm --enable-libiec61883 --enable-chromaprint --enable-frei0r --enable-libopencv --enable-libx264 --enable-shared\n",
            "  libavutil      55. 78.100 / 55. 78.100\n",
            "  libavcodec     57.107.100 / 57.107.100\n",
            "  libavformat    57. 83.100 / 57. 83.100\n",
            "  libavdevice    57. 10.100 / 57. 10.100\n",
            "  libavfilter     6.107.100 /  6.107.100\n",
            "  libavresample   3.  7.  0 /  3.  7.  0\n",
            "  libswscale      4.  8.100 /  4.  8.100\n",
            "  libswresample   2.  9.100 /  2.  9.100\n",
            "  libpostproc    54.  7.100 / 54.  7.100\n",
            "Input #0, image2, from '/content/drive/MyDrive/colab-alias-free-generate/ros-ffhq-test-0/circular-2/frames/frame-%09d.png':\n",
            "  Duration: 00:00:02.00, start: 0.000000, bitrate: N/A\n",
            "    Stream #0:0: Video: png, rgb24(pc), 256x256, 24 fps, 24 tbr, 24 tbn, 24 tbc\n",
            "Stream mapping:\n",
            "  Stream #0:0 -> #0:0 (png (native) -> h264 (libx264))\n",
            "Press [q] to stop, [?] for help\n",
            "\u001b[1;36m[libx264 @ 0x5625ab539e00] \u001b[0musing cpu capabilities: MMX2 SSE2Fast SSSE3 SSE4.2 AVX FMA3 BMI2 AVX2 AVX512\n",
            "\u001b[1;36m[libx264 @ 0x5625ab539e00] \u001b[0mprofile High, level 1.3\n",
            "\u001b[1;36m[libx264 @ 0x5625ab539e00] \u001b[0m264 - core 152 r2854 e9a5903 - H.264/MPEG-4 AVC codec - Copyleft 2003-2017 - http://www.videolan.org/x264.html - options: cabac=1 ref=3 deblock=1:0:0 analyse=0x3:0x113 me=hex subme=7 psy=1 psy_rd=1.00:0.00 mixed_ref=1 me_range=16 chroma_me=1 trellis=1 8x8dct=1 cqm=0 deadzone=21,11 fast_pskip=1 chroma_qp_offset=-2 threads=3 lookahead_threads=1 sliced_threads=0 nr=0 decimate=1 interlaced=0 bluray_compat=0 constrained_intra=0 bframes=3 b_pyramid=2 b_adapt=1 b_bias=0 direct=1 weightb=1 open_gop=0 weightp=2 keyint=250 keyint_min=24 scenecut=40 intra_refresh=0 rc_lookahead=40 rc=crf mbtree=1 crf=23.0 qcomp=0.60 qpmin=0 qpmax=69 qpstep=4 ip_ratio=1.40 aq=1:1.00\n",
            "Output #0, mp4, to '/content/drive/MyDrive/colab-alias-free-generate/ros-ffhq-test-0/circular-2/circular.mp4':\n",
            "  Metadata:\n",
            "    encoder         : Lavf57.83.100\n",
            "    Stream #0:0: Video: h264 (libx264) (avc1 / 0x31637661), yuv420p, 256x256, q=-1--1, 24 fps, 12288 tbn, 24 tbc\n",
            "    Metadata:\n",
            "      encoder         : Lavc57.107.100 libx264\n",
            "    Side data:\n",
            "      cpb: bitrate max/min/avg: 0/0/0 buffer size: 0 vbv_delay: -1\n",
            "frame=   48 fps=0.0 q=-1.0 Lsize=     188kB time=00:00:01.87 bitrate= 822.4kbits/s speed=   4x    \n",
            "video:187kB audio:0kB subtitle:0kB other streams:0kB global headers:0kB muxing overhead: 0.718473%\n",
            "\u001b[1;36m[libx264 @ 0x5625ab539e00] \u001b[0mframe I:2     Avg QP:26.93  size:  6828\n",
            "\u001b[1;36m[libx264 @ 0x5625ab539e00] \u001b[0mframe P:17    Avg QP:28.22  size:  4290\n",
            "\u001b[1;36m[libx264 @ 0x5625ab539e00] \u001b[0mframe B:29    Avg QP:29.36  size:  3590\n",
            "\u001b[1;36m[libx264 @ 0x5625ab539e00] \u001b[0mconsecutive B-frames: 16.7%  4.2% 12.5% 66.7%\n",
            "\u001b[1;36m[libx264 @ 0x5625ab539e00] \u001b[0mmb I  I16..4:  2.0% 70.5% 27.5%\n",
            "\u001b[1;36m[libx264 @ 0x5625ab539e00] \u001b[0mmb P  I16..4:  1.9% 37.0% 17.1%  P16..4: 20.6% 16.1%  5.9%  0.0%  0.0%    skip: 1.4%\n",
            "\u001b[1;36m[libx264 @ 0x5625ab539e00] \u001b[0mmb B  I16..4:  2.2% 18.1% 10.6%  B16..8: 27.2% 18.4%  5.4%  direct: 8.8%  skip: 9.3%  L0:37.2% L1:35.3% BI:27.5%\n",
            "\u001b[1;36m[libx264 @ 0x5625ab539e00] \u001b[0m8x8 transform intra:63.2% inter:65.0%\n",
            "\u001b[1;36m[libx264 @ 0x5625ab539e00] \u001b[0mcoded y,uvDC,uvAC intra: 84.6% 83.1% 44.3% inter: 57.4% 51.4% 1.5%\n",
            "\u001b[1;36m[libx264 @ 0x5625ab539e00] \u001b[0mi16 v,h,dc,p: 26% 19% 12% 43%\n",
            "\u001b[1;36m[libx264 @ 0x5625ab539e00] \u001b[0mi8 v,h,dc,ddl,ddr,vr,hd,vl,hu: 18% 13% 13%  7%  9% 11%  9% 11% 10%\n",
            "\u001b[1;36m[libx264 @ 0x5625ab539e00] \u001b[0mi4 v,h,dc,ddl,ddr,vr,hd,vl,hu: 16% 13% 14%  8% 12% 12%  9%  9%  8%\n",
            "\u001b[1;36m[libx264 @ 0x5625ab539e00] \u001b[0mi8c dc,h,v,p: 51% 16% 21% 12%\n",
            "\u001b[1;36m[libx264 @ 0x5625ab539e00] \u001b[0mWeighted P-Frames: Y:23.5% UV:17.6%\n",
            "\u001b[1;36m[libx264 @ 0x5625ab539e00] \u001b[0mref P L0: 61.1% 28.6%  8.3%  1.4%  0.5%\n",
            "\u001b[1;36m[libx264 @ 0x5625ab539e00] \u001b[0mref B L0: 95.7%  3.4%  0.9%\n",
            "\u001b[1;36m[libx264 @ 0x5625ab539e00] \u001b[0mref B L1: 99.3%  0.7%\n",
            "\u001b[1;36m[libx264 @ 0x5625ab539e00] \u001b[0mkb/s:762.76\n"
          ]
        }
      ],
      "metadata": {
        "id": "kzQABUQXivQz",
        "colab": {
          "base_uri": "https://localhost:8080/"
        },
        "outputId": "eea445af-abee-4c24-ea31-2a94bdb6ebb5"
      }
    },
    {
      "cell_type": "markdown",
      "source": [
        "### Create .gif with imagemagick"
      ],
      "metadata": {
        "id": "V5lz2J-TivQ1"
      }
    },
    {
      "cell_type": "code",
      "execution_count": null,
      "source": [
        "!convert -delay 5 -loop 0 {out_dir}/frames/*.png {out_dir}/circular.gif"
      ],
      "outputs": [],
      "metadata": {
        "id": "UrYtUJNEivQ2"
      }
    },
    {
      "cell_type": "markdown",
      "source": [
        "## Simplex Noise\n",
        "\n",
        "Generates a interpolation loop useing open simplex noise.\n",
        "\n",
        "**Diameter:**\n",
        "\n",
        "No limits on diameter size. Two diameter values will be treated as min and max.\n",
        "\n",
        "Same thing as above where smaller diameter values for low frame count and higher for more frames.\n",
        "\n",
        "**Notes:**\n",
        "\n",
        "- Seed values are used diffently from generate images and interpolate."
      ],
      "metadata": {
        "id": "q3Pu1KZ0zIAA"
      }
    },
    {
      "cell_type": "code",
      "execution_count": null,
      "source": [
        "!python scripts/generate_interpolation.py --help"
      ],
      "outputs": [],
      "metadata": {
        "id": "bZmVVSQDzG37"
      }
    },
    {
      "cell_type": "code",
      "execution_count": null,
      "source": [
        "out_dir = os.path.join(out_base_path, 'simplex_noise' + get_output_count())\n",
        "!python scripts/generate_interpolation.py \\\n",
        "  --method simplex_noise \\\n",
        "  --size {model_size} \\\n",
        "  --load_model {model_path} \\\n",
        "  --outdir {out_dir} \\\n",
        "  --frames 48 \\\n",
        "  --diameter 0.3"
      ],
      "outputs": [
        {
          "output_type": "stream",
          "name": "stdout",
          "text": [
            "Using Alias-Free GAN version: 1.1.0\n",
            "GPU available: True, used: True\n",
            "TPU available: False, using: 0 TPU cores\n",
            "IPU available: False, using: 0 IPUs\n",
            "LOCAL_RANK: 0 - CUDA_VISIBLE_DEVICES: [0]\n",
            "\n",
            "  | Name          | Type          | Params\n",
            "------------------------------------------------\n",
            "0 | generator     | Generator     | 17.3 M\n",
            "1 | g_ema         | Generator     | 17.3 M\n",
            "2 | discriminator | Discriminator | 28.9 M\n",
            "------------------------------------------------\n",
            "63.5 M    Trainable params\n",
            "0         Non-trainable params\n",
            "63.5 M    Total params\n",
            "253.864   Total estimated model params size (MB)\n",
            "Attempting to load pretrained model...\n",
            "Loading pretrained model from: /content/alias-free-gan/pretrained/rosinality-ffhq-800k.pt\n",
            "\n",
            "\n",
            "rosinality-ffhq-800k information:\n",
            "FFHQ 256 model trained by rosinality (source: https://github.com/rosinality/alias-free-gan-pytorch/issues/3). Trained for 800k steps with a batch size of 16.\n",
            "\n",
            "\n",
            "Generating 48 frames for simplex noise interpolation with seed 71112.\n",
            "Saving log of arguments to /content/drive/MyDrive/colab-alias-free-generate/ros-ffhq-test-0/simplex_noise-3/args_log.txt\n",
            "Saving z_vectors to /content/drive/MyDrive/colab-alias-free-generate/ros-ffhq-test-0/simplex_noise-3/z_vectors.pt\n",
            "Generate from vectors progress: 1/48\n",
            "tcmalloc: large alloc 1435500544 bytes == 0x559f85186000 @  0x7f39db19cb6b 0x7f39db1bc379 0x7f397f94a26e 0x7f397f94b9e2 0x7f39c37989f8 0x7f39c3782359 0x7f39c378f1bf 0x7f39c37905a7 0x7f39c378adbb 0x7f39c378b4c7 0x7f39c3df0c62 0x7f39c3c4257b 0x7f39c528dc01 0x7f39c528e392 0x7f39c38b656d 0x7f39c334d518 0x7f39c3e632ba 0x7f39c38b0a7b 0x7f39c33461db 0x7f39c3e6321a 0x7f39c38aefc5 0x7f39c3345daa 0x7f39c3e63552 0x7f39c38b587d 0x7f39d624a026 0x559e1cfd9010 0x559e1cfd8da0 0x559e1d04d2f9 0x559e1cf19d14 0x559e1d04a318 0x559e1d047c35\n",
            "tcmalloc: large alloc 1433075712 bytes == 0x559f85186000 @  0x7f39db19cb6b 0x7f39db1bc379 0x7f397f94a26e 0x7f397f94b9e2 0x7f39c37989f8 0x7f39c3782359 0x7f39c378f1bf 0x7f39c37905a7 0x7f39c378adbb 0x7f39c378b4c7 0x7f39c3df0c62 0x7f39c3c4257b 0x7f39c528dc01 0x7f39c528e392 0x7f39c38b656d 0x7f39c334d518 0x7f39c3e632ba 0x7f39c38b0a7b 0x7f39c33461db 0x7f39c3e6321a 0x7f39c38aefc5 0x7f39c3345daa 0x7f39c3e63552 0x7f39c38b587d 0x7f39d624a026 0x559e1cfd9010 0x559e1cfd8da0 0x559e1d04d2f9 0x559e1cf19d14 0x559e1d04a318 0x559e1d047c35\n",
            "Generate from vectors progress: 2/48\n",
            "tcmalloc: large alloc 1435500544 bytes == 0x559f60550000 @  0x7f39db19cb6b 0x7f39db1bc379 0x7f397f94a26e 0x7f397f94b9e2 0x7f39c37989f8 0x7f39c3782359 0x7f39c378f1bf 0x7f39c37905a7 0x7f39c378adbb 0x7f39c378b4c7 0x7f39c3df0c62 0x7f39c3c4257b 0x7f39c528dc01 0x7f39c528e392 0x7f39c38b656d 0x7f39c334d518 0x7f39c3e632ba 0x7f39c38b0a7b 0x7f39c33461db 0x7f39c3e6321a 0x7f39c38aefc5 0x7f39c3345daa 0x7f39c3e63552 0x7f39c38b587d 0x7f39d624a026 0x559e1cfd9010 0x559e1cfd8da0 0x559e1d04d2f9 0x559e1cf19d14 0x559e1d04a318 0x559e1d047c35\n",
            "Generate from vectors progress: 3/48\n",
            "Generate from vectors progress: 4/48\n",
            "Generate from vectors progress: 5/48\n",
            "Generate from vectors progress: 6/48\n",
            "Generate from vectors progress: 7/48\n",
            "Generate from vectors progress: 8/48\n",
            "Generate from vectors progress: 9/48\n",
            "Generate from vectors progress: 10/48\n",
            "Generate from vectors progress: 11/48\n",
            "Generate from vectors progress: 12/48\n",
            "Generate from vectors progress: 13/48\n",
            "Generate from vectors progress: 14/48\n",
            "Generate from vectors progress: 15/48\n",
            "Generate from vectors progress: 16/48\n",
            "Generate from vectors progress: 17/48\n",
            "Generate from vectors progress: 18/48\n",
            "Generate from vectors progress: 19/48\n",
            "Generate from vectors progress: 20/48\n",
            "Generate from vectors progress: 21/48\n",
            "Generate from vectors progress: 22/48\n",
            "Generate from vectors progress: 23/48\n",
            "Generate from vectors progress: 24/48\n",
            "Generate from vectors progress: 25/48\n",
            "Generate from vectors progress: 26/48\n",
            "Generate from vectors progress: 27/48\n",
            "Generate from vectors progress: 28/48\n",
            "Generate from vectors progress: 29/48\n",
            "Generate from vectors progress: 30/48\n",
            "Generate from vectors progress: 31/48\n",
            "Generate from vectors progress: 32/48\n",
            "Generate from vectors progress: 33/48\n",
            "Generate from vectors progress: 34/48\n",
            "Generate from vectors progress: 35/48\n",
            "Generate from vectors progress: 36/48\n",
            "Generate from vectors progress: 37/48\n",
            "Generate from vectors progress: 38/48\n",
            "Generate from vectors progress: 39/48\n",
            "Generate from vectors progress: 40/48\n",
            "Generate from vectors progress: 41/48\n",
            "Generate from vectors progress: 42/48\n",
            "Generate from vectors progress: 43/48\n",
            "Generate from vectors progress: 44/48\n",
            "Generate from vectors progress: 45/48\n",
            "Generate from vectors progress: 46/48\n",
            "Generate from vectors progress: 47/48\n",
            "Generate from vectors progress: 48/48\n"
          ]
        }
      ],
      "metadata": {
        "colab": {
          "base_uri": "https://localhost:8080/"
        },
        "id": "R4mckIeEz5qh",
        "outputId": "04b8f6ac-8075-4952-e7cc-869145068c0a"
      }
    },
    {
      "cell_type": "markdown",
      "source": [
        "### Create .mp4 with ffmpeg"
      ],
      "metadata": {
        "id": "JexeGHgUi6vf"
      }
    },
    {
      "cell_type": "code",
      "execution_count": null,
      "source": [
        "!ffmpeg -framerate 24 -i {out_dir}/frames/frame-%09d.png -c:v libx264 -pix_fmt yuv420p -crf 23 {out_dir}/noise.mp4"
      ],
      "outputs": [],
      "metadata": {
        "id": "dRmq6zKri6vg"
      }
    },
    {
      "cell_type": "markdown",
      "source": [
        "### Create .gif with imagemagick"
      ],
      "metadata": {
        "id": "SplWfPNYi6vh"
      }
    },
    {
      "cell_type": "code",
      "execution_count": null,
      "source": [
        "!convert -delay 5 -loop 0 {out_dir}/frames/*.png {out_dir}/noise.gif"
      ],
      "outputs": [],
      "metadata": {
        "id": "PlKBIC_6i6vi"
      }
    },
    {
      "cell_type": "markdown",
      "source": [
        "## Repeat / Load Interpolation\n",
        "\n",
        "By default each interpolation saves a z_vectors.pt file which can be reloaded to repeat the interpolation. As long as the models have the same style dimensions you can use these across different models.\n",
        "\n",
        "You can also use another method to generate them. The files follow the format of \n",
        "```python\n",
        "torch.save({\n",
        "  'z_vectors': ## An array of numpy.arrays with shape (1, style_dim).\n",
        "    ## style_dim is typically 512. (aliasfreeganinstance.generator.style_dim)\n",
        "    ## Values in these numpy.arrays range between 0 and 1\n",
        "  })\n",
        "```"
      ],
      "metadata": {
        "id": "Hyc3vsCC0HIS"
      }
    },
    {
      "cell_type": "code",
      "execution_count": null,
      "source": [
        "!python scripts/generate_interpolation.py --help"
      ],
      "outputs": [],
      "metadata": {
        "id": "GCsnEGkO0Gow"
      }
    },
    {
      "cell_type": "code",
      "execution_count": null,
      "source": [
        "out_dir = os.path.join(out_base_path, 'z_vector_load' + get_output_count())\n",
        "!python scripts/generate_interpolation.py \\\n",
        "  --method load_z_vectors \\\n",
        "  --size {model_size} \\\n",
        "  --load_model {model_path} \\\n",
        "  --outdir {out_dir} \\\n",
        "  --path_to_z_vectors '/content/drive/MyDrive/colab-alias-free-generate/ros-ffhq-test-0/interpolate-1/z_vectors.pt'"
      ],
      "outputs": [],
      "metadata": {
        "id": "2lIpPNi711XR"
      }
    },
    {
      "cell_type": "markdown",
      "source": [
        "### Create .mp4 with ffmpeg"
      ],
      "metadata": {
        "id": "sQ7FgJ97jFRn"
      }
    },
    {
      "cell_type": "code",
      "execution_count": null,
      "source": [
        "!ffmpeg -framerate 24 -i {out_dir}/frames/frame-%09d.png -c:v libx264 -pix_fmt yuv420p -crf 23 {out_dir}/load_z.mp4"
      ],
      "outputs": [
        {
          "output_type": "stream",
          "name": "stdout",
          "text": [
            "ffmpeg version 3.4.8-0ubuntu0.2 Copyright (c) 2000-2020 the FFmpeg developers\n",
            "  built with gcc 7 (Ubuntu 7.5.0-3ubuntu1~18.04)\n",
            "  configuration: --prefix=/usr --extra-version=0ubuntu0.2 --toolchain=hardened --libdir=/usr/lib/x86_64-linux-gnu --incdir=/usr/include/x86_64-linux-gnu --enable-gpl --disable-stripping --enable-avresample --enable-avisynth --enable-gnutls --enable-ladspa --enable-libass --enable-libbluray --enable-libbs2b --enable-libcaca --enable-libcdio --enable-libflite --enable-libfontconfig --enable-libfreetype --enable-libfribidi --enable-libgme --enable-libgsm --enable-libmp3lame --enable-libmysofa --enable-libopenjpeg --enable-libopenmpt --enable-libopus --enable-libpulse --enable-librubberband --enable-librsvg --enable-libshine --enable-libsnappy --enable-libsoxr --enable-libspeex --enable-libssh --enable-libtheora --enable-libtwolame --enable-libvorbis --enable-libvpx --enable-libwavpack --enable-libwebp --enable-libx265 --enable-libxml2 --enable-libxvid --enable-libzmq --enable-libzvbi --enable-omx --enable-openal --enable-opengl --enable-sdl2 --enable-libdc1394 --enable-libdrm --enable-libiec61883 --enable-chromaprint --enable-frei0r --enable-libopencv --enable-libx264 --enable-shared\n",
            "  libavutil      55. 78.100 / 55. 78.100\n",
            "  libavcodec     57.107.100 / 57.107.100\n",
            "  libavformat    57. 83.100 / 57. 83.100\n",
            "  libavdevice    57. 10.100 / 57. 10.100\n",
            "  libavfilter     6.107.100 /  6.107.100\n",
            "  libavresample   3.  7.  0 /  3.  7.  0\n",
            "  libswscale      4.  8.100 /  4.  8.100\n",
            "  libswresample   2.  9.100 /  2.  9.100\n",
            "  libpostproc    54.  7.100 / 54.  7.100\n",
            "Input #0, image2, from '/content/drive/MyDrive/colab-alias-free-generate/ros-ffhq-test-0/z_vector_load-4/frames/frame-%09d.png':\n",
            "  Duration: 00:00:02.00, start: 0.000000, bitrate: N/A\n",
            "    Stream #0:0: Video: png, rgb24(pc), 256x256, 24 fps, 24 tbr, 24 tbn, 24 tbc\n",
            "Stream mapping:\n",
            "  Stream #0:0 -> #0:0 (png (native) -> h264 (libx264))\n",
            "Press [q] to stop, [?] for help\n",
            "\u001b[1;36m[libx264 @ 0x55c9bd731e00] \u001b[0musing cpu capabilities: MMX2 SSE2Fast SSSE3 SSE4.2 AVX FMA3 BMI2 AVX2 AVX512\n",
            "\u001b[1;36m[libx264 @ 0x55c9bd731e00] \u001b[0mprofile High, level 1.3\n",
            "\u001b[1;36m[libx264 @ 0x55c9bd731e00] \u001b[0m264 - core 152 r2854 e9a5903 - H.264/MPEG-4 AVC codec - Copyleft 2003-2017 - http://www.videolan.org/x264.html - options: cabac=1 ref=3 deblock=1:0:0 analyse=0x3:0x113 me=hex subme=7 psy=1 psy_rd=1.00:0.00 mixed_ref=1 me_range=16 chroma_me=1 trellis=1 8x8dct=1 cqm=0 deadzone=21,11 fast_pskip=1 chroma_qp_offset=-2 threads=3 lookahead_threads=1 sliced_threads=0 nr=0 decimate=1 interlaced=0 bluray_compat=0 constrained_intra=0 bframes=3 b_pyramid=2 b_adapt=1 b_bias=0 direct=1 weightb=1 open_gop=0 weightp=2 keyint=250 keyint_min=24 scenecut=40 intra_refresh=0 rc_lookahead=40 rc=crf mbtree=1 crf=23.0 qcomp=0.60 qpmin=0 qpmax=69 qpstep=4 ip_ratio=1.40 aq=1:1.00\n",
            "Output #0, mp4, to '/content/drive/MyDrive/colab-alias-free-generate/ros-ffhq-test-0/z_vector_load-4/load_z.mp4':\n",
            "  Metadata:\n",
            "    encoder         : Lavf57.83.100\n",
            "    Stream #0:0: Video: h264 (libx264) (avc1 / 0x31637661), yuv420p, 256x256, q=-1--1, 24 fps, 12288 tbn, 24 tbc\n",
            "    Metadata:\n",
            "      encoder         : Lavc57.107.100 libx264\n",
            "    Side data:\n",
            "      cpb: bitrate max/min/avg: 0/0/0 buffer size: 0 vbv_delay: -1\n",
            "frame=   48 fps=0.0 q=-1.0 Lsize=      71kB time=00:00:01.87 bitrate= 309.5kbits/s speed=5.85x    \n",
            "video:70kB audio:0kB subtitle:0kB other streams:0kB global headers:0kB muxing overhead: 1.891907%\n",
            "\u001b[1;36m[libx264 @ 0x55c9bd731e00] \u001b[0mframe I:1     Avg QP:25.32  size:  6893\n",
            "\u001b[1;36m[libx264 @ 0x55c9bd731e00] \u001b[0mframe P:22    Avg QP:25.17  size:  2407\n",
            "\u001b[1;36m[libx264 @ 0x55c9bd731e00] \u001b[0mframe B:25    Avg QP:27.55  size:   426\n",
            "\u001b[1;36m[libx264 @ 0x55c9bd731e00] \u001b[0mconsecutive B-frames: 25.0% 12.5% 12.5% 50.0%\n",
            "\u001b[1;36m[libx264 @ 0x55c9bd731e00] \u001b[0mmb I  I16..4:  5.5% 62.5% 32.0%\n",
            "\u001b[1;36m[libx264 @ 0x55c9bd731e00] \u001b[0mmb P  I16..4:  1.3%  6.4%  1.4%  P16..4: 40.7% 26.7% 14.5%  0.0%  0.0%    skip: 8.9%\n",
            "\u001b[1;36m[libx264 @ 0x55c9bd731e00] \u001b[0mmb B  I16..4:  0.0%  0.1%  0.0%  B16..8: 42.2%  4.7%  1.1%  direct: 2.1%  skip:49.7%  L0:25.6% L1:53.5% BI:20.9%\n",
            "\u001b[1;36m[libx264 @ 0x55c9bd731e00] \u001b[0m8x8 transform intra:67.3% inter:63.8%\n",
            "\u001b[1;36m[libx264 @ 0x55c9bd731e00] \u001b[0mcoded y,uvDC,uvAC intra: 72.3% 76.5% 33.3% inter: 26.8% 21.9% 0.8%\n",
            "\u001b[1;36m[libx264 @ 0x55c9bd731e00] \u001b[0mi16 v,h,dc,p: 16% 13% 17% 53%\n",
            "\u001b[1;36m[libx264 @ 0x55c9bd731e00] \u001b[0mi8 v,h,dc,ddl,ddr,vr,hd,vl,hu: 17%  8% 23%  6%  9% 15%  6%  9%  7%\n",
            "\u001b[1;36m[libx264 @ 0x55c9bd731e00] \u001b[0mi4 v,h,dc,ddl,ddr,vr,hd,vl,hu: 19% 11% 18%  6% 10% 14%  8%  7%  5%\n",
            "\u001b[1;36m[libx264 @ 0x55c9bd731e00] \u001b[0mi8c dc,h,v,p: 54% 15% 26%  5%\n",
            "\u001b[1;36m[libx264 @ 0x55c9bd731e00] \u001b[0mWeighted P-Frames: Y:4.5% UV:4.5%\n",
            "\u001b[1;36m[libx264 @ 0x55c9bd731e00] \u001b[0mref P L0: 63.8% 30.6%  4.9%  0.7%  0.0%\n",
            "\u001b[1;36m[libx264 @ 0x55c9bd731e00] \u001b[0mref B L0: 98.4%  1.5%  0.1%\n",
            "\u001b[1;36m[libx264 @ 0x55c9bd731e00] \u001b[0mref B L1: 99.3%  0.7%\n",
            "\u001b[1;36m[libx264 @ 0x55c9bd731e00] \u001b[0mkb/s:282.04\n"
          ]
        }
      ],
      "metadata": {
        "id": "5v_ElClzjFRy",
        "colab": {
          "base_uri": "https://localhost:8080/"
        },
        "outputId": "867d98b9-bd5d-4ebc-8947-c7d2f7e171f5"
      }
    },
    {
      "cell_type": "markdown",
      "source": [
        "### Create .gif with imagemagick"
      ],
      "metadata": {
        "id": "N7ufz4gzjFRz"
      }
    },
    {
      "cell_type": "code",
      "execution_count": null,
      "source": [
        "!convert -delay 5 -loop 0 {out_dir}/frames/*.png {out_dir}/load_z.gif"
      ],
      "outputs": [],
      "metadata": {
        "id": "eP0x8qb-jFRz"
      }
    },
    {
      "cell_type": "markdown",
      "source": [
        "## Rosinality Translate Script\n",
        "\n",
        "Creates animation with translation on the same latent.\n",
        "\n",
        "Run the first cell to install latest version of ffmpeg for the video codacs. Required if using `--video True` argument."
      ],
      "metadata": {
        "id": "e364fod5Ap34"
      }
    },
    {
      "cell_type": "code",
      "execution_count": null,
      "source": [
        "!python scripts/rosinality_generate.py --help"
      ],
      "outputs": [],
      "metadata": {
        "id": "VSR4ZhHqKqw3"
      }
    },
    {
      "cell_type": "code",
      "execution_count": null,
      "source": [
        "out_dir = os.path.join(out_base_path, 'rosinality_translate' + get_output_count())\n",
        "!python scripts/rosinality_generate.py \\\n",
        "    --size {model_size} \\\n",
        "    --outdir {out_dir} \\\n",
        "    --n_frame 48 \\\n",
        "    --n_img 1 \\\n",
        "    --frames True \\\n",
        "    {model_path}"
      ],
      "outputs": [],
      "metadata": {
        "colab": {
          "background_save": true
        },
        "id": "alSYMck-ApYr"
      }
    },
    {
      "cell_type": "markdown",
      "source": [
        "### Create .gif with imagemagick"
      ],
      "metadata": {
        "id": "6UWcKqiHjW_O"
      }
    },
    {
      "cell_type": "code",
      "execution_count": null,
      "source": [
        "!convert -delay 5 -loop 0 {out_dir}/frames/*.png {out_dir}/ros-translate.gif"
      ],
      "outputs": [],
      "metadata": {
        "id": "ljdfUPpjjW_P"
      }
    }
  ]
}