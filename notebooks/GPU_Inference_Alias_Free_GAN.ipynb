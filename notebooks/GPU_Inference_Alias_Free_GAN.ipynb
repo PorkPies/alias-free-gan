{
  "nbformat": 4,
  "nbformat_minor": 0,
  "metadata": {
    "colab": {
      "name": "GPU_Inference_Alias_Free_GAN.ipynb",
      "provenance": [],
      "collapsed_sections": [
        "ufjH87Y7rV9h"
      ],
      "authorship_tag": "ABX9TyMiPQ9dQpwSXLwyPl3YytmS",
      "include_colab_link": true
    },
    "kernelspec": {
      "name": "python3",
      "display_name": "Python 3"
    },
    "language_info": {
      "name": "python"
    },
    "accelerator": "GPU"
  },
  "cells": [
    {
      "cell_type": "markdown",
      "metadata": {
        "id": "view-in-github",
        "colab_type": "text"
      },
      "source": [
        "<a href=\"https://colab.research.google.com/github/duskvirkus/alias-free-gan/blob/notebook/notebooks/GPU_Inference_Alias_Free_GAN.ipynb\" target=\"_parent\"><img src=\"https://colab.research.google.com/assets/colab-badge.svg\" alt=\"Open In Colab\"/></a>"
      ]
    },
    {
      "cell_type": "markdown",
      "metadata": {
        "id": "d9FLSZsEo44l"
      },
      "source": [
        "# GPU Inference - Alias-Free GAN\n",
        "\n",
        "by duskvirkus\n",
        "\n",
        "This is a notebook for generating images and latent space walks with Alias-Free GAN on a Colab GPU instance.\n",
        "\n",
        "Repository: https://github.com/duskvirkus/alias-free-gan"
      ]
    },
    {
      "cell_type": "markdown",
      "metadata": {
        "id": "s5awrcU8pNA7"
      },
      "source": [
        "## GPU check\n",
        "\n",
        "If this fails change the runtime type in Runtime > Change runtime type > Select GPU."
      ]
    },
    {
      "cell_type": "code",
      "metadata": {
        "id": "v34gmaX8haFi",
        "colab": {
          "base_uri": "https://localhost:8080/"
        },
        "outputId": "cb9f6ba8-a52d-43d9-f345-4f61046c55a3"
      },
      "source": [
        "!nvidia-smi -L"
      ],
      "execution_count": null,
      "outputs": [
        {
          "output_type": "stream",
          "text": [
            "GPU 0: Tesla P100-PCIE-16GB (UUID: GPU-4a767d66-5576-2825-8118-47e679448c67)\n"
          ],
          "name": "stdout"
        }
      ]
    },
    {
      "cell_type": "markdown",
      "metadata": {
        "id": "oAOXsX-FpbPZ"
      },
      "source": [
        "## Clone Repository"
      ]
    },
    {
      "cell_type": "code",
      "metadata": {
        "id": "CuydfwVQpan6",
        "colab": {
          "base_uri": "https://localhost:8080/"
        },
        "outputId": "11382689-a74e-4f24-9158-7cd2bbe6d14c"
      },
      "source": [
        "import os\n",
        "\n",
        "repo_name = 'alias-free-gan'\n",
        "git_repo = 'https://github.com/duskvirkus/alias-free-gan.git'\n",
        "branch_name = 'devel'\n",
        "\n",
        "working_dir = os.path.join('/content', repo_name)\n",
        "\n",
        "!git clone --branch {branch_name} {git_repo}\n",
        "%cd {repo_name}"
      ],
      "execution_count": null,
      "outputs": [
        {
          "output_type": "stream",
          "text": [
            "Cloning into 'alias-free-gan'...\n",
            "remote: Enumerating objects: 1024, done.\u001b[K\n",
            "remote: Counting objects: 100% (66/66), done.\u001b[K\n",
            "remote: Compressing objects: 100% (20/20), done.\u001b[K\n",
            "remote: Total 1024 (delta 49), reused 48 (delta 46), pack-reused 958\u001b[K\n",
            "Receiving objects: 100% (1024/1024), 73.39 MiB | 40.06 MiB/s, done.\n",
            "Resolving deltas: 100% (510/510), done.\n",
            "/content/alias-free-gan\n"
          ],
          "name": "stdout"
        }
      ]
    },
    {
      "cell_type": "markdown",
      "metadata": {
        "id": "nh3SSwEwp4jX"
      },
      "source": [
        "## Connect Drive\n",
        "\n",
        "Recomended but not nesscary connect to drive to make accessing models and saving outputs easier. If you don't do this you'll have to upload and download from your colab session."
      ]
    },
    {
      "cell_type": "code",
      "metadata": {
        "id": "jONkPM9fqYDZ",
        "colab": {
          "base_uri": "https://localhost:8080/"
        },
        "outputId": "a77f29d3-a71e-4e6c-841a-186680c8f0d2"
      },
      "source": [
        "from google.colab import drive\n",
        "drive.mount('/content/drive')"
      ],
      "execution_count": null,
      "outputs": [
        {
          "output_type": "stream",
          "text": [
            "Mounted at /content/drive\n"
          ],
          "name": "stdout"
        }
      ]
    },
    {
      "cell_type": "markdown",
      "metadata": {
        "id": "glk2ycNtqgXt"
      },
      "source": [
        "## Install Dependencies\n",
        "\n",
        "You will likely see warnings or errors. Ignore these unless you're having trouble in other cells then include the output if you file an issue.\n",
        "\n",
        "Issue Link: https://github.com/duskvirkus/alias-free-gan/issues/new"
      ]
    },
    {
      "cell_type": "code",
      "metadata": {
        "id": "_LfvT2UPqjOJ"
      },
      "source": [
        "!python install.py"
      ],
      "execution_count": null,
      "outputs": []
    },
    {
      "cell_type": "markdown",
      "metadata": {
        "id": "zlKPcoS3rIRf"
      },
      "source": [
        "## Set Model and Save Location"
      ]
    },
    {
      "cell_type": "code",
      "metadata": {
        "id": "8FUCrvzHrHlT"
      },
      "source": [
        "model_path = '/content/drive/MyDrive/colab-gpu-alias-free/alias-free-gan/results/training-000005/000145-epoch-checkpoint.pt'\n",
        "model_size = 256 # 256, 512, or 1024\n",
        "out_base_path = '/content/drive/MyDrive/alias-free-experiments/testing/training-5-epoch-145/'\n",
        "import os\n",
        "os.makedirs(out_base_path, exist_ok=True)"
      ],
      "execution_count": 5,
      "outputs": []
    },
    {
      "cell_type": "markdown",
      "metadata": {
        "id": "ufjH87Y7rV9h"
      },
      "source": [
        "## Setup Output Counter\n",
        "\n",
        "This is will help avoid overwriting some generated files by accident."
      ]
    },
    {
      "cell_type": "code",
      "metadata": {
        "id": "-MIcXlsXrZt7"
      },
      "source": [
        "def get_output_count():\n",
        "  global output_count\n",
        "  output_count += 1\n",
        "  return '-' + str(output_count)\n",
        "\n",
        "output_count = -1"
      ],
      "execution_count": 13,
      "outputs": []
    },
    {
      "cell_type": "markdown",
      "metadata": {
        "id": "g1Y1KzRGsDSq"
      },
      "source": [
        "## Generate Single Images\n",
        "\n",
        "This will generate a folder of images with a seed range. These seeds can be used in the next section for interpolations. Checkout the help for more information on seed values."
      ]
    },
    {
      "cell_type": "code",
      "metadata": {
        "id": "9L88V3--tLxG"
      },
      "source": [
        "!python scripts/generate_images.py --help"
      ],
      "execution_count": null,
      "outputs": []
    },
    {
      "cell_type": "code",
      "metadata": {
        "id": "FKb-GsTmsUke",
        "colab": {
          "base_uri": "https://localhost:8080/"
        },
        "outputId": "ca100f94-30f7-453d-ab1a-192d9b02615c"
      },
      "source": [
        "out_dir = os.path.join(out_base_path, 'images' + get_output_count())\n",
        "!python scripts/generate_images.py \\\n",
        "  --size {model_size} \\\n",
        "  --load_model {model_path} \\\n",
        "  --outdir {out_dir} \\\n",
        "  --seed_stop 9"
      ],
      "execution_count": 10,
      "outputs": [
        {
          "output_type": "stream",
          "text": [
            "Using Alias-Free GAN version: 1.0.0\n",
            "GPU available: True, used: True\n",
            "TPU available: False, using: 0 TPU cores\n",
            "IPU available: False, using: 0 IPUs\n",
            "LOCAL_RANK: 0 - CUDA_VISIBLE_DEVICES: [0]\n",
            "2021-08-03 13:21:01.027564: I tensorflow/stream_executor/platform/default/dso_loader.cc:53] Successfully opened dynamic library libcudart.so.11.0\n",
            "\n",
            "  | Name          | Type          | Params\n",
            "------------------------------------------------\n",
            "0 | generator     | Generator     | 17.3 M\n",
            "1 | g_ema         | Generator     | 17.3 M\n",
            "2 | discriminator | Discriminator | 28.9 M\n",
            "------------------------------------------------\n",
            "63.5 M    Trainable params\n",
            "0         Non-trainable params\n",
            "63.5 M    Total params\n",
            "253.864   Total estimated model params size (MB)\n",
            "Loading Model from: /content/drive/MyDrive/colab-gpu-alias-free/alias-free-gan/results/training-000005/000145-epoch-checkpoint.pt\n",
            "\n",
            "Generating image for seed 0 at truncation 0.750000 and saving to /content/drive/MyDrive/alias-free-experiments/testing/training-5-epoch-145/images-0/seed0000.png\n",
            "Generating image for seed 1 at truncation 0.750000 and saving to /content/drive/MyDrive/alias-free-experiments/testing/training-5-epoch-145/images-0/seed0001.png\n",
            "Generating image for seed 2 at truncation 0.750000 and saving to /content/drive/MyDrive/alias-free-experiments/testing/training-5-epoch-145/images-0/seed0002.png\n",
            "Generating image for seed 3 at truncation 0.750000 and saving to /content/drive/MyDrive/alias-free-experiments/testing/training-5-epoch-145/images-0/seed0003.png\n",
            "Generating image for seed 4 at truncation 0.750000 and saving to /content/drive/MyDrive/alias-free-experiments/testing/training-5-epoch-145/images-0/seed0004.png\n",
            "Generating image for seed 5 at truncation 0.750000 and saving to /content/drive/MyDrive/alias-free-experiments/testing/training-5-epoch-145/images-0/seed0005.png\n",
            "Generating image for seed 6 at truncation 0.750000 and saving to /content/drive/MyDrive/alias-free-experiments/testing/training-5-epoch-145/images-0/seed0006.png\n",
            "Generating image for seed 7 at truncation 0.750000 and saving to /content/drive/MyDrive/alias-free-experiments/testing/training-5-epoch-145/images-0/seed0007.png\n",
            "Generating image for seed 8 at truncation 0.750000 and saving to /content/drive/MyDrive/alias-free-experiments/testing/training-5-epoch-145/images-0/seed0008.png\n"
          ],
          "name": "stdout"
        }
      ]
    },
    {
      "cell_type": "markdown",
      "metadata": {
        "id": "4Zxj8uGAuUDn"
      },
      "source": [
        "## Generate Interpolation\n",
        "\n",
        "Interpolate been seed values.\n",
        "\n",
        "**Seeds:**\n",
        "\n",
        "- If less than two seed values are provided enough will be randomly generated.\n",
        "- Be sure to start and end at the same seed if you want a loop.\n",
        "\n",
        "A seeds example\n",
        "```python\n",
        "  --seeds 10 1 32 10\n",
        "```\n",
        "\n",
        "**Easing:**\n",
        "\n",
        "You may notice there are a bunch of easing options. Linear is default. All the opitons are python ports of example code from [easings.net](https://easings.net/). Follow the link to view the shape of the different easing methods.\n",
        "\n",
        "**Notes:**\n",
        "\n",
        "- As always checkout the help for more information on all available options.\n",
        "- This automatically compensates for the distance between seed to make animation smoother."
      ]
    },
    {
      "cell_type": "code",
      "metadata": {
        "id": "ywSskK58u0FD"
      },
      "source": [
        "!python scripts/generate_interpolation.py --help"
      ],
      "execution_count": null,
      "outputs": []
    },
    {
      "cell_type": "code",
      "metadata": {
        "id": "yE5PA5t5upXO",
        "colab": {
          "base_uri": "https://localhost:8080/"
        },
        "outputId": "ead088a2-3779-4be1-dcd7-a89809378814"
      },
      "source": [
        "out_dir = os.path.join(out_base_path, 'interpolate' + get_output_count())\n",
        "!python scripts/generate_interpolation.py \\\n",
        "  --size {model_size} \\\n",
        "  --load_model {model_path} \\\n",
        "  --outdir {out_dir} \\\n",
        "  --frames 48"
      ],
      "execution_count": 12,
      "outputs": [
        {
          "output_type": "stream",
          "text": [
            "Using Alias-Free GAN version: 1.0.0\n",
            "GPU available: True, used: True\n",
            "TPU available: False, using: 0 TPU cores\n",
            "IPU available: False, using: 0 IPUs\n",
            "LOCAL_RANK: 0 - CUDA_VISIBLE_DEVICES: [0]\n",
            "2021-08-03 13:23:04.066718: I tensorflow/stream_executor/platform/default/dso_loader.cc:53] Successfully opened dynamic library libcudart.so.11.0\n",
            "\n",
            "  | Name          | Type          | Params\n",
            "------------------------------------------------\n",
            "0 | generator     | Generator     | 17.3 M\n",
            "1 | g_ema         | Generator     | 17.3 M\n",
            "2 | discriminator | Discriminator | 28.9 M\n",
            "------------------------------------------------\n",
            "63.5 M    Trainable params\n",
            "0         Non-trainable params\n",
            "63.5 M    Total params\n",
            "253.864   Total estimated model params size (MB)\n",
            "Loading Model from: /content/drive/MyDrive/colab-gpu-alias-free/alias-free-gan/results/training-000005/000145-epoch-checkpoint.pt\n",
            "\n",
            "Generating 48 frames for interpolation with seeds [11246, 61205] with linear easing.\n",
            "Saving log of arguments to /content/drive/MyDrive/alias-free-experiments/testing/training-5-epoch-145/interpolate-0/args_log.txt\n",
            "Saving z_vectors to /content/drive/MyDrive/alias-free-experiments/testing/training-5-epoch-145/interpolate-0/z_vectors.pt\n",
            "Generate from vectors progress: 0/48\n",
            "Generate from vectors progress: 1/48\n",
            "Generate from vectors progress: 2/48\n",
            "Generate from vectors progress: 3/48\n",
            "Generate from vectors progress: 4/48\n",
            "Generate from vectors progress: 5/48\n",
            "Generate from vectors progress: 6/48\n",
            "Generate from vectors progress: 7/48\n",
            "Generate from vectors progress: 8/48\n",
            "Generate from vectors progress: 9/48\n",
            "Generate from vectors progress: 10/48\n",
            "Generate from vectors progress: 11/48\n",
            "Generate from vectors progress: 12/48\n",
            "Generate from vectors progress: 13/48\n",
            "Generate from vectors progress: 14/48\n",
            "Generate from vectors progress: 15/48\n",
            "Generate from vectors progress: 16/48\n",
            "Generate from vectors progress: 17/48\n",
            "Generate from vectors progress: 18/48\n",
            "Generate from vectors progress: 19/48\n",
            "Generate from vectors progress: 20/48\n",
            "Generate from vectors progress: 21/48\n",
            "Generate from vectors progress: 22/48\n",
            "Generate from vectors progress: 23/48\n",
            "Generate from vectors progress: 24/48\n",
            "Generate from vectors progress: 25/48\n",
            "Generate from vectors progress: 26/48\n",
            "Generate from vectors progress: 27/48\n",
            "Generate from vectors progress: 28/48\n",
            "Generate from vectors progress: 29/48\n",
            "Generate from vectors progress: 30/48\n",
            "Generate from vectors progress: 31/48\n",
            "Generate from vectors progress: 32/48\n",
            "Generate from vectors progress: 33/48\n",
            "Generate from vectors progress: 34/48\n",
            "Generate from vectors progress: 35/48\n",
            "Generate from vectors progress: 36/48\n",
            "Generate from vectors progress: 37/48\n",
            "Generate from vectors progress: 38/48\n",
            "Generate from vectors progress: 39/48\n",
            "Generate from vectors progress: 40/48\n",
            "Generate from vectors progress: 41/48\n",
            "Generate from vectors progress: 42/48\n",
            "Generate from vectors progress: 43/48\n",
            "Generate from vectors progress: 44/48\n",
            "Generate from vectors progress: 45/48\n",
            "Generate from vectors progress: 46/48\n",
            "Generate from vectors progress: 47/48\n"
          ],
          "name": "stdout"
        }
      ]
    },
    {
      "cell_type": "markdown",
      "metadata": {
        "id": "WRbYCuMyxPd4"
      },
      "source": [
        "## Circular Interpolation\n",
        "\n",
        "Generates interpolation using sin and cos.\n",
        "\n",
        "**Diameter:**\n",
        "\n",
        "Diameter value should be between 0.0 and 10.0. If two are passed, the script will treat them as a min and max and generate a random diameter for each vector dimension.\n",
        "\n",
        "It's recommended you use low values for low frame counts like 1.5 for 36 frames and much higher values for larger frame counts like 6.0 for 480 frames.\n",
        "\n",
        "**Notes:**\n",
        "\n",
        "- Seed values are used diffently from generate images and interpolate."
      ]
    },
    {
      "cell_type": "code",
      "metadata": {
        "id": "jptQsC63y2Y0"
      },
      "source": [
        "!python scripts/generate_interpolation.py --help"
      ],
      "execution_count": null,
      "outputs": []
    },
    {
      "cell_type": "code",
      "metadata": {
        "id": "YsBl9maGxwrY",
        "colab": {
          "base_uri": "https://localhost:8080/"
        },
        "outputId": "82288435-7a21-4fb2-c6a5-1972e7e7fded"
      },
      "source": [
        "out_dir = os.path.join(out_base_path, 'circular' + get_output_count())\n",
        "!python scripts/generate_interpolation.py \\\n",
        "  --method circular \\\n",
        "  --size {model_size} \\\n",
        "  --load_model {model_path} \\\n",
        "  --outdir {out_dir} \\\n",
        "  --frames 48 \\\n",
        "  --diameter 2.0"
      ],
      "execution_count": 16,
      "outputs": [
        {
          "output_type": "stream",
          "text": [
            "Using Alias-Free GAN version: 1.0.0\n",
            "GPU available: True, used: True\n",
            "TPU available: False, using: 0 TPU cores\n",
            "IPU available: False, using: 0 IPUs\n",
            "LOCAL_RANK: 0 - CUDA_VISIBLE_DEVICES: [0]\n",
            "2021-08-03 13:38:19.786621: I tensorflow/stream_executor/platform/default/dso_loader.cc:53] Successfully opened dynamic library libcudart.so.11.0\n",
            "\n",
            "  | Name          | Type          | Params\n",
            "------------------------------------------------\n",
            "0 | generator     | Generator     | 17.3 M\n",
            "1 | g_ema         | Generator     | 17.3 M\n",
            "2 | discriminator | Discriminator | 28.9 M\n",
            "------------------------------------------------\n",
            "63.5 M    Trainable params\n",
            "0         Non-trainable params\n",
            "63.5 M    Total params\n",
            "253.864   Total estimated model params size (MB)\n",
            "Loading Model from: /content/drive/MyDrive/colab-gpu-alias-free/alias-free-gan/results/training-000005/000145-epoch-checkpoint.pt\n",
            "\n",
            "Generating 48 frames for circular interpolation with seed 88740.\n",
            "Saving log of arguments to /content/drive/MyDrive/alias-free-experiments/testing/training-5-epoch-145/circular-2/args_log.txt\n",
            "Saving z_vectors to /content/drive/MyDrive/alias-free-experiments/testing/training-5-epoch-145/circular-2/z_vectors.pt\n",
            "Generate from vectors progress: 0/48\n",
            "Generate from vectors progress: 1/48\n",
            "Generate from vectors progress: 2/48\n",
            "Generate from vectors progress: 3/48\n",
            "Generate from vectors progress: 4/48\n",
            "Generate from vectors progress: 5/48\n",
            "Generate from vectors progress: 6/48\n",
            "Generate from vectors progress: 7/48\n",
            "Generate from vectors progress: 8/48\n",
            "Generate from vectors progress: 9/48\n",
            "Generate from vectors progress: 10/48\n",
            "Generate from vectors progress: 11/48\n",
            "Generate from vectors progress: 12/48\n",
            "Generate from vectors progress: 13/48\n",
            "Generate from vectors progress: 14/48\n",
            "Generate from vectors progress: 15/48\n",
            "Generate from vectors progress: 16/48\n",
            "Generate from vectors progress: 17/48\n",
            "Generate from vectors progress: 18/48\n",
            "Generate from vectors progress: 19/48\n",
            "Generate from vectors progress: 20/48\n",
            "Generate from vectors progress: 21/48\n",
            "Generate from vectors progress: 22/48\n",
            "Generate from vectors progress: 23/48\n",
            "Generate from vectors progress: 24/48\n",
            "Generate from vectors progress: 25/48\n",
            "Generate from vectors progress: 26/48\n",
            "Generate from vectors progress: 27/48\n",
            "Generate from vectors progress: 28/48\n",
            "Generate from vectors progress: 29/48\n",
            "Generate from vectors progress: 30/48\n",
            "Generate from vectors progress: 31/48\n",
            "Generate from vectors progress: 32/48\n",
            "Generate from vectors progress: 33/48\n",
            "Generate from vectors progress: 34/48\n",
            "Generate from vectors progress: 35/48\n",
            "Generate from vectors progress: 36/48\n",
            "Generate from vectors progress: 37/48\n",
            "Generate from vectors progress: 38/48\n",
            "Generate from vectors progress: 39/48\n",
            "Generate from vectors progress: 40/48\n",
            "Generate from vectors progress: 41/48\n",
            "Generate from vectors progress: 42/48\n",
            "Generate from vectors progress: 43/48\n",
            "Generate from vectors progress: 44/48\n",
            "Generate from vectors progress: 45/48\n",
            "Generate from vectors progress: 46/48\n",
            "Generate from vectors progress: 47/48\n"
          ],
          "name": "stdout"
        }
      ]
    },
    {
      "cell_type": "markdown",
      "metadata": {
        "id": "q3Pu1KZ0zIAA"
      },
      "source": [
        "## Simplex Noise\n",
        "\n",
        "Generates a interpolation loop useing open simplex noise.\n",
        "\n",
        "**Diameter:**\n",
        "\n",
        "No limits on diameter size. Two diameter values will be treated as min and max.\n",
        "\n",
        "Same thing as above where smaller diameter values for low frame count and higher for more frames.\n",
        "\n",
        "**Notes:**\n",
        "\n",
        "- Seed values are used diffently from generate images and interpolate."
      ]
    },
    {
      "cell_type": "code",
      "metadata": {
        "id": "bZmVVSQDzG37"
      },
      "source": [
        "!python scripts/generate_interpolation.py --help"
      ],
      "execution_count": null,
      "outputs": []
    },
    {
      "cell_type": "code",
      "metadata": {
        "id": "R4mckIeEz5qh",
        "colab": {
          "base_uri": "https://localhost:8080/"
        },
        "outputId": "0b92b717-6e4d-4e86-c40d-2d70e3aaf630"
      },
      "source": [
        "out_dir = os.path.join(out_base_path, 'simplex_noise' + get_output_count())\n",
        "!python scripts/generate_interpolation.py \\\n",
        "  --method simplex_noise \\\n",
        "  --size {model_size} \\\n",
        "  --load_model {model_path} \\\n",
        "  --outdir {out_dir} \\\n",
        "  --frames 48 \\\n",
        "  --diameter 0.3"
      ],
      "execution_count": 17,
      "outputs": [
        {
          "output_type": "stream",
          "text": [
            "Using Alias-Free GAN version: 1.0.0\n",
            "GPU available: True, used: True\n",
            "TPU available: False, using: 0 TPU cores\n",
            "IPU available: False, using: 0 IPUs\n",
            "LOCAL_RANK: 0 - CUDA_VISIBLE_DEVICES: [0]\n",
            "2021-08-03 13:45:48.126001: I tensorflow/stream_executor/platform/default/dso_loader.cc:53] Successfully opened dynamic library libcudart.so.11.0\n",
            "\n",
            "  | Name          | Type          | Params\n",
            "------------------------------------------------\n",
            "0 | generator     | Generator     | 17.3 M\n",
            "1 | g_ema         | Generator     | 17.3 M\n",
            "2 | discriminator | Discriminator | 28.9 M\n",
            "------------------------------------------------\n",
            "63.5 M    Trainable params\n",
            "0         Non-trainable params\n",
            "63.5 M    Total params\n",
            "253.864   Total estimated model params size (MB)\n",
            "Loading Model from: /content/drive/MyDrive/colab-gpu-alias-free/alias-free-gan/results/training-000005/000145-epoch-checkpoint.pt\n",
            "\n",
            "Generating 48 frames for simplex noise interpolation with seed 44692.\n",
            "Saving log of arguments to /content/drive/MyDrive/alias-free-experiments/testing/training-5-epoch-145/simplex_noise-3/args_log.txt\n",
            "Saving z_vectors to /content/drive/MyDrive/alias-free-experiments/testing/training-5-epoch-145/simplex_noise-3/z_vectors.pt\n",
            "Generate from vectors progress: 0/48\n",
            "Generate from vectors progress: 1/48\n",
            "Generate from vectors progress: 2/48\n",
            "Generate from vectors progress: 3/48\n",
            "Generate from vectors progress: 4/48\n",
            "Generate from vectors progress: 5/48\n",
            "Generate from vectors progress: 6/48\n",
            "Generate from vectors progress: 7/48\n",
            "Generate from vectors progress: 8/48\n",
            "Generate from vectors progress: 9/48\n",
            "Generate from vectors progress: 10/48\n",
            "Generate from vectors progress: 11/48\n",
            "Generate from vectors progress: 12/48\n",
            "Generate from vectors progress: 13/48\n",
            "Generate from vectors progress: 14/48\n",
            "Generate from vectors progress: 15/48\n",
            "Generate from vectors progress: 16/48\n",
            "Generate from vectors progress: 17/48\n",
            "Generate from vectors progress: 18/48\n",
            "Generate from vectors progress: 19/48\n",
            "Generate from vectors progress: 20/48\n",
            "Generate from vectors progress: 21/48\n",
            "Generate from vectors progress: 22/48\n",
            "Generate from vectors progress: 23/48\n",
            "Generate from vectors progress: 24/48\n",
            "Generate from vectors progress: 25/48\n",
            "Generate from vectors progress: 26/48\n",
            "Generate from vectors progress: 27/48\n",
            "Generate from vectors progress: 28/48\n",
            "Generate from vectors progress: 29/48\n",
            "Generate from vectors progress: 30/48\n",
            "Generate from vectors progress: 31/48\n",
            "Generate from vectors progress: 32/48\n",
            "Generate from vectors progress: 33/48\n",
            "Generate from vectors progress: 34/48\n",
            "Generate from vectors progress: 35/48\n",
            "Generate from vectors progress: 36/48\n",
            "Generate from vectors progress: 37/48\n",
            "Generate from vectors progress: 38/48\n",
            "Generate from vectors progress: 39/48\n",
            "Generate from vectors progress: 40/48\n",
            "Generate from vectors progress: 41/48\n",
            "Generate from vectors progress: 42/48\n",
            "Generate from vectors progress: 43/48\n",
            "Generate from vectors progress: 44/48\n",
            "Generate from vectors progress: 45/48\n",
            "Generate from vectors progress: 46/48\n",
            "Generate from vectors progress: 47/48\n"
          ],
          "name": "stdout"
        }
      ]
    },
    {
      "cell_type": "markdown",
      "metadata": {
        "id": "Hyc3vsCC0HIS"
      },
      "source": [
        "## Repeat / Load Interpolation\n",
        "\n",
        "By default each interpolation saves a z_vectors.pt file which can be reloaded to repeat the interpolation. As long as the models have the same style dimensions you can use these across different models.\n",
        "\n",
        "You can also use another method to generate them. The files follow the format of \n",
        "```python\n",
        "torch.save({\n",
        "  'z_vectors': ## An array of numpy.arrays with shape (1, style_dim).\n",
        "    ## style_dim is typically 512. (aliasfreeganinstance.generator.style_dim)\n",
        "    ## Values in these numpy.arrays range between 0 and 1\n",
        "  })\n",
        "```"
      ]
    },
    {
      "cell_type": "code",
      "metadata": {
        "id": "GCsnEGkO0Gow"
      },
      "source": [
        "!python scripts/generate_interpolation.py --help"
      ],
      "execution_count": null,
      "outputs": []
    },
    {
      "cell_type": "code",
      "metadata": {
        "id": "2lIpPNi711XR",
        "colab": {
          "base_uri": "https://localhost:8080/"
        },
        "outputId": "25de0c0e-d199-4607-997f-092409670dc7"
      },
      "source": [
        "out_dir = os.path.join(out_base_path, 'z_vector_load' + get_output_count())\n",
        "!python scripts/generate_interpolation.py \\\n",
        "  --method load_z_vectors \\\n",
        "  --size {model_size} \\\n",
        "  --load_model {model_path} \\\n",
        "  --outdir {out_dir} \\\n",
        "  --path_to_z_vectors '/content/drive/MyDrive/alias-free-experiments/testing/training-5-epoch-145/simplex_noise-3/z_vectors.pt'"
      ],
      "execution_count": 18,
      "outputs": [
        {
          "output_type": "stream",
          "text": [
            "Using Alias-Free GAN version: 1.0.0\n",
            "GPU available: True, used: True\n",
            "TPU available: False, using: 0 TPU cores\n",
            "IPU available: False, using: 0 IPUs\n",
            "LOCAL_RANK: 0 - CUDA_VISIBLE_DEVICES: [0]\n",
            "2021-08-03 13:53:01.508180: I tensorflow/stream_executor/platform/default/dso_loader.cc:53] Successfully opened dynamic library libcudart.so.11.0\n",
            "\n",
            "  | Name          | Type          | Params\n",
            "------------------------------------------------\n",
            "0 | generator     | Generator     | 17.3 M\n",
            "1 | g_ema         | Generator     | 17.3 M\n",
            "2 | discriminator | Discriminator | 28.9 M\n",
            "------------------------------------------------\n",
            "63.5 M    Trainable params\n",
            "0         Non-trainable params\n",
            "63.5 M    Total params\n",
            "253.864   Total estimated model params size (MB)\n",
            "Loading Model from: /content/drive/MyDrive/colab-gpu-alias-free/alias-free-gan/results/training-000005/000145-epoch-checkpoint.pt\n",
            "\n",
            "Saving log of arguments to /content/drive/MyDrive/alias-free-experiments/testing/training-5-epoch-145/z_vector_load-4/args_log.txt\n",
            "Skipping save z_vectors because load_z_vectors is the selected method.\n",
            "Generate from vectors progress: 0/48\n",
            "Generate from vectors progress: 1/48\n",
            "Generate from vectors progress: 2/48\n",
            "Generate from vectors progress: 3/48\n",
            "Generate from vectors progress: 4/48\n",
            "Generate from vectors progress: 5/48\n",
            "Generate from vectors progress: 6/48\n",
            "Generate from vectors progress: 7/48\n",
            "Generate from vectors progress: 8/48\n",
            "Generate from vectors progress: 9/48\n",
            "Generate from vectors progress: 10/48\n",
            "Generate from vectors progress: 11/48\n",
            "Generate from vectors progress: 12/48\n",
            "Generate from vectors progress: 13/48\n",
            "Generate from vectors progress: 14/48\n",
            "Generate from vectors progress: 15/48\n",
            "Generate from vectors progress: 16/48\n",
            "Generate from vectors progress: 17/48\n",
            "Generate from vectors progress: 18/48\n",
            "Generate from vectors progress: 19/48\n",
            "Generate from vectors progress: 20/48\n",
            "Generate from vectors progress: 21/48\n",
            "Generate from vectors progress: 22/48\n",
            "Generate from vectors progress: 23/48\n",
            "Generate from vectors progress: 24/48\n",
            "Generate from vectors progress: 25/48\n",
            "Generate from vectors progress: 26/48\n",
            "Generate from vectors progress: 27/48\n",
            "Generate from vectors progress: 28/48\n",
            "Generate from vectors progress: 29/48\n",
            "Generate from vectors progress: 30/48\n",
            "Generate from vectors progress: 31/48\n",
            "Generate from vectors progress: 32/48\n",
            "Generate from vectors progress: 33/48\n",
            "Generate from vectors progress: 34/48\n",
            "Generate from vectors progress: 35/48\n",
            "Generate from vectors progress: 36/48\n",
            "Generate from vectors progress: 37/48\n",
            "Generate from vectors progress: 38/48\n",
            "Generate from vectors progress: 39/48\n",
            "Generate from vectors progress: 40/48\n",
            "Generate from vectors progress: 41/48\n",
            "Generate from vectors progress: 42/48\n",
            "Generate from vectors progress: 43/48\n",
            "Generate from vectors progress: 44/48\n",
            "Generate from vectors progress: 45/48\n",
            "Generate from vectors progress: 46/48\n",
            "Generate from vectors progress: 47/48\n"
          ],
          "name": "stdout"
        }
      ]
    }
  ]
}