{
  "nbformat": 4,
  "nbformat_minor": 0,
  "metadata": {
    "colab": {
      "name": "GPU_Inference_Alias_Free_GAN.ipynb",
      "provenance": [],
      "collapsed_sections": [
        "ufjH87Y7rV9h"
      ],
      "authorship_tag": "ABX9TyPwptBTtpPq7M66kjZ2Rk5U",
      "include_colab_link": true
    },
    "kernelspec": {
      "name": "python3",
      "display_name": "Python 3"
    },
    "language_info": {
      "name": "python"
    }
  },
  "cells": [
    {
      "cell_type": "markdown",
      "metadata": {
        "id": "view-in-github",
        "colab_type": "text"
      },
      "source": [
        "<a href=\"https://colab.research.google.com/github/duskvirkus/alias-free-gan/blob/notebook/notebooks/GPU_Inference_Alias_Free_GAN.ipynb\" target=\"_parent\"><img src=\"https://colab.research.google.com/assets/colab-badge.svg\" alt=\"Open In Colab\"/></a>"
      ]
    },
    {
      "cell_type": "markdown",
      "metadata": {
        "id": "d9FLSZsEo44l"
      },
      "source": [
        "# GPU Inference - Alias-Free GAN\n",
        "\n",
        "by duskvirkus\n",
        "\n",
        "This is a notebook for generating images and latent space walks with Alias-Free GAN on a Colab GPU instance.\n",
        "\n",
        "Repository: https://github.com/duskvirkus/alias-free-gan"
      ]
    },
    {
      "cell_type": "markdown",
      "metadata": {
        "id": "s5awrcU8pNA7"
      },
      "source": [
        "## GPU check\n",
        "\n",
        "If this fails change the runtime type in Runtime > Change runtime type > Select GPU."
      ]
    },
    {
      "cell_type": "code",
      "metadata": {
        "id": "v34gmaX8haFi"
      },
      "source": [
        "!nvidia-smi -L"
      ],
      "execution_count": null,
      "outputs": []
    },
    {
      "cell_type": "markdown",
      "metadata": {
        "id": "oAOXsX-FpbPZ"
      },
      "source": [
        "## Clone Repository"
      ]
    },
    {
      "cell_type": "code",
      "metadata": {
        "id": "CuydfwVQpan6"
      },
      "source": [
        "import os\n",
        "\n",
        "repo_name = 'alias-free-gan'\n",
        "git_repo = 'https://github.com/duskvirkus/alias-free-gan.git'\n",
        "branch_name = 'devel'\n",
        "\n",
        "working_dir = os.path.join('/content', repo_name)\n",
        "\n",
        "!git clone --branch {branch_name} {git_repo}\n",
        "%cd {repo_name}"
      ],
      "execution_count": null,
      "outputs": []
    },
    {
      "cell_type": "markdown",
      "metadata": {
        "id": "nh3SSwEwp4jX"
      },
      "source": [
        "## Connect Drive\n",
        "\n",
        "Recomended but not nesscary connect to drive to make accessing models and saving outputs easier. If you don't do this you'll have to upload and download from your colab session."
      ]
    },
    {
      "cell_type": "code",
      "metadata": {
        "id": "jONkPM9fqYDZ"
      },
      "source": [
        "from google.colab import drive\n",
        "drive.mount('/content/drive')"
      ],
      "execution_count": null,
      "outputs": []
    },
    {
      "cell_type": "markdown",
      "metadata": {
        "id": "glk2ycNtqgXt"
      },
      "source": [
        "## Install Dependencies\n",
        "\n",
        "You will likely see warnings or errors. Ignore these unless you're having trouble in other cells then include the output if you file an issue.\n",
        "\n",
        "Issue Link: https://github.com/duskvirkus/alias-free-gan/issues/new"
      ]
    },
    {
      "cell_type": "code",
      "metadata": {
        "id": "_LfvT2UPqjOJ"
      },
      "source": [
        "!python install.py"
      ],
      "execution_count": null,
      "outputs": []
    },
    {
      "cell_type": "markdown",
      "metadata": {
        "id": "zlKPcoS3rIRf"
      },
      "source": [
        "## Set Model and Save Location"
      ]
    },
    {
      "cell_type": "code",
      "metadata": {
        "id": "8FUCrvzHrHlT"
      },
      "source": [
        "model_path = ''\n",
        "model_size = 256 # 256, 512, or 1024\n",
        "out_base_path = ''\n",
        "import os\n",
        "os.makedirs(out_base_path, exist_ok=True)"
      ],
      "execution_count": null,
      "outputs": []
    },
    {
      "cell_type": "markdown",
      "metadata": {
        "id": "ufjH87Y7rV9h"
      },
      "source": [
        "## Setup Output Counter\n",
        "\n",
        "This is will help avoid overwriting some generated files by accident."
      ]
    },
    {
      "cell_type": "code",
      "metadata": {
        "id": "-MIcXlsXrZt7"
      },
      "source": [
        "output_count = -1\n",
        "\n",
        "def get_output_count():\n",
        "  output_count += 1\n",
        "  return '-' + str(output_count)"
      ],
      "execution_count": null,
      "outputs": []
    },
    {
      "cell_type": "markdown",
      "metadata": {
        "id": "g1Y1KzRGsDSq"
      },
      "source": [
        "## Generate Single Images\n",
        "\n",
        "This will generate a folder of images with a seed range. These seeds can be used in the next section for interpolations. Checkout the help for more information on seed values."
      ]
    },
    {
      "cell_type": "code",
      "metadata": {
        "id": "9L88V3--tLxG"
      },
      "source": [
        "!python scripts/generate_images.py --help"
      ],
      "execution_count": null,
      "outputs": []
    },
    {
      "cell_type": "code",
      "metadata": {
        "id": "FKb-GsTmsUke"
      },
      "source": [
        "out_dir = os.path.join(out_base_path, 'images' + get_output_count())\n",
        "!python scripts/generate_images.py \\\n",
        "  --size {model_size} \\\n",
        "  --load_model {model_path} \\\n",
        "  --outdir {out_dir}"
      ],
      "execution_count": null,
      "outputs": []
    },
    {
      "cell_type": "markdown",
      "metadata": {
        "id": "4Zxj8uGAuUDn"
      },
      "source": [
        "## Generate Interpolation\n",
        "\n",
        "Interpolate been seed values.\n",
        "\n",
        "**Seeds:**\n",
        "\n",
        "- If less than two seed values are provided enough will be randomly generated.\n",
        "- Be sure to start and end at the same seed if you want a loop.\n",
        "\n",
        "A seeds example\n",
        "```python\n",
        "  --seeds 10 1 32 10\n",
        "```\n",
        "\n",
        "**Easing:**\n",
        "\n",
        "You may notice there are a bunch of easing options. Linear is default. All the opitons are python ports of example code from [easings.net](https://easings.net/). Follow the link to view the shape of the different easing methods.\n",
        "\n",
        "**Notes:**\n",
        "\n",
        "- As always checkout the help for more information on all available options.\n",
        "- This automatically compensates for the distance between seed to make animation smoother."
      ]
    },
    {
      "cell_type": "code",
      "metadata": {
        "id": "ywSskK58u0FD"
      },
      "source": [
        "!python scripts/generate_interpolation.py --help"
      ],
      "execution_count": null,
      "outputs": []
    },
    {
      "cell_type": "code",
      "metadata": {
        "id": "yE5PA5t5upXO"
      },
      "source": [
        "out_dir = os.path.join(out_base_path, 'interpolate' + get_output_count())\n",
        "!python scripts/generate_interpolation.py \\\n",
        "  --size {model_save} \\\n",
        "  --load_model {model_path} \\\n",
        "  --outdir {out_dir} \\\n",
        "  --frames 48"
      ],
      "execution_count": null,
      "outputs": []
    },
    {
      "cell_type": "markdown",
      "metadata": {
        "id": "WRbYCuMyxPd4"
      },
      "source": [
        "## Circular Interpolation\n",
        "\n",
        "Generates interpolation using sin and cos.\n",
        "\n",
        "**Diameter:**\n",
        "\n",
        "Diameter value should be between 0.0 and 10.0. If two are passed, the script will treat them as a min and max and generate a random diameter for each vector dimension.\n",
        "\n",
        "It's recommended you use low values for low frame counts like 1.5 for 36 frames and much higher values for larger frame counts like 6.0 for 480 frames.\n",
        "\n",
        "**Notes:**\n",
        "\n",
        "- Seed values are used diffently from generate images and interpolate."
      ]
    },
    {
      "cell_type": "code",
      "metadata": {
        "id": "jptQsC63y2Y0"
      },
      "source": [
        "!python scripts/generate_interpolation.py --help"
      ],
      "execution_count": null,
      "outputs": []
    },
    {
      "cell_type": "code",
      "metadata": {
        "id": "YsBl9maGxwrY"
      },
      "source": [
        "out_dir = os.path.join(out_base_path, 'circular' + get_output_count())\n",
        "!python scripts/generate_interpolation.py \\\n",
        "  --method circular \\\n",
        "  --size {model_save} \\\n",
        "  --load_model {model_path} \\\n",
        "  --outdir {out_dir} \\\n",
        "  --frames 48 \\\n",
        "  --diameter 2.0"
      ],
      "execution_count": null,
      "outputs": []
    },
    {
      "cell_type": "markdown",
      "metadata": {
        "id": "q3Pu1KZ0zIAA"
      },
      "source": [
        "## Simplex Noise\n",
        "\n",
        "Generates a interpolation loop useing open simplex noise.\n",
        "\n",
        "**Diameter:**\n",
        "\n",
        "No limits on diameter size. Two diameter values will be treated as min and max.\n",
        "\n",
        "Same thing as above where smaller diameter values for low frame count and higher for more frames.\n",
        "\n",
        "**Notes:**\n",
        "\n",
        "- Seed values are used diffently from generate images and interpolate."
      ]
    },
    {
      "cell_type": "code",
      "metadata": {
        "id": "bZmVVSQDzG37"
      },
      "source": [
        "!python scripts/generate_interpolation.py --help"
      ],
      "execution_count": null,
      "outputs": []
    },
    {
      "cell_type": "code",
      "metadata": {
        "id": "R4mckIeEz5qh"
      },
      "source": [
        "out_dir = os.path.join(out_base_path, 'simplex_noise' + get_output_count())\n",
        "!python scripts/generate_interpolation.py \\\n",
        "  --method simplex_noise \\\n",
        "  --size {model_save} \\\n",
        "  --load_model {model_path} \\\n",
        "  --outdir {out_dir} \\\n",
        "  --frames 48 \\\n",
        "  --diameter 0.3"
      ],
      "execution_count": null,
      "outputs": []
    },
    {
      "cell_type": "markdown",
      "metadata": {
        "id": "Hyc3vsCC0HIS"
      },
      "source": [
        "## Repeat / Load Interpolation\n",
        "\n",
        "By default each interpolation saves a z_vectors.pt file which can be reloaded to repeat the interpolation. As long as the models have the same style dimensions you can use these across different models.\n",
        "\n",
        "You can also use another method to generate them. The files follow the format of \n",
        "```python\n",
        "torch.save({\n",
        "  'z_vectors': ## An array of numpy.arrays with shape (1, style_dim).\n",
        "    ## style_dim is typically 512.\n",
        "    ## Values in these numpy.arrays range between 0 and 1\n",
        "  })\n",
        "```"
      ]
    },
    {
      "cell_type": "code",
      "metadata": {
        "id": "GCsnEGkO0Gow"
      },
      "source": [
        "!python scripts/generate_interpolation.py --help"
      ],
      "execution_count": null,
      "outputs": []
    },
    {
      "cell_type": "code",
      "metadata": {
        "id": "2lIpPNi711XR"
      },
      "source": [
        "out_dir = os.path.join(out_base_path, 'z_vector_load' + get_output_count())\n",
        "!python scripts/generate_interpolation.py \\\n",
        "  --method load_z_vectors \\\n",
        "  --size {model_save} \\\n",
        "  --load_model {model_path} \\\n",
        "  --outdir {out_dir} \\\n",
        "  --path_to_z_vectors ''"
      ],
      "execution_count": null,
      "outputs": []
    }
  ]
}