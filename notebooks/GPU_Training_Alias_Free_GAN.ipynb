{
  "nbformat": 4,
  "nbformat_minor": 0,
  "metadata": {
    "colab": {
      "name": "GPU_Training-Alias-Free_GAN.ipynb",
      "provenance": [],
      "collapsed_sections": [],
      "authorship_tag": "ABX9TyPMjUbsyHuQA6ttesjgyp5I",
      "include_colab_link": true
    },
    "kernelspec": {
      "name": "python3",
      "display_name": "Python 3"
    },
    "language_info": {
      "name": "python"
    },
    "accelerator": "GPU"
  },
  "cells": [
    {
      "cell_type": "markdown",
      "metadata": {
        "id": "view-in-github",
        "colab_type": "text"
      },
      "source": [
        "<a href=\"https://colab.research.google.com/github/duskvirkus/alias-free-gan/blob/notebook/notebooks/GPU_Training_Alias_Free_GAN.ipynb\" target=\"_parent\"><img src=\"https://colab.research.google.com/assets/colab-badge.svg\" alt=\"Open In Colab\"/></a>"
      ]
    },
    {
      "cell_type": "markdown",
      "metadata": {
        "id": "iooMpU0wSq1v"
      },
      "source": [
        "# GPU Training - Alias-Free GAN\n",
        "by duskvirkus\n",
        "\n",
        "This is a notebook for training Alias-Free GAN on a Colab GPU instance.\n",
        "\n",
        "Repository: https://github.com/duskvirkus/alias-free-gan"
      ]
    },
    {
      "cell_type": "markdown",
      "metadata": {
        "id": "f3ygaIX_TP7A"
      },
      "source": [
        "# GPU check\n",
        "\n",
        "If this fails change the runtime type in `Runtime > Change runtime type > Select GPU`."
      ]
    },
    {
      "cell_type": "code",
      "metadata": {
        "id": "ZFKRHS3TTPbH",
        "colab": {
          "base_uri": "https://localhost:8080/"
        },
        "outputId": "00daea77-0756-49c2-8acd-1b5226eba6aa"
      },
      "source": [
        "!nvidia-smi -L"
      ],
      "execution_count": 1,
      "outputs": [
        {
          "output_type": "stream",
          "text": [
            "GPU 0: Tesla P100-PCIE-16GB (UUID: GPU-708a59ae-a05f-4885-1218-48d39f6d8f69)\n"
          ],
          "name": "stdout"
        }
      ]
    },
    {
      "cell_type": "markdown",
      "metadata": {
        "id": "iRc3UyhPTi_6"
      },
      "source": [
        "## Connect Google Drive\n",
        "\n",
        "This notebook is designed to be used with google drive connected. If you'd like to use it without google drive you'll have to make changes.\n",
        "\n",
        "The main reason behind this is Colab sessions automaticall shut off after a number of hours (~10 for free and ~20 for pro). This risks loosing training progress if it's not saved to persistent storage."
      ]
    },
    {
      "cell_type": "code",
      "metadata": {
        "id": "6t1M2VB4Tif6",
        "colab": {
          "base_uri": "https://localhost:8080/"
        },
        "outputId": "82a375a3-7180-4ed3-e7e9-7b270492d1e4"
      },
      "source": [
        "from google.colab import drive\n",
        "drive.mount('/content/drive')"
      ],
      "execution_count": 2,
      "outputs": [
        {
          "output_type": "stream",
          "text": [
            "Mounted at /content/drive\n"
          ],
          "name": "stdout"
        }
      ]
    },
    {
      "cell_type": "markdown",
      "metadata": {
        "id": "zPv1ThsOU-Op"
      },
      "source": [
        "## Clone / cd into Repository"
      ]
    },
    {
      "cell_type": "code",
      "metadata": {
        "id": "_NBaGNEbSqPX",
        "colab": {
          "base_uri": "https://localhost:8080/"
        },
        "outputId": "de09ef3f-bf1b-4ab0-9318-f488c35df03e"
      },
      "source": [
        "import os\n",
        "drive_path = '/content/drive/MyDrive/'\n",
        "repo_container_dir = 'colab-gpu-alias-free'\n",
        "repo_name = 'alias-free-gan'\n",
        "git_repo = 'https://github.com/duskvirkus/alias-free-gan.git'\n",
        "\n",
        "working_dir = os.path.join(drive_path, repo_container_dir, repo_name)\n",
        "\n",
        "if os.path.isdir(working_dir):\n",
        "  %cd {working_dir}\n",
        "else:\n",
        "  container_path = os.path.join(drive_path, repo_container_dir)\n",
        "  os.makedirs(container_path)\n",
        "  %cd {container_path}\n",
        "  !git clone {git_repo}\n",
        "  %cd {repo_name}\n",
        "  !mkdir pretrained"
      ],
      "execution_count": 6,
      "outputs": [
        {
          "output_type": "stream",
          "text": [
            "/content/drive/MyDrive/colab-gpu-alias-free\n",
            "Cloning into 'alias-free-gan'...\n",
            "remote: Enumerating objects: 937, done.\u001b[K\n",
            "remote: Counting objects: 100% (638/638), done.\u001b[K\n",
            "remote: Compressing objects: 100% (358/358), done.\u001b[K\n",
            "remote: Total 937 (delta 314), reused 468 (delta 178), pack-reused 299\u001b[K\n",
            "Receiving objects: 100% (937/937), 73.35 MiB | 13.31 MiB/s, done.\n",
            "Resolving deltas: 100% (454/454), done.\n",
            "/content/drive/MyDrive/colab-gpu-alias-free/alias-free-gan\n"
          ],
          "name": "stdout"
        }
      ]
    },
    {
      "cell_type": "markdown",
      "metadata": {
        "id": "z6qSNzMhXQta"
      },
      "source": [
        "## Install Dependancies"
      ]
    },
    {
      "cell_type": "code",
      "metadata": {
        "id": "pZYccZIHSpNs"
      },
      "source": [
        "!python install.py"
      ],
      "execution_count": null,
      "outputs": []
    },
    {
      "cell_type": "markdown",
      "metadata": {
        "id": "xdzlUBR5XanA"
      },
      "source": [
        "## Convert Dataset\n",
        "\n",
        "You can skip this section if you already have a dataset in the correct format.\n",
        "\n",
        "Currently only supports datasets with only one of the following dimensions of images. 256 by 256 **or** 512 by 512 **or** 1024 by 1024\n",
        "\n",
        "Preparing your dataset for conversion. Tools to prep a data set are beyond the scope of this notebook dvschultz/dataset-tools(https://github.com/dvschultz/dataset-tools) is suggested to help with this process.\n",
        "\n",
        "Structure of your dataset:\n",
        "```\n",
        "dataset_root_dir # name of your dataset is suggested\n",
        "  |- sub_directory # anything (this has to do with labels which is an unsupported feature at current time)\n",
        "    |- image01.png\n",
        "    |- images_can_have_any_names.png\n",
        "    |- they_also_be.jpg\n",
        "    |...continued # Suggested minimum size is 1000+ images.\n",
        "```\n",
        "\n",
        "The above example would result in an input of `unconverted_dataset='path/to/dataset_root_dir'`"
      ]
    },
    {
      "cell_type": "code",
      "metadata": {
        "colab": {
          "base_uri": "https://localhost:8080/"
        },
        "id": "LqswLFEkarPc",
        "outputId": "7e332047-f216-42a1-b07b-cf3a28335637"
      },
      "source": [
        "unconverted_dataset = '/content/drive/MyDrive/dataset-creation/painterly-faces-v2'\n",
        "out_path = '/content/drive/MyDrive/datasets-aliasfree/painterly-faces-v2-256'\n",
        "dataset_size = 256 # one of the following 256, 512, 1024\n",
        "!python scripts/convert_dataset.py --size {dataset_size} {unconverted_dataset} {out_path}"
      ],
      "execution_count": 8,
      "outputs": [
        {
          "output_type": "stream",
          "text": [
            "Make dataset of image sizes: 256\n",
            "0it [00:00, ?it/s]/usr/local/lib/python3.7/dist-packages/torchvision/transforms/functional.py:387: UserWarning: Argument interpolation should be of type InterpolationMode instead of int. Please, use InterpolationMode enum.\n",
            "  \"Argument interpolation should be of type InterpolationMode instead of int. \"\n",
            "1it [00:00,  1.60it/s]/usr/local/lib/python3.7/dist-packages/torchvision/transforms/functional.py:387: UserWarning: Argument interpolation should be of type InterpolationMode instead of int. Please, use InterpolationMode enum.\n",
            "  \"Argument interpolation should be of type InterpolationMode instead of int. \"\n",
            "1158it [06:45,  2.85it/s]\n"
          ],
          "name": "stdout"
        }
      ]
    },
    {
      "cell_type": "markdown",
      "metadata": {
        "id": "D6Yc1QbacaId"
      },
      "source": [
        "## Info on training options\n",
        "\n",
        "Most training options work rather well out of the box. See the training section for suggested arguments.\n",
        "\n",
        "You can see a full list of training options by running the following cell."
      ]
    },
    {
      "cell_type": "code",
      "metadata": {
        "id": "yuc-24U3dH_l"
      },
      "source": [
        "!python scripts/trainer.py --help"
      ],
      "execution_count": null,
      "outputs": []
    },
    {
      "cell_type": "markdown",
      "metadata": {
        "id": "EMt7IazBas5c"
      },
      "source": [
        "## Training\n",
        "\n",
        "Results from training can be found in `results` directory.\n",
        "\n",
        "**Resume from Checkpoint**\n",
        "\n",
        "Set `--resume_from 'path/to/checkpoint.pt'`\n",
        "\n",
        "**Transfer Learning Options**\n",
        "\n",
        "See repository for transfer learning options. https://github.com/duskvirkus/alias-free-gan/blob/devel/pretrained_models.json\n",
        "\n",
        "**Training from Scratch**\n",
        "\n",
        "This is not recommended as transfer learning off of any model even if it's not related to your dataset will be faster and consume less resources. Unless there is no pretrained models or you have an explicit reason use transfer learning. To train from scratch simply leave `resume` blank.\n",
        "\n",
        "### Suggested Batch Size\n",
        "\n",
        "For colab pro gpus (16GB) here are the suggested batch sizes:\n",
        "- 256: batch size of 8 and sample of 9 (to get a nice grid)\n",
        "- 512: batch size and sample of 4\n",
        "- 1024: 2? haven't done much training at this size yet I will update this.\n",
        "\n",
        "Feel free to play around to see if you can get things higher. Haven't worked much on optimizing performance so your guess maybe as good as mine.\n",
        "\n",
        "### Trouble Shooting\n",
        "\n",
        "If you get a cuda out of memory error try reducing the `batch` and `--n_samples`.\n",
        "\n",
        "If you get another error please report it at https://github.com/duskvirkus/alias-free-gan/issues/new\n",
        "\n",
        "If the model makes it through the first epoch you're unlike to encounter any errors after that.\n",
        "\n",
        "\n"
      ]
    },
    {
      "cell_type": "code",
      "metadata": {
        "id": "rI69L2vybsPr"
      },
      "source": [
        "model_size = 256\n",
        "dataset_location = '/content/drive/MyDrive/datasets-aliasfree/painterly-faces-v2-256'\n",
        "resume = 'rosinality-ffhq-800k'"
      ],
      "execution_count": 9,
      "outputs": []
    },
    {
      "cell_type": "code",
      "metadata": {
        "id": "avx9vyhlczji",
        "colab": {
          "base_uri": "https://localhost:8080/"
        },
        "outputId": "5726dd82-6717-4ccf-c5ac-ceff0b23a746"
      },
      "source": [
        "!python scripts/trainer.py \\\n",
        "    --size {model_size} \\\n",
        "    --gpus 1 \\\n",
        "    --dataset_path {dataset_location} \\\n",
        "    --resume_from {resume} \\\n",
        "    --logger True \\\n",
        "    --batch 8 \\\n",
        "    --n_samples 9"
      ],
      "execution_count": 12,
      "outputs": [
        {
          "output_type": "stream",
          "text": [
            "Using Alias-Free GAN version: 1.0.0\n",
            "Downloading rosinality-ffhq-800k from https://drive.google.com/uc?id=15B_Pz-38eIiUBCiVbgPOcv-TIoT7nc5e\n",
            "Downloading...\n",
            "From: https://drive.google.com/uc?id=15B_Pz-38eIiUBCiVbgPOcv-TIoT7nc5e\n",
            "To: /content/drive/MyDrive/colab-gpu-alias-free/alias-free-gan/pretrained/rosinality-ffhq-800k.pt\n",
            "623MB [00:09, 68.0MB/s]\n",
            "\n",
            "\n",
            "Licence and compensation information for rosinality-ffhq-800k pretrained model: test information\n",
            "\n",
            "\n",
            "Dataset path: /content/drive/MyDrive/datasets-aliasfree/painterly-faces-v2-256\n",
            "Initialized MultiResolutionDataset dataset with 1158 images\n",
            "GPU available: True, used: True\n",
            "TPU available: False, using: 0 TPU cores\n",
            "IPU available: False, using: 0 IPUs\n",
            "LOCAL_RANK: 0 - CUDA_VISIBLE_DEVICES: [0]\n",
            "2021-07-29 07:14:52.115524: I tensorflow/stream_executor/platform/default/dso_loader.cc:53] Successfully opened dynamic library libcudart.so.11.0\n",
            "\n",
            "  | Name          | Type          | Params\n",
            "------------------------------------------------\n",
            "0 | generator     | Generator     | 17.3 M\n",
            "1 | g_ema         | Generator     | 17.3 M\n",
            "2 | discriminator | Discriminator | 28.9 M\n",
            "------------------------------------------------\n",
            "63.5 M    Trainable params\n",
            "0         Non-trainable params\n",
            "63.5 M    Total params\n",
            "253.864   Total estimated model params size (MB)\n",
            "Training: -1it [00:00, ?it/s]\n",
            "\n",
            "Resuming from: /content/drive/MyDrive/colab-gpu-alias-free/alias-free-gan/scripts/../pretrained/rosinality-ffhq-800k.pt\n",
            "\n",
            "AlignFreeGAN device: cuda:0\n",
            "\n",
            "\n",
            "Saving z-samples out ...\n",
            "Epoch 0:   0% 0/144 [00:00<?, ?it/s] /content/drive/MyDrive/colab-gpu-alias-free/alias-free-gan/scripts/../src/stylegan2/op/conv2d_gradfix.py:89: UserWarning: conv2d_gradfix not supported on PyTorch 1.9.0+cu102. Falling back to torch.nn.functional.conv2d().\n",
            "  f\"conv2d_gradfix not supported on PyTorch {torch.__version__}. Falling back to torch.nn.functional.conv2d().\"\n",
            "Epoch 7:  28% 40/144 [01:05<02:50,  1.64s/it, loss=2.23, v_num=0]/usr/local/lib/python3.7/dist-packages/pytorch_lightning/trainer/trainer.py:1047: UserWarning: Detected KeyboardInterrupt, attempting graceful shutdown...\n",
            "  rank_zero_warn(\"Detected KeyboardInterrupt, attempting graceful shutdown...\")\n",
            "Epoch 7:  28% 40/144 [01:13<03:10,  1.83s/it, loss=2.23, v_num=0]\n"
          ],
          "name": "stdout"
        }
      ]
    }
  ]
}