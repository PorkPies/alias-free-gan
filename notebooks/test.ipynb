{
 "cells": [
  {
   "cell_type": "code",
   "execution_count": 1,
   "source": [
    "!python --version"
   ],
   "outputs": [
    {
     "output_type": "stream",
     "name": "stdout",
     "text": [
      "Python 3.7.11\n"
     ]
    }
   ],
   "metadata": {}
  },
  {
   "cell_type": "code",
   "execution_count": 2,
   "source": [
    "%cd /content/drive/MyDrive/alias-free-devel/alias-free-gan"
   ],
   "outputs": [
    {
     "output_type": "stream",
     "name": "stdout",
     "text": [
      "/content/drive/MyDrive/alias-free-devel/alias-free-gan\n"
     ]
    }
   ],
   "metadata": {}
  },
  {
   "cell_type": "code",
   "execution_count": null,
   "source": [
    "!python install.py"
   ],
   "outputs": [],
   "metadata": {}
  },
  {
   "cell_type": "code",
   "execution_count": null,
   "source": [
    "!python scripts/trainer.py --help"
   ],
   "outputs": [],
   "metadata": {}
  },
  {
   "cell_type": "code",
   "execution_count": 11,
   "source": [
    "!python -m pytest test/cross/"
   ],
   "outputs": [
    {
     "output_type": "stream",
     "name": "stdout",
     "text": [
      "\u001b[1m============================= test session starts ==============================\u001b[0m\n",
      "platform linux -- Python 3.7.11, pytest-3.6.4, py-1.10.0, pluggy-0.7.1\n",
      "rootdir: /content/drive/MyDrive/alias-free-devel/alias-free-gan, inifile:\n",
      "plugins: typeguard-2.7.1\n",
      "collected 3 items                                                              \u001b[0m\n",
      "\n",
      "test/cross/scripts/trainer_test.py .\u001b[36m                                     [ 33%]\u001b[0m\n",
      "test/cross/src/alias_free_gan_test.py ..\u001b[36m                                 [100%]\u001b[0m\n",
      "\n",
      "\u001b[33m=============================== warnings summary ===============================\u001b[0m\n",
      "test/cross/src/alias_free_gan_test.py::test_save_checkpoint_and_load_checkpoint\n",
      "  /usr/local/lib/python3.7/dist-packages/pytorch_lightning/trainer/data_loading.py:323: UserWarning: The number of training samples (32) is smaller than the logging interval Trainer(log_every_n_steps=50). Set a lower value for log_every_n_steps if you want to see logs for the training epoch.\n",
      "    f\"The number of training samples ({self.num_training_batches}) is smaller than the logging interval\"\n",
      "\n",
      "-- Docs: http://doc.pytest.org/en/latest/warnings.html\n",
      "\u001b[33m\u001b[1m==================== 3 passed, 1 warnings in 15.39 seconds =====================\u001b[0m\n"
     ]
    }
   ],
   "metadata": {}
  },
  {
   "cell_type": "code",
   "execution_count": 3,
   "source": [
    "!python -m pytest test/gpu/scripts/"
   ],
   "outputs": [
    {
     "output_type": "stream",
     "name": "stdout",
     "text": [
      "\u001b[1m============================= test session starts ==============================\u001b[0m\n",
      "platform linux -- Python 3.7.11, pytest-3.6.4, py-1.10.0, pluggy-0.7.1\n",
      "rootdir: /content/drive/MyDrive/alias-free-devel/alias-free-gan, inifile:\n",
      "plugins: typeguard-2.7.1\n",
      "collected 3 items                                                              \u001b[0m\n",
      "\n",
      "test/gpu/scripts/trainer_test.py "
     ]
    }
   ],
   "metadata": {}
  },
  {
   "cell_type": "code",
   "execution_count": 10,
   "source": [
    "# !bash ./scripts/tpu_setup.sh\n",
    "import os\n",
    "with open('./scripts/tpu_setup.sh') as f:\n",
    "    os.environ.update(\n",
    "        line.replace('export ', '', 1).strip().split('=', 1) for line in f\n",
    "        if 'export' in line\n",
    ")"
   ],
   "outputs": [],
   "metadata": {}
  },
  {
   "cell_type": "code",
   "execution_count": 11,
   "source": [
    "!echo $USE_CPU_OP"
   ],
   "outputs": [
    {
     "output_type": "stream",
     "name": "stdout",
     "text": [
      "1\n"
     ]
    }
   ],
   "metadata": {}
  },
  {
   "cell_type": "code",
   "execution_count": 12,
   "source": [
    "# !bash ./scripts/tpu_setup.sh\n",
    "\n",
    "!python -m pytest test/cross"
   ],
   "outputs": [
    {
     "output_type": "stream",
     "name": "stdout",
     "text": [
      "\u001b[1m============================= test session starts ==============================\u001b[0m\n",
      "platform linux -- Python 3.7.11, pytest-3.6.4, py-1.10.0, pluggy-0.7.1\n",
      "rootdir: /content/drive/MyDrive/afg-lightning-devel-tpu/alias-free-gan-pytorch-lightning, inifile:\n",
      "plugins: typeguard-2.7.1\n",
      "collected 1 item                                                               \u001b[0m\n",
      "\n",
      "test/cross/src/alias_free_gan_test.py .\u001b[36m                                  [100%]\u001b[0m\n",
      "\n",
      "\u001b[32m\u001b[1m=========================== 1 passed in 5.44 seconds ===========================\u001b[0m\n"
     ]
    }
   ],
   "metadata": {}
  },
  {
   "cell_type": "code",
   "execution_count": 13,
   "source": [
    "!python -m pytest test/tpu"
   ],
   "outputs": [
    {
     "output_type": "stream",
     "name": "stdout",
     "text": [
      "\u001b[1m============================= test session starts ==============================\u001b[0m\n",
      "platform linux -- Python 3.7.11, pytest-3.6.4, py-1.10.0, pluggy-0.7.1\n",
      "rootdir: /content/drive/MyDrive/afg-lightning-devel-tpu/alias-free-gan-pytorch-lightning, inifile:\n",
      "plugins: typeguard-2.7.1\n",
      "collected 1 item                                                               \u001b[0m\n",
      "\n",
      "test/tpu/scripts/tpu_setup_test.py .\u001b[36m                                     [100%]\u001b[0m\n",
      "\n",
      "\u001b[32m\u001b[1m=========================== 1 passed in 0.25 seconds ===========================\u001b[0m\n"
     ]
    }
   ],
   "metadata": {}
  },
  {
   "cell_type": "code",
   "execution_count": 9,
   "source": [
    "!python -m pytest"
   ],
   "outputs": [
    {
     "output_type": "stream",
     "name": "stdout",
     "text": [
      "\u001b[1m============================= test session starts ==============================\u001b[0m\n",
      "platform linux -- Python 3.7.11, pytest-3.6.4, py-1.10.0, pluggy-0.7.1\n",
      "rootdir: /content/drive/MyDrive/afg-lightning-devel-arrayfire/alias-free-gan-pytorch-lightning, inifile:\n",
      "plugins: typeguard-2.7.1\n",
      "collected 3 items                                                              \u001b[0m\n",
      "\n",
      "test/unit/alias_free_gan_test.py .\u001b[36m                                       [ 33%]\u001b[0m\n",
      "test/unit/op_test.py ..\u001b[36m                                                  [100%]\u001b[0m\n",
      "\n",
      "\u001b[32m\u001b[1m========================== 3 passed in 39.42 seconds ===========================\u001b[0m\n"
     ]
    }
   ],
   "metadata": {}
  },
  {
   "cell_type": "code",
   "execution_count": 19,
   "source": [
    "!python -m pytest test/unit/op_test.py"
   ],
   "outputs": [
    {
     "output_type": "stream",
     "name": "stdout",
     "text": [
      "\u001b[1m============================= test session starts ==============================\u001b[0m\n",
      "platform linux -- Python 3.7.11, pytest-3.6.4, py-1.10.0, pluggy-0.7.1\n",
      "rootdir: /content/drive/MyDrive/afg-lightning-devel-arrayfire/alias-free-gan-pytorch-lightning, inifile:\n",
      "plugins: typeguard-2.7.1\n",
      "collected 2 items                                                              \u001b[0m\n",
      "\n",
      "test/unit/op_test.py ..\u001b[36m                                                  [100%]\u001b[0m\n",
      "\n",
      "\u001b[32m\u001b[1m========================== 2 passed in 64.39 seconds ===========================\u001b[0m\n"
     ]
    }
   ],
   "metadata": {}
  },
  {
   "cell_type": "code",
   "execution_count": null,
   "source": [],
   "outputs": [],
   "metadata": {}
  }
 ],
 "metadata": {
  "interpreter": {
   "hash": "31f2aee4e71d21fbe5cf8b01ff0e069b9275f58929596ceb00d14d90e3e16cd6"
  },
  "kernelspec": {
   "name": "python3",
   "display_name": "Python 3.7.11 64-bit"
  },
  "language_info": {
   "codemirror_mode": {
    "name": "ipython",
    "version": 3
   },
   "file_extension": ".py",
   "mimetype": "text/x-python",
   "name": "python",
   "nbconvert_exporter": "python",
   "pygments_lexer": "ipython3",
   "version": "3.7.11"
  },
  "orig_nbformat": 4
 },
 "nbformat": 4,
 "nbformat_minor": 2
}