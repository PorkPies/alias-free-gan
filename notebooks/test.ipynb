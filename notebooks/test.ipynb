{
 "cells": [
  {
   "cell_type": "code",
   "execution_count": 1,
   "metadata": {},
   "outputs": [
    {
     "name": "stdout",
     "output_type": "stream",
     "text": [
      "Python 3.7.10\n"
     ]
    }
   ],
   "source": [
    "!python --version"
   ]
  },
  {
   "cell_type": "code",
   "execution_count": 3,
   "metadata": {},
   "outputs": [
    {
     "name": "stdout",
     "output_type": "stream",
     "text": [
      "/content/drive/MyDrive/afg-lightning-devel-testing/alias-free-gan-pytorch\n"
     ]
    }
   ],
   "source": [
    "%cd /content/drive/MyDrive/afg-lightning-devel-testing/alias-free-gan-pytorch/"
   ]
  },
  {
   "cell_type": "code",
   "execution_count": null,
   "metadata": {},
   "outputs": [],
   "source": [
    "!pip install -r requirements.txt"
   ]
  },
  {
   "cell_type": "code",
   "execution_count": 4,
   "metadata": {},
   "outputs": [
    {
     "name": "stdout",
     "output_type": "stream",
     "text": [
      "This is pytest version 3.6.4, imported from /usr/local/lib/python2.7/dist-packages/pytest.pyc\n"
     ]
    }
   ],
   "source": [
    "!pytest --version"
   ]
  },
  {
   "cell_type": "code",
   "execution_count": 11,
   "metadata": {},
   "outputs": [
    {
     "name": "stdout",
     "output_type": "stream",
     "text": [
      "1.3.8\n"
     ]
    }
   ],
   "source": [
    "import pytorch_lightning as pl\n",
    "print(pl.__version__)"
   ]
  },
  {
   "cell_type": "code",
   "execution_count": 9,
   "metadata": {},
   "outputs": [
    {
     "name": "stdout",
     "output_type": "stream",
     "text": [
      "No CUDA runtime is found, using CUDA_HOME='/usr/local/cuda'\n",
      "Traceback (most recent call last):\n",
      "  File \"test/unit/alias_free_gan_test.py\", line 8, in <module>\n",
      "    from src.alias_free_gan import AliasFreeGAN\n",
      "  File \"/content/drive/MyDrive/afg-lightning-devel-testing/alias-free-gan-pytorch/test/unit/../../src/alias_free_gan.py\", line 11, in <module>\n",
      "    from src.model import Generator, filter_parameters\n",
      "  File \"/content/drive/MyDrive/afg-lightning-devel-testing/alias-free-gan-pytorch/test/unit/../../src/model.py\", line 10, in <module>\n",
      "    from src.stylegan2.model import PixelNorm, EqualLinear, EqualConv2d\n",
      "  File \"/content/drive/MyDrive/afg-lightning-devel-testing/alias-free-gan-pytorch/test/unit/../../src/stylegan2/model.py\", line 11, in <module>\n",
      "    from .op import FusedLeakyReLU, fused_leaky_relu, upfirdn2d, conv2d_gradfix\n",
      "  File \"/content/drive/MyDrive/afg-lightning-devel-testing/alias-free-gan-pytorch/test/unit/../../src/stylegan2/op/__init__.py\", line 1, in <module>\n",
      "    from .fused_act import FusedLeakyReLU, fused_leaky_relu\n",
      "  File \"/content/drive/MyDrive/afg-lightning-devel-testing/alias-free-gan-pytorch/test/unit/../../src/stylegan2/op/fused_act.py\", line 15, in <module>\n",
      "    os.path.join(module_path, \"fused_bias_act_kernel.cu\"),\n",
      "  File \"/usr/local/lib/python3.7/dist-packages/torch/utils/cpp_extension.py\", line 1092, in load\n",
      "    keep_intermediates=keep_intermediates)\n",
      "  File \"/usr/local/lib/python3.7/dist-packages/torch/utils/cpp_extension.py\", line 1303, in _jit_compile\n",
      "    is_standalone=is_standalone)\n",
      "  File \"/usr/local/lib/python3.7/dist-packages/torch/utils/cpp_extension.py\", line 1401, in _write_ninja_file_and_build_library\n",
      "    is_standalone=is_standalone)\n",
      "  File \"/usr/local/lib/python3.7/dist-packages/torch/utils/cpp_extension.py\", line 1783, in _write_ninja_file_to_build_library\n",
      "    cuda_flags = common_cflags + COMMON_NVCC_FLAGS + _get_cuda_arch_flags()\n",
      "  File \"/usr/local/lib/python3.7/dist-packages/torch/utils/cpp_extension.py\", line 1562, in _get_cuda_arch_flags\n",
      "    arch_list[-1] += '+PTX'\n",
      "IndexError: list index out of range\n"
     ]
    }
   ],
   "source": [
    "!python test/unit/alias_free_gan_test.py"
   ]
  },
  {
   "cell_type": "code",
   "execution_count": 12,
   "metadata": {},
   "outputs": [
    {
     "name": "stdout",
     "output_type": "stream",
     "text": [
      "\u001b[1m============================= test session starts ==============================\u001b[0m\n",
      "platform linux2 -- Python 2.7.17, pytest-3.6.4, py-1.8.0, pluggy-0.7.1\n",
      "rootdir: /content/drive/MyDrive/afg-lightning-devel-testing/alias-free-gan-pytorch, inifile:\n",
      "collected 0 items / 1 errors                                                   \u001b[0m\n",
      "\n",
      "==================================== ERRORS ====================================\n",
      "______________ ERROR collecting test/unit/alias_free_gan_test.py _______________\n",
      "\u001b[31mImportError while importing test module '/content/drive/MyDrive/afg-lightning-devel-testing/alias-free-gan-pytorch/test/unit/alias_free_gan_test.py'.\n",
      "Hint: make sure your test modules/packages have valid Python names.\n",
      "Traceback:\n",
      "test/unit/alias_free_gan_test.py:5: in <module>\n",
      "    import pytorch_lightning as pl\n",
      "E   ImportError: No module named pytorch_lightning\u001b[0m\n",
      "!!!!!!!!!!!!!!!!!!! Interrupted: 1 errors during collection !!!!!!!!!!!!!!!!!!!!\n",
      "\u001b[1m\u001b[31m=========================== 1 error in 0.21 seconds ============================\u001b[0m\n"
     ]
    }
   ],
   "source": [
    "!pytest"
   ]
  },
  {
   "cell_type": "code",
   "execution_count": null,
   "metadata": {},
   "outputs": [],
   "source": []
  }
 ],
 "metadata": {
  "interpreter": {
   "hash": "31f2aee4e71d21fbe5cf8b01ff0e069b9275f58929596ceb00d14d90e3e16cd6"
  },
  "kernelspec": {
   "display_name": "Python 3.7.10 64-bit",
   "name": "python3"
  },
  "language_info": {
   "codemirror_mode": {
    "name": "ipython",
    "version": 3
   },
   "file_extension": ".py",
   "mimetype": "text/x-python",
   "name": "python",
   "nbconvert_exporter": "python",
   "pygments_lexer": "ipython3",
   "version": "3.7.10"
  },
  "orig_nbformat": 4
 },
 "nbformat": 4,
 "nbformat_minor": 2
}