{
 "cells": [
  {
   "cell_type": "code",
   "execution_count": 2,
   "metadata": {},
   "outputs": [
    {
     "name": "stdout",
     "output_type": "stream",
     "text": [
      "Python 3.7.11\n"
     ]
    }
   ],
   "source": [
    "!python --version"
   ]
  },
  {
   "cell_type": "code",
   "execution_count": 1,
   "metadata": {},
   "outputs": [
    {
     "name": "stdout",
     "output_type": "stream",
     "text": [
      "/content/drive/MyDrive/afg-lightning-devel-tpu/alias-free-gan-pytorch-lightning\n"
     ]
    }
   ],
   "source": [
    "%cd /content/drive/MyDrive/afg-lightning-devel-tpu/alias-free-gan-pytorch-lightning/"
   ]
  },
  {
   "cell_type": "code",
   "execution_count": null,
   "metadata": {},
   "outputs": [],
   "source": [
    "!python install.py"
   ]
  },
  {
   "cell_type": "code",
   "execution_count": 8,
   "metadata": {},
   "outputs": [
    {
     "name": "stdout",
     "output_type": "stream",
     "text": [
      "USE_CPU_OP set to: 1\n",
      "Setting up for Colab TPUs\n",
      "COLAB_TPU_ADDR is: 10.79.131.146:8470\n",
      "TPU_IP_ADDRESS set to: 10.79.131.146\n",
      "XRT_TPU_CONFIG set to: tpu_worker;0;10.79.131.146:8470\n",
      "\u001b[1m============================= test session starts ==============================\u001b[0m\n",
      "platform linux -- Python 3.7.11, pytest-3.6.4, py-1.10.0, pluggy-0.7.1\n",
      "rootdir: /content/drive/MyDrive/afg-lightning-devel-tpu/alias-free-gan-pytorch-lightning, inifile:\n",
      "plugins: typeguard-2.7.1\n",
      "collected 0 items / 1 errors                                                   \u001b[0m\n",
      "\n",
      "==================================== ERRORS ====================================\n",
      "____________ ERROR collecting test/cross/src/alias_free_gan_test.py ____________\n",
      "\u001b[1m\u001b[31mtest/cross/src/alias_free_gan_test.py\u001b[0m:8: in <module>\n",
      "\u001b[1m    from src.alias_free_gan import AliasFreeGAN\u001b[0m\n",
      "\u001b[1m\u001b[31msrc/alias_free_gan.py\u001b[0m:12: in <module>\n",
      "\u001b[1m    from src.model import Generator, filter_parameters\u001b[0m\n",
      "\u001b[1m\u001b[31msrc/model.py\u001b[0m:11: in <module>\n",
      "\u001b[1m    from src.stylegan2.model import PixelNorm, EqualLinear, EqualConv2d\u001b[0m\n",
      "\u001b[1m\u001b[31msrc/stylegan2/model.py\u001b[0m:15: in <module>\n",
      "\u001b[1m    from .op import FusedLeakyReLU, fused_leaky_relu, upfirdn2d, conv2d_gradfix\u001b[0m\n",
      "\u001b[1m\u001b[31msrc/stylegan2/op/__init__.py\u001b[0m:1: in <module>\n",
      "\u001b[1m    from .fused_act import FusedLeakyReLU, fused_leaky_relu\u001b[0m\n",
      "\u001b[1m\u001b[31msrc/stylegan2/op/fused_act.py\u001b[0m:15: in <module>\n",
      "\u001b[1m    os.path.join(module_path, \"fused_bias_act_kernel.cu\"),\u001b[0m\n",
      "\u001b[1m\u001b[31m/usr/local/lib/python3.7/dist-packages/torch/utils/cpp_extension.py\u001b[0m:1092: in load\n",
      "\u001b[1m    keep_intermediates=keep_intermediates)\u001b[0m\n",
      "\u001b[1m\u001b[31m/usr/local/lib/python3.7/dist-packages/torch/utils/cpp_extension.py\u001b[0m:1303: in _jit_compile\n",
      "\u001b[1m    is_standalone=is_standalone)\u001b[0m\n",
      "\u001b[1m\u001b[31m/usr/local/lib/python3.7/dist-packages/torch/utils/cpp_extension.py\u001b[0m:1401: in _write_ninja_file_and_build_library\n",
      "\u001b[1m    is_standalone=is_standalone)\u001b[0m\n",
      "\u001b[1m\u001b[31m/usr/local/lib/python3.7/dist-packages/torch/utils/cpp_extension.py\u001b[0m:1783: in _write_ninja_file_to_build_library\n",
      "\u001b[1m    cuda_flags = common_cflags + COMMON_NVCC_FLAGS + _get_cuda_arch_flags()\u001b[0m\n",
      "\u001b[1m\u001b[31m/usr/local/lib/python3.7/dist-packages/torch/utils/cpp_extension.py\u001b[0m:1562: in _get_cuda_arch_flags\n",
      "\u001b[1m    arch_list[-1] += '+PTX'\u001b[0m\n",
      "\u001b[1m\u001b[31mE   IndexError: list index out of range\u001b[0m\n",
      "------------------------------- Captured stdout --------------------------------\n",
      "No CUDA runtime is found, using CUDA_HOME='/usr/local/cuda'\n",
      "------------------------------- Captured stderr --------------------------------\n",
      "WARNING:root:TPU has started up successfully with version pytorch-1.9\n",
      "!!!!!!!!!!!!!!!!!!! Interrupted: 1 errors during collection !!!!!!!!!!!!!!!!!!!!\n",
      "\u001b[31m\u001b[1m=========================== 1 error in 22.07 seconds ===========================\u001b[0m\n"
     ]
    }
   ],
   "source": [
    "!python scripts/tpu_setup.py\n",
    "!python -m pytest test/cross/src/alias_free_gan_test.py"
   ]
  },
  {
   "cell_type": "code",
   "execution_count": 5,
   "metadata": {},
   "outputs": [
    {
     "name": "stdout",
     "output_type": "stream",
     "text": [
      "\u001b[1m============================= test session starts ==============================\u001b[0m\n",
      "platform linux -- Python 3.7.11, pytest-3.6.4, py-1.10.0, pluggy-0.7.1\n",
      "rootdir: /content/drive/MyDrive/afg-lightning-devel-tpu/alias-free-gan-pytorch-lightning, inifile:\n",
      "plugins: typeguard-2.7.1\n",
      "collected 1 item                                                               \u001b[0m\n",
      "\n",
      "test/tpu/scripts/tpu_setup_test.py .\u001b[36m                                     [100%]\u001b[0m\n",
      "\n",
      "\u001b[32m\u001b[1m=========================== 1 passed in 0.10 seconds ===========================\u001b[0m\n"
     ]
    }
   ],
   "source": [
    "!python -m pytest test/tpu/scripts/tpu_setup_test.py"
   ]
  },
  {
   "cell_type": "code",
   "execution_count": 9,
   "metadata": {},
   "outputs": [
    {
     "name": "stdout",
     "output_type": "stream",
     "text": [
      "\u001b[1m============================= test session starts ==============================\u001b[0m\n",
      "platform linux -- Python 3.7.11, pytest-3.6.4, py-1.10.0, pluggy-0.7.1\n",
      "rootdir: /content/drive/MyDrive/afg-lightning-devel-arrayfire/alias-free-gan-pytorch-lightning, inifile:\n",
      "plugins: typeguard-2.7.1\n",
      "collected 3 items                                                              \u001b[0m\n",
      "\n",
      "test/unit/alias_free_gan_test.py .\u001b[36m                                       [ 33%]\u001b[0m\n",
      "test/unit/op_test.py ..\u001b[36m                                                  [100%]\u001b[0m\n",
      "\n",
      "\u001b[32m\u001b[1m========================== 3 passed in 39.42 seconds ===========================\u001b[0m\n"
     ]
    }
   ],
   "source": [
    "!python -m pytest"
   ]
  },
  {
   "cell_type": "code",
   "execution_count": 19,
   "metadata": {},
   "outputs": [
    {
     "name": "stdout",
     "output_type": "stream",
     "text": [
      "\u001b[1m============================= test session starts ==============================\u001b[0m\n",
      "platform linux -- Python 3.7.11, pytest-3.6.4, py-1.10.0, pluggy-0.7.1\n",
      "rootdir: /content/drive/MyDrive/afg-lightning-devel-arrayfire/alias-free-gan-pytorch-lightning, inifile:\n",
      "plugins: typeguard-2.7.1\n",
      "collected 2 items                                                              \u001b[0m\n",
      "\n",
      "test/unit/op_test.py ..\u001b[36m                                                  [100%]\u001b[0m\n",
      "\n",
      "\u001b[32m\u001b[1m========================== 2 passed in 64.39 seconds ===========================\u001b[0m\n"
     ]
    }
   ],
   "source": [
    "!python -m pytest test/unit/op_test.py"
   ]
  },
  {
   "cell_type": "code",
   "execution_count": null,
   "metadata": {},
   "outputs": [],
   "source": []
  }
 ],
 "metadata": {
  "interpreter": {
   "hash": "31f2aee4e71d21fbe5cf8b01ff0e069b9275f58929596ceb00d14d90e3e16cd6"
  },
  "kernelspec": {
   "display_name": "Python 3.7.11 64-bit",
   "name": "python3"
  },
  "language_info": {
   "codemirror_mode": {
    "name": "ipython",
    "version": 3
   },
   "file_extension": ".py",
   "mimetype": "text/x-python",
   "name": "python",
   "nbconvert_exporter": "python",
   "pygments_lexer": "ipython3",
   "version": "3.7.11"
  },
  "orig_nbformat": 4
 },
 "nbformat": 4,
 "nbformat_minor": 2
}