{
 "cells": [
  {
   "cell_type": "code",
   "execution_count": 1,
   "source": [
    "!python --version"
   ],
   "outputs": [
    {
     "output_type": "stream",
     "name": "stdout",
     "text": [
      "Python 3.7.11\n"
     ]
    }
   ],
   "metadata": {}
  },
  {
   "cell_type": "code",
   "execution_count": 2,
   "source": [
    "%cd /content/drive/MyDrive/alias-free-devel2/alias-free-gan"
   ],
   "outputs": [
    {
     "output_type": "stream",
     "name": "stdout",
     "text": [
      "/content/drive/MyDrive/alias-free-devel2/alias-free-gan\n"
     ]
    }
   ],
   "metadata": {}
  },
  {
   "cell_type": "code",
   "execution_count": null,
   "source": [
    "!python install.py"
   ],
   "outputs": [],
   "metadata": {}
  },
  {
   "cell_type": "code",
   "execution_count": 10,
   "source": [
    "model_size = 256\n",
    "dataset_location = '/content/drive/MyDrive/alias-free-devel2/alias-free-gan/alias-free-gan-ci-files/flowers-test-dataset-32-256'"
   ],
   "outputs": [],
   "metadata": {}
  },
  {
   "cell_type": "code",
   "execution_count": null,
   "source": [
    "!python scripts/trainer.py --help"
   ],
   "outputs": [],
   "metadata": {}
  },
  {
   "cell_type": "code",
   "execution_count": 14,
   "source": [
    "!python scripts/trainer.py \\\n",
    "    --gpus 1 \\\n",
    "    --size {model_size} \\\n",
    "    --dataset_path {dataset_location} \\\n",
    "    --resume_from '/content/drive/MyDrive/alias-free-devel2/alias-free-gan/alias-free-gan-ci-files/000000001-kimg-ci-checkpoint.pt' \\\n",
    "    --batch 8 \\\n",
    "    --max_epochs 50 \\\n",
    "    --augment True"
   ],
   "outputs": [
    {
     "output_type": "stream",
     "name": "stdout",
     "text": [
      "Using Alias-Free GAN version: 1.0.0\n",
      "None /content/drive/MyDrive/alias-free-devel2/alias-free-gan/alias-free-gan-ci-files/000000001-kimg-ci-checkpoint.pt\n",
      "Dataset path: /content/drive/MyDrive/alias-free-devel2/alias-free-gan/alias-free-gan-ci-files/flowers-test-dataset-32-256\n",
      "Initialized MultiResolutionDataset dataset with 32 images\n",
      "GPU available: True, used: True\n",
      "TPU available: False, using: 0 TPU cores\n",
      "IPU available: False, using: 0 IPUs\n",
      "LOCAL_RANK: 0 - CUDA_VISIBLE_DEVICES: [0]\n",
      "\n",
      "  | Name          | Type          | Params\n",
      "------------------------------------------------\n",
      "0 | generator     | Generator     | 17.3 M\n",
      "1 | g_ema         | Generator     | 17.3 M\n",
      "2 | discriminator | Discriminator | 28.9 M\n",
      "------------------------------------------------\n",
      "63.5 M    Trainable params\n",
      "0         Non-trainable params\n",
      "63.5 M    Total params\n",
      "253.864   Total estimated model params size (MB)\n",
      "/usr/local/lib/python3.7/dist-packages/pytorch_lightning/trainer/data_loading.py:323: UserWarning: The number of training samples (4) is smaller than the logging interval Trainer(log_every_n_steps=50). Set a lower value for log_every_n_steps if you want to see logs for the training epoch.\n",
      "  f\"The number of training samples ({self.num_training_batches}) is smaller than the logging interval\"\n",
      "Training: -1it [00:00, ?it/s]\n",
      "\n",
      "Resuming from: /content/drive/MyDrive/alias-free-devel2/alias-free-gan/alias-free-gan-ci-files/000000001-kimg-ci-checkpoint.pt\n",
      "\n",
      "AlignFreeGAN device: cuda:0\n",
      "\n",
      "\n",
      "Epoch 0:   0% 0/4 [00:00<00:00, 2235.77it/s]  /content/drive/MyDrive/alias-free-devel2/alias-free-gan/scripts/../src/stylegan2/op/conv2d_gradfix.py:89: UserWarning: conv2d_gradfix not supported on PyTorch 1.9.0+cu102. Falling back to torch.nn.functional.conv2d().\n",
      "  f\"conv2d_gradfix not supported on PyTorch {torch.__version__}. Falling back to torch.nn.functional.conv2d().\"\n",
      "Epoch 0:  75% 3/4 [00:05<00:01,  1.39s/it, kimgs=0.016, r_t_stat=0.000]/usr/local/lib/python3.7/dist-packages/pytorch_lightning/trainer/trainer.py:1047: UserWarning: Detected KeyboardInterrupt, attempting graceful shutdown...\n",
      "  rank_zero_warn(\"Detected KeyboardInterrupt, attempting graceful shutdown...\")\n",
      "Epoch 0:  75% 3/4 [00:06<00:01,  1.68s/it, kimgs=0.016, r_t_stat=0.000]\n"
     ]
    }
   ],
   "metadata": {}
  },
  {
   "cell_type": "code",
   "execution_count": null,
   "source": [],
   "outputs": [],
   "metadata": {}
  }
 ],
 "metadata": {
  "interpreter": {
   "hash": "31f2aee4e71d21fbe5cf8b01ff0e069b9275f58929596ceb00d14d90e3e16cd6"
  },
  "kernelspec": {
   "name": "python3",
   "display_name": "Python 3.7.11 64-bit"
  },
  "language_info": {
   "codemirror_mode": {
    "name": "ipython",
    "version": 3
   },
   "file_extension": ".py",
   "mimetype": "text/x-python",
   "name": "python",
   "nbconvert_exporter": "python",
   "pygments_lexer": "ipython3",
   "version": "3.7.11"
  },
  "orig_nbformat": 4
 },
 "nbformat": 4,
 "nbformat_minor": 2
}