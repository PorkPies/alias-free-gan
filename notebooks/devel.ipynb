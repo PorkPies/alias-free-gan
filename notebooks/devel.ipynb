{
 "cells": [
  {
   "cell_type": "code",
   "execution_count": 1,
   "metadata": {},
   "outputs": [
    {
     "name": "stdout",
     "output_type": "stream",
     "text": [
      "Python 3.7.11\n"
     ]
    }
   ],
   "source": [
    "!python --version"
   ]
  },
  {
   "cell_type": "code",
   "execution_count": 2,
   "metadata": {},
   "outputs": [
    {
     "name": "stdout",
     "output_type": "stream",
     "text": [
      "/content/drive/MyDrive/afg-lightning-devel-checkpoint/alias-free-gan-pytorch-lightning\n"
     ]
    }
   ],
   "source": [
    "%cd /content/drive/MyDrive/afg-lightning-devel-checkpoint/alias-free-gan-pytorch-lightning/"
   ]
  },
  {
   "cell_type": "code",
   "execution_count": null,
   "metadata": {},
   "outputs": [],
   "source": [
    "!python install.py"
   ]
  },
  {
   "cell_type": "markdown",
   "metadata": {},
   "source": [
    "dataset creation"
   ]
  },
  {
   "cell_type": "code",
   "execution_count": 12,
   "metadata": {},
   "outputs": [
    {
     "name": "stdout",
     "output_type": "stream",
     "text": [
      "usage: prepare_dataset.py [-h] [--size SIZE] [--n_worker N_WORKER]\n",
      "                          [--resample RESAMPLE]\n",
      "                          path out\n",
      "\n",
      "Preprocess images for model training\n",
      "\n",
      "positional arguments:\n",
      "  path                 Path to the image dataset.\n",
      "  out                  Filename of the result lmdb dataset.\n",
      "\n",
      "optional arguments:\n",
      "  -h, --help           show this help message and exit\n",
      "  --size SIZE          Resolutions of images for the dataset. (default:\n",
      "                       256,512,1024)\n",
      "  --n_worker N_WORKER  Number of workers for preparing dataset. (default: 2)\n",
      "  --resample RESAMPLE  Resampling methods for resizing images. 'lanczos' or\n",
      "                       'bilinear' (default: lanczos)\n"
     ]
    }
   ],
   "source": [
    "!python scripts/prepare_dataset.py --help"
   ]
  },
  {
   "cell_type": "code",
   "execution_count": 4,
   "metadata": {},
   "outputs": [],
   "source": [
    "unconverted_dataset = '/content/drive/MyDrive/dataset-creation/painterly-faces-v2'\n",
    "out_path = '/content/drive/MyDrive/datasets-aliasfree/painterly-faces-v2-512'\n",
    "dataset_size = 512"
   ]
  },
  {
   "cell_type": "code",
   "execution_count": 5,
   "metadata": {},
   "outputs": [
    {
     "name": "stdout",
     "output_type": "stream",
     "text": [
      "Make dataset of image sizes: 512\n",
      "0it [00:00, ?it/s]/usr/local/lib/python3.7/dist-packages/torchvision/transforms/functional.py:387: UserWarning: Argument interpolation should be of type InterpolationMode instead of int. Please, use InterpolationMode enum.\n",
      "  \"Argument interpolation should be of type InterpolationMode instead of int. \"\n",
      "/usr/local/lib/python3.7/dist-packages/torchvision/transforms/functional.py:387: UserWarning: Argument interpolation should be of type InterpolationMode instead of int. Please, use InterpolationMode enum.\n",
      "  \"Argument interpolation should be of type InterpolationMode instead of int. \"\n",
      "1158it [04:46,  4.04it/s]\n"
     ]
    }
   ],
   "source": [
    "!python scripts/convert_dataset.py --size {dataset_size} {unconverted_dataset} {out_path}"
   ]
  },
  {
   "cell_type": "markdown",
   "metadata": {},
   "source": [
    "dev"
   ]
  },
  {
   "cell_type": "code",
   "execution_count": null,
   "metadata": {},
   "outputs": [],
   "source": [
    "!python scripts/trainer.py --help"
   ]
  },
  {
   "cell_type": "code",
   "execution_count": 4,
   "metadata": {},
   "outputs": [],
   "source": [
    "model_size = 256\n",
    "dataset_location = '/content/drive/MyDrive/datasets-aliasfree/painterly-faces-v2-256'\n",
    "resume = 'rosinality-ffhq-800k'"
   ]
  },
  {
   "cell_type": "code",
   "execution_count": 15,
   "metadata": {},
   "outputs": [
    {
     "name": "stdout",
     "output_type": "stream",
     "text": [
      "Using Alias-Free GAN version: 1.0.0\n",
      "Licence and compensation information for rosinality-ffhq-800k pretrained model: test information\n",
      "Dataset path: /content/drive/MyDrive/datasets-aliasfree/painterly-faces-v2-256\n",
      "Initialized MultiResolutionDataset dataset with 1158 images\n",
      "GPU available: True, used: True\n",
      "TPU available: False, using: 0 TPU cores\n",
      "IPU available: False, using: 0 IPUs\n",
      "LOCAL_RANK: 0 - CUDA_VISIBLE_DEVICES: [0]\n",
      "2021-07-28 09:18:22.798029: I tensorflow/stream_executor/platform/default/dso_loader.cc:53] Successfully opened dynamic library libcudart.so.11.0\n",
      "\n",
      "    | Name                               | Type                | Params\n",
      "-----------------------------------------------------------------------------\n",
      "0   | generator                          | Generator           | 17.3 M\n",
      "1   | generator.style                    | Sequential          | 525 K \n",
      "2   | generator.style.0                  | PixelNorm           | 0     \n",
      "3   | generator.style.1                  | EqualLinear         | 262 K \n",
      "4   | generator.style.2                  | EqualLinear         | 262 K \n",
      "5   | generator.input                    | FourierFeature      | 0     \n",
      "6   | generator.affine_fourier           | EqualLinear         | 2.1 K \n",
      "7   | generator.conv1                    | EqualConv2d         | 262 K \n",
      "8   | generator.convs                    | ModuleList          | 16.5 M\n",
      "9   | generator.convs.0                  | AliasFreeConv       | 2.6 M \n",
      "10  | generator.convs.0.conv             | ModulatedConv2d     | 2.6 M \n",
      "11  | generator.convs.0.conv.modulation  | EqualLinear         | 262 K \n",
      "12  | generator.convs.0.activation       | AliasFreeActivation | 512   \n",
      "13  | generator.convs.1                  | AliasFreeConv       | 2.6 M \n",
      "14  | generator.convs.1.conv             | ModulatedConv2d     | 2.6 M \n",
      "15  | generator.convs.1.conv.modulation  | EqualLinear         | 262 K \n",
      "16  | generator.convs.1.activation       | AliasFreeActivation | 512   \n",
      "17  | generator.convs.2                  | AliasFreeConv       | 2.6 M \n",
      "18  | generator.convs.2.conv             | ModulatedConv2d     | 2.6 M \n",
      "19  | generator.convs.2.conv.modulation  | EqualLinear         | 262 K \n",
      "20  | generator.convs.2.activation       | AliasFreeActivation | 512   \n",
      "21  | generator.convs.3                  | AliasFreeConv       | 2.6 M \n",
      "22  | generator.convs.3.conv             | ModulatedConv2d     | 2.6 M \n",
      "23  | generator.convs.3.conv.modulation  | EqualLinear         | 262 K \n",
      "24  | generator.convs.3.activation       | AliasFreeActivation | 512   \n",
      "25  | generator.convs.4                  | AliasFreeConv       | 2.6 M \n",
      "26  | generator.convs.4.conv             | ModulatedConv2d     | 2.6 M \n",
      "27  | generator.convs.4.conv.modulation  | EqualLinear         | 262 K \n",
      "28  | generator.convs.4.activation       | AliasFreeActivation | 512   \n",
      "29  | generator.convs.5                  | AliasFreeConv       | 1.4 M \n",
      "30  | generator.convs.5.conv             | ModulatedConv2d     | 1.4 M \n",
      "31  | generator.convs.5.conv.modulation  | EqualLinear         | 262 K \n",
      "32  | generator.convs.5.activation       | AliasFreeActivation | 256   \n",
      "33  | generator.convs.6                  | AliasFreeConv       | 721 K \n",
      "34  | generator.convs.6.conv             | ModulatedConv2d     | 721 K \n",
      "35  | generator.convs.6.conv.modulation  | EqualLinear         | 131 K \n",
      "36  | generator.convs.6.activation       | AliasFreeActivation | 256   \n",
      "37  | generator.convs.7                  | AliasFreeConv       | 426 K \n",
      "38  | generator.convs.7.conv             | ModulatedConv2d     | 426 K \n",
      "39  | generator.convs.7.conv.modulation  | EqualLinear         | 131 K \n",
      "40  | generator.convs.7.activation       | AliasFreeActivation | 128   \n",
      "41  | generator.convs.8                  | AliasFreeConv       | 213 K \n",
      "42  | generator.convs.8.conv             | ModulatedConv2d     | 213 K \n",
      "43  | generator.convs.8.conv.modulation  | EqualLinear         | 65.7 K\n",
      "44  | generator.convs.8.activation       | AliasFreeActivation | 128   \n",
      "45  | generator.convs.9                  | AliasFreeConv       | 213 K \n",
      "46  | generator.convs.9.conv             | ModulatedConv2d     | 213 K \n",
      "47  | generator.convs.9.conv.modulation  | EqualLinear         | 65.7 K\n",
      "48  | generator.convs.9.activation       | AliasFreeActivation | 128   \n",
      "49  | generator.convs.10                 | AliasFreeConv       | 139 K \n",
      "50  | generator.convs.10.conv            | ModulatedConv2d     | 139 K \n",
      "51  | generator.convs.10.conv.modulation | EqualLinear         | 65.7 K\n",
      "52  | generator.convs.10.activation      | AliasFreeActivation | 64    \n",
      "53  | generator.convs.11                 | AliasFreeConv       | 69.8 K\n",
      "54  | generator.convs.11.conv            | ModulatedConv2d     | 69.7 K\n",
      "55  | generator.convs.11.conv.modulation | EqualLinear         | 32.8 K\n",
      "56  | generator.convs.11.activation      | AliasFreeActivation | 64    \n",
      "57  | generator.convs.12                 | AliasFreeConv       | 69.8 K\n",
      "58  | generator.convs.12.conv            | ModulatedConv2d     | 69.7 K\n",
      "59  | generator.convs.12.conv.modulation | EqualLinear         | 32.8 K\n",
      "60  | generator.convs.12.activation      | AliasFreeActivation | 64    \n",
      "61  | generator.convs.13                 | AliasFreeConv       | 69.8 K\n",
      "62  | generator.convs.13.conv            | ModulatedConv2d     | 69.7 K\n",
      "63  | generator.convs.13.conv.modulation | EqualLinear         | 32.8 K\n",
      "64  | generator.convs.13.activation      | AliasFreeActivation | 64    \n",
      "65  | generator.to_rgb                   | ToRGB               | 33.0 K\n",
      "66  | generator.to_rgb.conv              | ModulatedConv2d     | 33.0 K\n",
      "67  | generator.to_rgb.conv.modulation   | EqualLinear         | 32.8 K\n",
      "68  | g_ema                              | Generator           | 17.3 M\n",
      "69  | g_ema.style                        | Sequential          | 525 K \n",
      "70  | g_ema.style.0                      | PixelNorm           | 0     \n",
      "71  | g_ema.style.1                      | EqualLinear         | 262 K \n",
      "72  | g_ema.style.2                      | EqualLinear         | 262 K \n",
      "73  | g_ema.input                        | FourierFeature      | 0     \n",
      "74  | g_ema.affine_fourier               | EqualLinear         | 2.1 K \n",
      "75  | g_ema.conv1                        | EqualConv2d         | 262 K \n",
      "76  | g_ema.convs                        | ModuleList          | 16.5 M\n",
      "77  | g_ema.convs.0                      | AliasFreeConv       | 2.6 M \n",
      "78  | g_ema.convs.0.conv                 | ModulatedConv2d     | 2.6 M \n",
      "79  | g_ema.convs.0.conv.modulation      | EqualLinear         | 262 K \n",
      "80  | g_ema.convs.0.activation           | AliasFreeActivation | 512   \n",
      "81  | g_ema.convs.1                      | AliasFreeConv       | 2.6 M \n",
      "82  | g_ema.convs.1.conv                 | ModulatedConv2d     | 2.6 M \n",
      "83  | g_ema.convs.1.conv.modulation      | EqualLinear         | 262 K \n",
      "84  | g_ema.convs.1.activation           | AliasFreeActivation | 512   \n",
      "85  | g_ema.convs.2                      | AliasFreeConv       | 2.6 M \n",
      "86  | g_ema.convs.2.conv                 | ModulatedConv2d     | 2.6 M \n",
      "87  | g_ema.convs.2.conv.modulation      | EqualLinear         | 262 K \n",
      "88  | g_ema.convs.2.activation           | AliasFreeActivation | 512   \n",
      "89  | g_ema.convs.3                      | AliasFreeConv       | 2.6 M \n",
      "90  | g_ema.convs.3.conv                 | ModulatedConv2d     | 2.6 M \n",
      "91  | g_ema.convs.3.conv.modulation      | EqualLinear         | 262 K \n",
      "92  | g_ema.convs.3.activation           | AliasFreeActivation | 512   \n",
      "93  | g_ema.convs.4                      | AliasFreeConv       | 2.6 M \n",
      "94  | g_ema.convs.4.conv                 | ModulatedConv2d     | 2.6 M \n",
      "95  | g_ema.convs.4.conv.modulation      | EqualLinear         | 262 K \n",
      "96  | g_ema.convs.4.activation           | AliasFreeActivation | 512   \n",
      "97  | g_ema.convs.5                      | AliasFreeConv       | 1.4 M \n",
      "98  | g_ema.convs.5.conv                 | ModulatedConv2d     | 1.4 M \n",
      "99  | g_ema.convs.5.conv.modulation      | EqualLinear         | 262 K \n",
      "100 | g_ema.convs.5.activation           | AliasFreeActivation | 256   \n",
      "101 | g_ema.convs.6                      | AliasFreeConv       | 721 K \n",
      "102 | g_ema.convs.6.conv                 | ModulatedConv2d     | 721 K \n",
      "103 | g_ema.convs.6.conv.modulation      | EqualLinear         | 131 K \n",
      "104 | g_ema.convs.6.activation           | AliasFreeActivation | 256   \n",
      "105 | g_ema.convs.7                      | AliasFreeConv       | 426 K \n",
      "106 | g_ema.convs.7.conv                 | ModulatedConv2d     | 426 K \n",
      "107 | g_ema.convs.7.conv.modulation      | EqualLinear         | 131 K \n",
      "108 | g_ema.convs.7.activation           | AliasFreeActivation | 128   \n",
      "109 | g_ema.convs.8                      | AliasFreeConv       | 213 K \n",
      "110 | g_ema.convs.8.conv                 | ModulatedConv2d     | 213 K \n",
      "111 | g_ema.convs.8.conv.modulation      | EqualLinear         | 65.7 K\n",
      "112 | g_ema.convs.8.activation           | AliasFreeActivation | 128   \n",
      "113 | g_ema.convs.9                      | AliasFreeConv       | 213 K \n",
      "114 | g_ema.convs.9.conv                 | ModulatedConv2d     | 213 K \n",
      "115 | g_ema.convs.9.conv.modulation      | EqualLinear         | 65.7 K\n",
      "116 | g_ema.convs.9.activation           | AliasFreeActivation | 128   \n",
      "117 | g_ema.convs.10                     | AliasFreeConv       | 139 K \n",
      "118 | g_ema.convs.10.conv                | ModulatedConv2d     | 139 K \n",
      "119 | g_ema.convs.10.conv.modulation     | EqualLinear         | 65.7 K\n",
      "120 | g_ema.convs.10.activation          | AliasFreeActivation | 64    \n",
      "121 | g_ema.convs.11                     | AliasFreeConv       | 69.8 K\n",
      "122 | g_ema.convs.11.conv                | ModulatedConv2d     | 69.7 K\n",
      "123 | g_ema.convs.11.conv.modulation     | EqualLinear         | 32.8 K\n",
      "124 | g_ema.convs.11.activation          | AliasFreeActivation | 64    \n",
      "125 | g_ema.convs.12                     | AliasFreeConv       | 69.8 K\n",
      "126 | g_ema.convs.12.conv                | ModulatedConv2d     | 69.7 K\n",
      "127 | g_ema.convs.12.conv.modulation     | EqualLinear         | 32.8 K\n",
      "128 | g_ema.convs.12.activation          | AliasFreeActivation | 64    \n",
      "129 | g_ema.convs.13                     | AliasFreeConv       | 69.8 K\n",
      "130 | g_ema.convs.13.conv                | ModulatedConv2d     | 69.7 K\n",
      "131 | g_ema.convs.13.conv.modulation     | EqualLinear         | 32.8 K\n",
      "132 | g_ema.convs.13.activation          | AliasFreeActivation | 64    \n",
      "133 | g_ema.to_rgb                       | ToRGB               | 33.0 K\n",
      "134 | g_ema.to_rgb.conv                  | ModulatedConv2d     | 33.0 K\n",
      "135 | g_ema.to_rgb.conv.modulation       | EqualLinear         | 32.8 K\n",
      "136 | discriminator                      | Discriminator       | 28.9 M\n",
      "137 | discriminator.convs                | Sequential          | 22.3 M\n",
      "138 | discriminator.convs.0              | ConvLayer           | 512   \n",
      "139 | discriminator.convs.0.0            | EqualConv2d         | 384   \n",
      "140 | discriminator.convs.0.1            | FusedLeakyReLU      | 128   \n",
      "141 | discriminator.convs.1              | ResBlock            | 475 K \n",
      "142 | discriminator.convs.1.conv1        | ConvLayer           | 147 K \n",
      "143 | discriminator.convs.1.conv1.0      | EqualConv2d         | 147 K \n",
      "144 | discriminator.convs.1.conv1.1      | FusedLeakyReLU      | 128   \n",
      "145 | discriminator.convs.1.conv2        | ConvLayer           | 295 K \n",
      "146 | discriminator.convs.1.conv2.0      | Blur                | 0     \n",
      "147 | discriminator.convs.1.conv2.1      | EqualConv2d         | 294 K \n",
      "148 | discriminator.convs.1.conv2.2      | FusedLeakyReLU      | 256   \n",
      "149 | discriminator.convs.1.skip         | ConvLayer           | 32.8 K\n",
      "150 | discriminator.convs.1.skip.0       | Blur                | 0     \n",
      "151 | discriminator.convs.1.skip.1       | EqualConv2d         | 32.8 K\n",
      "152 | discriminator.convs.2              | ResBlock            | 1.9 M \n",
      "153 | discriminator.convs.2.conv1        | ConvLayer           | 590 K \n",
      "154 | discriminator.convs.2.conv1.0      | EqualConv2d         | 589 K \n",
      "155 | discriminator.convs.2.conv1.1      | FusedLeakyReLU      | 256   \n",
      "156 | discriminator.convs.2.conv2        | ConvLayer           | 1.2 M \n",
      "157 | discriminator.convs.2.conv2.0      | Blur                | 0     \n",
      "158 | discriminator.convs.2.conv2.1      | EqualConv2d         | 1.2 M \n",
      "159 | discriminator.convs.2.conv2.2      | FusedLeakyReLU      | 512   \n",
      "160 | discriminator.convs.2.skip         | ConvLayer           | 131 K \n",
      "161 | discriminator.convs.2.skip.0       | Blur                | 0     \n",
      "162 | discriminator.convs.2.skip.1       | EqualConv2d         | 131 K \n",
      "163 | discriminator.convs.3              | ResBlock            | 5.0 M \n",
      "164 | discriminator.convs.3.conv1        | ConvLayer           | 2.4 M \n",
      "165 | discriminator.convs.3.conv1.0      | EqualConv2d         | 2.4 M \n",
      "166 | discriminator.convs.3.conv1.1      | FusedLeakyReLU      | 512   \n",
      "167 | discriminator.convs.3.conv2        | ConvLayer           | 2.4 M \n",
      "168 | discriminator.convs.3.conv2.0      | Blur                | 0     \n",
      "169 | discriminator.convs.3.conv2.1      | EqualConv2d         | 2.4 M \n",
      "170 | discriminator.convs.3.conv2.2      | FusedLeakyReLU      | 512   \n",
      "171 | discriminator.convs.3.skip         | ConvLayer           | 262 K \n",
      "172 | discriminator.convs.3.skip.0       | Blur                | 0     \n",
      "173 | discriminator.convs.3.skip.1       | EqualConv2d         | 262 K \n",
      "174 | discriminator.convs.4              | ResBlock            | 5.0 M \n",
      "175 | discriminator.convs.4.conv1        | ConvLayer           | 2.4 M \n",
      "176 | discriminator.convs.4.conv1.0      | EqualConv2d         | 2.4 M \n",
      "177 | discriminator.convs.4.conv1.1      | FusedLeakyReLU      | 512   \n",
      "178 | discriminator.convs.4.conv2        | ConvLayer           | 2.4 M \n",
      "179 | discriminator.convs.4.conv2.0      | Blur                | 0     \n",
      "180 | discriminator.convs.4.conv2.1      | EqualConv2d         | 2.4 M \n",
      "181 | discriminator.convs.4.conv2.2      | FusedLeakyReLU      | 512   \n",
      "182 | discriminator.convs.4.skip         | ConvLayer           | 262 K \n",
      "183 | discriminator.convs.4.skip.0       | Blur                | 0     \n",
      "184 | discriminator.convs.4.skip.1       | EqualConv2d         | 262 K \n",
      "185 | discriminator.convs.5              | ResBlock            | 5.0 M \n",
      "186 | discriminator.convs.5.conv1        | ConvLayer           | 2.4 M \n",
      "187 | discriminator.convs.5.conv1.0      | EqualConv2d         | 2.4 M \n",
      "188 | discriminator.convs.5.conv1.1      | FusedLeakyReLU      | 512   \n",
      "189 | discriminator.convs.5.conv2        | ConvLayer           | 2.4 M \n",
      "190 | discriminator.convs.5.conv2.0      | Blur                | 0     \n",
      "191 | discriminator.convs.5.conv2.1      | EqualConv2d         | 2.4 M \n",
      "192 | discriminator.convs.5.conv2.2      | FusedLeakyReLU      | 512   \n",
      "193 | discriminator.convs.5.skip         | ConvLayer           | 262 K \n",
      "194 | discriminator.convs.5.skip.0       | Blur                | 0     \n",
      "195 | discriminator.convs.5.skip.1       | EqualConv2d         | 262 K \n",
      "196 | discriminator.convs.6              | ResBlock            | 5.0 M \n",
      "197 | discriminator.convs.6.conv1        | ConvLayer           | 2.4 M \n",
      "198 | discriminator.convs.6.conv1.0      | EqualConv2d         | 2.4 M \n",
      "199 | discriminator.convs.6.conv1.1      | FusedLeakyReLU      | 512   \n",
      "200 | discriminator.convs.6.conv2        | ConvLayer           | 2.4 M \n",
      "201 | discriminator.convs.6.conv2.0      | Blur                | 0     \n",
      "202 | discriminator.convs.6.conv2.1      | EqualConv2d         | 2.4 M \n",
      "203 | discriminator.convs.6.conv2.2      | FusedLeakyReLU      | 512   \n",
      "204 | discriminator.convs.6.skip         | ConvLayer           | 262 K \n",
      "205 | discriminator.convs.6.skip.0       | Blur                | 0     \n",
      "206 | discriminator.convs.6.skip.1       | EqualConv2d         | 262 K \n",
      "207 | discriminator.final_conv           | ConvLayer           | 2.4 M \n",
      "208 | discriminator.final_conv.0         | EqualConv2d         | 2.4 M \n",
      "209 | discriminator.final_conv.1         | FusedLeakyReLU      | 512   \n",
      "210 | discriminator.final_linear         | Sequential          | 4.2 M \n",
      "211 | discriminator.final_linear.0       | EqualLinear         | 4.2 M \n",
      "212 | discriminator.final_linear.1       | EqualLinear         | 513   \n",
      "-----------------------------------------------------------------------------\n",
      "63.5 M    Trainable params\n",
      "0         Non-trainable params\n",
      "63.5 M    Total params\n",
      "253.864   Total estimated model params size (MB)\n",
      "Training: -1it [00:00, ?it/s]\n",
      "\n",
      "Resuming from: /content/drive/MyDrive/afg-lightning-devel-checkpoint/alias-free-gan-pytorch-lightning/scripts/../pretrained/rosinality-ffhq-800k.pt\n",
      "\n",
      "AlignFreeGAN device: cuda:0\n",
      "\n",
      "\n",
      "Epoch 0:   0% 0/579 [00:00<?, ?it/s] /content/drive/MyDrive/afg-lightning-devel-checkpoint/alias-free-gan-pytorch-lightning/scripts/../src/stylegan2/op/conv2d_gradfix.py:89: UserWarning: conv2d_gradfix not supported on PyTorch 1.9.0+cu102. Falling back to torch.nn.functional.conv2d().\n",
      "  f\"conv2d_gradfix not supported on PyTorch {torch.__version__}. Falling back to torch.nn.functional.conv2d().\"\n",
      "Epoch 1:  35% 200/579 [01:40<03:10,  1.99it/s, loss=1.76, v_num=80]"
     ]
    }
   ],
   "source": [
    "!python scripts/trainer.py \\\n",
    "    --size {model_size} \\\n",
    "    --gpus 1 \\\n",
    "    --dataset_path {dataset_location} \\\n",
    "    --resume_from {resume} \\\n",
    "    --logger True \\\n",
    "    --max_steps 800000 \\\n",
    "    --weights_summary 'full' \\\n",
    "    --batch 8\n"
   ]
  },
  {
   "cell_type": "code",
   "execution_count": null,
   "metadata": {},
   "outputs": [],
   "source": []
  }
 ],
 "metadata": {
  "interpreter": {
   "hash": "31f2aee4e71d21fbe5cf8b01ff0e069b9275f58929596ceb00d14d90e3e16cd6"
  },
  "kernelspec": {
   "display_name": "Python 3.7.11 64-bit",
   "name": "python3"
  },
  "language_info": {
   "codemirror_mode": {
    "name": "ipython",
    "version": 3
   },
   "file_extension": ".py",
   "mimetype": "text/x-python",
   "name": "python",
   "nbconvert_exporter": "python",
   "pygments_lexer": "ipython3",
   "version": "3.7.11"
  },
  "orig_nbformat": 4
 },
 "nbformat": 4,
 "nbformat_minor": 2
}