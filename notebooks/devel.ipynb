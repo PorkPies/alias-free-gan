{
 "cells": [
  {
   "cell_type": "code",
   "execution_count": 1,
   "metadata": {},
   "outputs": [
    {
     "name": "stdout",
     "output_type": "stream",
     "text": [
      "Python 3.7.11\n"
     ]
    }
   ],
   "source": [
    "!python --version"
   ]
  },
  {
   "cell_type": "code",
   "execution_count": 13,
   "metadata": {},
   "outputs": [
    {
     "name": "stdout",
     "output_type": "stream",
     "text": [
      "/content/drive/MyDrive/alias-free-devel-gen/alias-free-gan\n"
     ]
    }
   ],
   "source": [
    "%cd /content/drive/MyDrive/alias-free-devel-gen/alias-free-gan/"
   ]
  },
  {
   "cell_type": "code",
   "execution_count": null,
   "metadata": {},
   "outputs": [],
   "source": [
    "!python install.py"
   ]
  },
  {
   "cell_type": "code",
   "execution_count": null,
   "metadata": {},
   "outputs": [],
   "source": [
    "!python scripts/generate_interpolation.py --help"
   ]
  },
  {
   "cell_type": "code",
   "execution_count": null,
   "metadata": {},
   "outputs": [],
   "source": [
    "!python scripts/generate_images.py --size 256 --load_model /content/drive/MyDrive/alias-free-models/painterly-faces/v2-cp20/painterly-faces-v2-cp20.pt --outdir /content/drive/MyDrive/alias-free-models/painterly-faces/v2-cp20/out/images/ --seed_stop 199"
   ]
  },
  {
   "cell_type": "code",
   "execution_count": null,
   "metadata": {},
   "outputs": [],
   "source": [
    "!python scripts/generate_interpolation.py --size 256 --load_model /content/drive/MyDrive/alias-free-models/painterly-faces/v2-cp13/painterly-faces-v2-cp13.pt --outdir /content/drive/MyDrive/alias-free-models/painterly-faces/v2-cp13/out/walk2/ --frames 480 --seeds 19 30 40 11 46 63 19 --easing easeInOutCubic"
   ]
  },
  {
   "cell_type": "code",
   "execution_count": null,
   "metadata": {},
   "outputs": [],
   "source": [
    "!python scripts/generate_interpolation.py --size 256 --load_model /content/drive/MyDrive/alias-free-models/painterly-faces/v2-cp13/painterly-faces-v2-cp13.pt --outdir /content/drive/MyDrive/alias-free-models/painterly-faces/v2-cp13/out/simplex2/ --frames 48 --seeds 0 --method simplex_noise --diameter 0.3"
   ]
  },
  {
   "cell_type": "code",
   "execution_count": null,
   "metadata": {},
   "outputs": [],
   "source": [
    "!python scripts/generate_interpolation.py --size 256 --load_model /content/drive/MyDrive/alias-free-models/painterly-faces/v2-cp20/painterly-faces-v2-cp20.pt --outdir /content/drive/MyDrive/alias-free-models/painterly-faces/v2-cp20/out/circular2/ --frames 48 --seeds 0 --method circular --diameter 2"
   ]
  },
  {
   "cell_type": "code",
   "execution_count": null,
   "metadata": {},
   "outputs": [],
   "source": [
    "!python scripts/generate_interpolation.py --size 256 --load_model /content/drive/MyDrive/alias-free-models/painterly-faces/v2-cp13/painterly-faces-v2-cp13.pt --outdir /content/drive/MyDrive/alias-free-models/painterly-faces/v2-cp13/out/loadzvecs2/ --method load_z_vectors --path_to_z_vectors /content/drive/MyDrive/alias-free-models/painterly-faces/v2-cp20/out/circular2/z_vectors.pt"
   ]
  },
  {
   "cell_type": "code",
   "execution_count": null,
   "metadata": {},
   "outputs": [],
   "source": []
  }
 ],
 "metadata": {
  "interpreter": {
   "hash": "31f2aee4e71d21fbe5cf8b01ff0e069b9275f58929596ceb00d14d90e3e16cd6"
  },
  "kernelspec": {
   "display_name": "Python 3.7.11 64-bit",
   "name": "python3"
  },
  "language_info": {
   "codemirror_mode": {
    "name": "ipython",
    "version": 3
   },
   "file_extension": ".py",
   "mimetype": "text/x-python",
   "name": "python",
   "nbconvert_exporter": "python",
   "pygments_lexer": "ipython3",
   "version": "3.7.11"
  },
  "orig_nbformat": 4
 },
 "nbformat": 4,
 "nbformat_minor": 2
}