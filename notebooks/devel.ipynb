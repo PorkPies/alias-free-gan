{
 "cells": [
  {
   "cell_type": "code",
   "execution_count": 1,
   "metadata": {},
   "outputs": [
    {
     "name": "stdout",
     "output_type": "stream",
     "text": [
      "Python 3.7.11\n"
     ]
    }
   ],
   "source": [
    "!python --version"
   ]
  },
  {
   "cell_type": "code",
   "execution_count": 2,
   "metadata": {},
   "outputs": [
    {
     "name": "stdout",
     "output_type": "stream",
     "text": [
      "/content/drive/MyDrive/alias-free-devel-gen/alias-free-gan\n"
     ]
    }
   ],
   "source": [
    "%cd /content/drive/MyDrive/alias-free-devel-gen/alias-free-gan/"
   ]
  },
  {
   "cell_type": "code",
   "execution_count": null,
   "metadata": {},
   "outputs": [],
   "source": [
    "!python install.py"
   ]
  },
  {
   "cell_type": "code",
   "execution_count": 5,
   "metadata": {},
   "outputs": [
    {
     "name": "stdout",
     "output_type": "stream",
     "text": [
      "Using Alias-Free GAN version: 1.0.0\n",
      "usage: generate_images.py [-h] --load_model LOAD_MODEL --outdir OUTDIR\n",
      "                          [--model_arch MODEL_ARCH] [--seed_start SEED_START]\n",
      "                          [--seed_stop SEED_STOP] [--trunc TRUNC]\n",
      "                          [--batch BATCH] --size SIZE\n",
      "\n",
      "optional arguments:\n",
      "  -h, --help            show this help message and exit\n",
      "\n",
      "Generate Script:\n",
      "  --load_model LOAD_MODEL\n",
      "                        Load a model checkpoint to use for generating content.\n",
      "  --outdir OUTDIR       Where to save the output images\n",
      "  --model_arch MODEL_ARCH\n",
      "                        The model architecture of the model to be loaded.\n",
      "                        (default: alias-free-rosinality-v1)\n",
      "  --seed_start SEED_START\n",
      "                        Start range for seed values. (default: 0)\n",
      "  --seed_stop SEED_STOP\n",
      "                        Stop range for seed values. Is inclusive. (default:\n",
      "                        99)\n",
      "  --trunc TRUNC         Truncation psi (default: 0.75)\n",
      "  --batch BATCH         Number of images to generate each batch. default: 8)\n",
      "\n",
      "AliasFreeGenerator:\n",
      "  --size SIZE           Pixel dimension of model. Must be 256, 512, or 1024.\n",
      "                        Required!\n"
     ]
    }
   ],
   "source": [
    "!python scripts/generate_images.py --help"
   ]
  },
  {
   "cell_type": "code",
   "execution_count": null,
   "metadata": {},
   "outputs": [],
   "source": [
    "!python scripts/generate_images.py --size 256 --load_model /content/drive/MyDrive/alias-free-models/painterly-faces/v2-cp20/painterly-faces-v2-cp20.pt --outdir /content/drive/MyDrive/alias-free-models/painterly-faces/v2-cp20/out/images/ --seed_stop 199"
   ]
  },
  {
   "cell_type": "code",
   "execution_count": null,
   "metadata": {},
   "outputs": [],
   "source": [
    "!python scripts/generate_interpolation.py --size 256 --load_model /content/drive/MyDrive/alias-free-models/painterly-faces/v2-cp13/painterly-faces-v2-cp13.pt --outdir /content/drive/MyDrive/alias-free-models/painterly-faces/v2-cp13/out/walk2/ --frames 480 --seeds 19 30 40 11 46 63 19 --easing easeInOutCubic"
   ]
  },
  {
   "cell_type": "code",
   "execution_count": null,
   "metadata": {},
   "outputs": [],
   "source": [
    "!python scripts/generate_interpolation.py --size 256 --load_model /content/drive/MyDrive/alias-free-models/painterly-faces/v2-cp13/painterly-faces-v2-cp13.pt --outdir /content/drive/MyDrive/alias-free-models/painterly-faces/v2-cp13/out/simplex2/ --frames 48 --seeds 0 --method simplex_noise --diameter 0.3"
   ]
  },
  {
   "cell_type": "code",
   "execution_count": 11,
   "metadata": {},
   "outputs": [
    {
     "name": "stdout",
     "output_type": "stream",
     "text": [
      "Using Alias-Free GAN version: 1.0.0\n",
      "GPU available: True, used: True\n",
      "TPU available: False, using: 0 TPU cores\n",
      "IPU available: False, using: 0 IPUs\n",
      "LOCAL_RANK: 0 - CUDA_VISIBLE_DEVICES: [0]\n",
      "2021-08-02 14:46:43.767574: I tensorflow/stream_executor/platform/default/dso_loader.cc:53] Successfully opened dynamic library libcudart.so.11.0\n",
      "\n",
      "  | Name          | Type          | Params\n",
      "------------------------------------------------\n",
      "0 | generator     | Generator     | 17.3 M\n",
      "1 | g_ema         | Generator     | 17.3 M\n",
      "2 | discriminator | Discriminator | 28.9 M\n",
      "------------------------------------------------\n",
      "63.5 M    Trainable params\n",
      "0         Non-trainable params\n",
      "63.5 M    Total params\n",
      "253.864   Total estimated model params size (MB)\n",
      "Loading Model from: /content/drive/MyDrive/alias-free-models/painterly-faces/v2-cp20/painterly-faces-v2-cp20.pt\n",
      "\n",
      "Generating 48 frames for circular interpolation with seed 0.\n",
      "Saving z_vectors to /content/drive/MyDrive/alias-free-models/painterly-faces/v2-cp20/out/circular2/z_vectors.pt\n",
      "Generate from vectors progress: 0/48\n",
      "Generate from vectors progress: 1/48\n",
      "Generate from vectors progress: 2/48\n",
      "Generate from vectors progress: 3/48\n",
      "Generate from vectors progress: 4/48\n",
      "Generate from vectors progress: 5/48\n",
      "Generate from vectors progress: 6/48\n",
      "Generate from vectors progress: 7/48\n",
      "Generate from vectors progress: 8/48\n",
      "Generate from vectors progress: 9/48\n",
      "Generate from vectors progress: 10/48\n",
      "Generate from vectors progress: 11/48\n",
      "Generate from vectors progress: 12/48\n",
      "Generate from vectors progress: 13/48\n",
      "Generate from vectors progress: 14/48\n",
      "Generate from vectors progress: 15/48\n",
      "Generate from vectors progress: 16/48\n",
      "Generate from vectors progress: 17/48\n",
      "Generate from vectors progress: 18/48\n",
      "Generate from vectors progress: 19/48\n",
      "Generate from vectors progress: 20/48\n",
      "Generate from vectors progress: 21/48\n",
      "Generate from vectors progress: 22/48\n",
      "Generate from vectors progress: 23/48\n",
      "Generate from vectors progress: 24/48\n",
      "Generate from vectors progress: 25/48\n",
      "Generate from vectors progress: 26/48\n",
      "Generate from vectors progress: 27/48\n",
      "Generate from vectors progress: 28/48\n",
      "Generate from vectors progress: 29/48\n",
      "Generate from vectors progress: 30/48\n",
      "Generate from vectors progress: 31/48\n",
      "Generate from vectors progress: 32/48\n",
      "Generate from vectors progress: 33/48\n",
      "Generate from vectors progress: 34/48\n",
      "Generate from vectors progress: 35/48\n",
      "Generate from vectors progress: 36/48\n",
      "Generate from vectors progress: 37/48\n",
      "Generate from vectors progress: 38/48\n",
      "Generate from vectors progress: 39/48\n",
      "Generate from vectors progress: 40/48\n",
      "Generate from vectors progress: 41/48\n",
      "Generate from vectors progress: 42/48\n",
      "Generate from vectors progress: 43/48\n",
      "Generate from vectors progress: 44/48\n",
      "Generate from vectors progress: 45/48\n",
      "Generate from vectors progress: 46/48\n",
      "Generate from vectors progress: 47/48\n"
     ]
    }
   ],
   "source": [
    "!python scripts/generate_interpolation.py --size 256 --load_model /content/drive/MyDrive/alias-free-models/painterly-faces/v2-cp20/painterly-faces-v2-cp20.pt --outdir /content/drive/MyDrive/alias-free-models/painterly-faces/v2-cp20/out/circular2/ --frames 48 --seeds 0 --method circular --diameter 2"
   ]
  },
  {
   "cell_type": "code",
   "execution_count": null,
   "metadata": {},
   "outputs": [],
   "source": []
  }
 ],
 "metadata": {
  "interpreter": {
   "hash": "31f2aee4e71d21fbe5cf8b01ff0e069b9275f58929596ceb00d14d90e3e16cd6"
  },
  "kernelspec": {
   "display_name": "Python 3.7.11 64-bit",
   "name": "python3"
  },
  "language_info": {
   "codemirror_mode": {
    "name": "ipython",
    "version": 3
   },
   "file_extension": ".py",
   "mimetype": "text/x-python",
   "name": "python",
   "nbconvert_exporter": "python",
   "pygments_lexer": "ipython3",
   "version": "3.7.11"
  },
  "orig_nbformat": 4
 },
 "nbformat": 4,
 "nbformat_minor": 2
}