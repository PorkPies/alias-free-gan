{
 "cells": [
  {
   "cell_type": "code",
   "execution_count": 1,
   "metadata": {},
   "outputs": [
    {
     "name": "stdout",
     "output_type": "stream",
     "text": [
      "Python 3.7.11\n"
     ]
    }
   ],
   "source": [
    "!python --version"
   ]
  },
  {
   "cell_type": "code",
   "execution_count": 13,
   "metadata": {},
   "outputs": [
    {
     "name": "stdout",
     "output_type": "stream",
     "text": [
      "/content/drive/MyDrive/alias-free-devel-gen/alias-free-gan\n"
     ]
    }
   ],
   "source": [
    "%cd /content/drive/MyDrive/alias-free-devel-gen/alias-free-gan/"
   ]
  },
  {
   "cell_type": "code",
   "execution_count": null,
   "metadata": {},
   "outputs": [],
   "source": [
    "!python install.py"
   ]
  },
  {
   "cell_type": "code",
   "execution_count": 14,
   "metadata": {},
   "outputs": [
    {
     "name": "stdout",
     "output_type": "stream",
     "text": [
      "Using Alias-Free GAN version: 1.0.0\n",
      "usage: generate_interpolation.py [-h] --size SIZE --load_model LOAD_MODEL\n",
      "                                 --outdir OUTDIR --frames FRAMES\n",
      "                                 [--model_arch MODEL_ARCH] [--trunc TRUNC]\n",
      "                                 [--batch BATCH]\n",
      "                                 [--save_z_vectors SAVE_Z_VECTORS]\n",
      "                                 [--method METHOD]\n",
      "                                 [--path_to_z_vectors PATH_TO_Z_VECTORS]\n",
      "                                 [--seeds SEEDS [SEEDS ...]] [--easing EASING]\n",
      "                                 [--diameter DIAMETER [DIAMETER ...]]\n",
      "\n",
      "optional arguments:\n",
      "  -h, --help            show this help message and exit\n",
      "\n",
      "AliasFreeGenerator:\n",
      "  --size SIZE           Pixel dimension of model. Must be 256, 512, or 1024.\n",
      "                        Required!\n",
      "\n",
      "Generate Script:\n",
      "  --load_model LOAD_MODEL\n",
      "                        Load a model checkpoint to use for generating content.\n",
      "  --outdir OUTDIR       Where to save the output images\n",
      "  --frames FRAMES       Total number of frames to generate.\n",
      "  --model_arch MODEL_ARCH\n",
      "                        The model architecture of the model to be loaded.\n",
      "                        (default: alias-free-rosinality-v1)\n",
      "  --trunc TRUNC         Truncation psi (default: 0.75)\n",
      "  --batch BATCH         Number of images to generate each batch. default: 8)\n",
      "  --save_z_vectors SAVE_Z_VECTORS\n",
      "                        Save the z vectors used to interpolate. default: True\n",
      "  --method METHOD       Select a method for interpolation. Options:\n",
      "                        ['circular', 'interpolate', 'load_z_vectors',\n",
      "                        'simplex_noise'] default: interpolate\n",
      "  --path_to_z_vectors PATH_TO_Z_VECTORS\n",
      "                        Path to saved z vectors to load. For method:\n",
      "                        'load_z_vectors'\n",
      "  --seeds SEEDS [SEEDS ...]\n",
      "                        Add a seed value to a interpolation walk. First seed\n",
      "                        value will be used as the seed for a circular or noise\n",
      "                        walk. If none are provided random ones will be\n",
      "                        generated. For methods: 'interpolate', 'circular',\n",
      "                        'simplex_noise'\n",
      "  --easing EASING       How to ease between seeds. For method: 'interpolate'\n",
      "                        Options: ['easeInBack', 'easeInBounce', 'easeInCirc',\n",
      "                        'easeInCubic', 'easeInElastic', 'easeInExpo',\n",
      "                        'easeInOutBack', 'easeInOutBounce', 'easeInOutCirc',\n",
      "                        'easeInOutCubic', 'easeInOutElastic', 'easeInOutExpo',\n",
      "                        'easeInOutQuad', 'easeInOutQuart', 'easeInOutQuint',\n",
      "                        'easeInOutSine', 'easeInQuad', 'easeInQuart',\n",
      "                        'easeInQuint', 'easeInSine', 'easeOutBack',\n",
      "                        'easeOutBounce', 'easeOutCirc', 'easeOutCubic',\n",
      "                        'easeOutElastic', 'easeOutExpo', 'easeOutQuad',\n",
      "                        'easeOutQuart', 'easeOutQuint', 'easeOutSine',\n",
      "                        'linear'] default: linear\n",
      "  --diameter DIAMETER [DIAMETER ...]\n",
      "                        Defines the diameter of the circular or noise path. If\n",
      "                        two arguments are passed they will be used as a min\n",
      "                        and max a range for random diameters. For method:\n",
      "                        'circular', 'simplex_noise'\n"
     ]
    }
   ],
   "source": [
    "!python scripts/generate_interpolation.py --help"
   ]
  },
  {
   "cell_type": "code",
   "execution_count": null,
   "metadata": {},
   "outputs": [],
   "source": [
    "!python scripts/generate_images.py --size 256 --load_model /content/drive/MyDrive/alias-free-models/painterly-faces/v2-cp20/painterly-faces-v2-cp20.pt --outdir /content/drive/MyDrive/alias-free-models/painterly-faces/v2-cp20/out/images/ --seed_stop 199"
   ]
  },
  {
   "cell_type": "code",
   "execution_count": null,
   "metadata": {},
   "outputs": [],
   "source": [
    "!python scripts/generate_interpolation.py --size 256 --load_model /content/drive/MyDrive/alias-free-models/painterly-faces/v2-cp13/painterly-faces-v2-cp13.pt --outdir /content/drive/MyDrive/alias-free-models/painterly-faces/v2-cp13/out/walk2/ --frames 480 --seeds 19 30 40 11 46 63 19 --easing easeInOutCubic"
   ]
  },
  {
   "cell_type": "code",
   "execution_count": null,
   "metadata": {},
   "outputs": [],
   "source": [
    "!python scripts/generate_interpolation.py --size 256 --load_model /content/drive/MyDrive/alias-free-models/painterly-faces/v2-cp13/painterly-faces-v2-cp13.pt --outdir /content/drive/MyDrive/alias-free-models/painterly-faces/v2-cp13/out/simplex2/ --frames 48 --seeds 0 --method simplex_noise --diameter 0.3"
   ]
  },
  {
   "cell_type": "code",
   "execution_count": null,
   "metadata": {},
   "outputs": [],
   "source": [
    "!python scripts/generate_interpolation.py --size 256 --load_model /content/drive/MyDrive/alias-free-models/painterly-faces/v2-cp20/painterly-faces-v2-cp20.pt --outdir /content/drive/MyDrive/alias-free-models/painterly-faces/v2-cp20/out/circular2/ --frames 48 --seeds 0 --method circular --diameter 2"
   ]
  },
  {
   "cell_type": "code",
   "execution_count": 16,
   "metadata": {},
   "outputs": [
    {
     "name": "stdout",
     "output_type": "stream",
     "text": [
      "Using Alias-Free GAN version: 1.0.0\n",
      "GPU available: True, used: True\n",
      "TPU available: False, using: 0 TPU cores\n",
      "IPU available: False, using: 0 IPUs\n",
      "LOCAL_RANK: 0 - CUDA_VISIBLE_DEVICES: [0]\n",
      "2021-08-02 15:07:24.889309: I tensorflow/stream_executor/platform/default/dso_loader.cc:53] Successfully opened dynamic library libcudart.so.11.0\n",
      "\n",
      "  | Name          | Type          | Params\n",
      "------------------------------------------------\n",
      "0 | generator     | Generator     | 17.3 M\n",
      "1 | g_ema         | Generator     | 17.3 M\n",
      "2 | discriminator | Discriminator | 28.9 M\n",
      "------------------------------------------------\n",
      "63.5 M    Trainable params\n",
      "0         Non-trainable params\n",
      "63.5 M    Total params\n",
      "253.864   Total estimated model params size (MB)\n",
      "Loading Model from: /content/drive/MyDrive/alias-free-models/painterly-faces/v2-cp13/painterly-faces-v2-cp13.pt\n",
      "\n",
      "Skipping save z_vectors because load_z_vectors is the selected method.\n",
      "Generate from vectors progress: 0/48\n",
      "Generate from vectors progress: 1/48\n",
      "Generate from vectors progress: 2/48\n",
      "Generate from vectors progress: 3/48\n",
      "Generate from vectors progress: 4/48\n",
      "Generate from vectors progress: 5/48\n",
      "Generate from vectors progress: 6/48\n",
      "Generate from vectors progress: 7/48\n",
      "Generate from vectors progress: 8/48\n",
      "Generate from vectors progress: 9/48\n",
      "Generate from vectors progress: 10/48\n",
      "Generate from vectors progress: 11/48\n",
      "Generate from vectors progress: 12/48\n"
     ]
    }
   ],
   "source": [
    "!python scripts/generate_interpolation.py --size 256 --load_model /content/drive/MyDrive/alias-free-models/painterly-faces/v2-cp13/painterly-faces-v2-cp13.pt --outdir /content/drive/MyDrive/alias-free-models/painterly-faces/v2-cp13/out/loadzvecs/ --method load_z_vectors --path_to_z_vectors /content/drive/MyDrive/alias-free-models/painterly-faces/v2-cp20/out/circular2/z_vectors.pt"
   ]
  },
  {
   "cell_type": "code",
   "execution_count": null,
   "metadata": {},
   "outputs": [],
   "source": []
  }
 ],
 "metadata": {
  "interpreter": {
   "hash": "31f2aee4e71d21fbe5cf8b01ff0e069b9275f58929596ceb00d14d90e3e16cd6"
  },
  "kernelspec": {
   "display_name": "Python 3.7.11 64-bit",
   "name": "python3"
  },
  "language_info": {
   "codemirror_mode": {
    "name": "ipython",
    "version": 3
   },
   "file_extension": ".py",
   "mimetype": "text/x-python",
   "name": "python",
   "nbconvert_exporter": "python",
   "pygments_lexer": "ipython3",
   "version": "3.7.11"
  },
  "orig_nbformat": 4
 },
 "nbformat": 4,
 "nbformat_minor": 2
}