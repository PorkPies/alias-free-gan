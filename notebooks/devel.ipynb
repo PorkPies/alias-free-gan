{
 "cells": [
  {
   "cell_type": "code",
   "execution_count": 2,
   "metadata": {},
   "outputs": [
    {
     "name": "stdout",
     "output_type": "stream",
     "text": [
      "Python 3.7.11\n"
     ]
    }
   ],
   "source": [
    "!python --version"
   ]
  },
  {
   "cell_type": "code",
   "execution_count": 3,
   "metadata": {},
   "outputs": [
    {
     "name": "stdout",
     "output_type": "stream",
     "text": [
      "/content/drive/MyDrive/alias-free-devel-gen/alias-free-gan\n"
     ]
    }
   ],
   "source": [
    "%cd /content/drive/MyDrive/alias-free-devel-gen/alias-free-gan/"
   ]
  },
  {
   "cell_type": "code",
   "execution_count": null,
   "metadata": {},
   "outputs": [],
   "source": [
    "!python install.py"
   ]
  },
  {
   "cell_type": "code",
   "execution_count": 14,
   "metadata": {},
   "outputs": [
    {
     "name": "stdout",
     "output_type": "stream",
     "text": [
      "Using Alias-Free GAN version: 1.0.0\n",
      "usage: generate_interpolation.py [-h] --size SIZE --load_model LOAD_MODEL\n",
      "                                 --outdir OUTDIR --frames FRAMES\n",
      "                                 [--model_arch MODEL_ARCH] [--trunc TRUNC]\n",
      "                                 [--batch BATCH] [--method METHOD]\n",
      "                                 [-s SEED [SEED ...]] [--easing EASING]\n",
      "                                 [--diameter DIAMETER]\n",
      "\n",
      "optional arguments:\n",
      "  -h, --help            show this help message and exit\n",
      "\n",
      "AliasFreeGenerator:\n",
      "  --size SIZE           Pixel dimension of model. Must be 256, 512, or 1024.\n",
      "                        Required!\n",
      "\n",
      "Generate Script:\n",
      "  --load_model LOAD_MODEL\n",
      "                        Load a model checkpoint to use for generating content.\n",
      "  --outdir OUTDIR       Where to save the output images\n",
      "  --frames FRAMES       Total number of frames to generate.\n",
      "  --model_arch MODEL_ARCH\n",
      "                        The model architecture of the model to be loaded.\n",
      "                        (default: alias-free-rosinality-v1)\n",
      "  --trunc TRUNC         Truncation psi (default: 0.75)\n",
      "  --batch BATCH         Number of images to generate each batch. default: 8)\n",
      "  --method METHOD       Select a method for interpolation. Options:\n",
      "                        ['circular', 'interpolate', 'simplex_noise'] default:\n",
      "                        interpolate\n",
      "  -s SEED [SEED ...], --seed SEED [SEED ...]\n",
      "                        Add a seed value to a interpolation walk. First seed\n",
      "                        value will be used as the seed for a circular or noise\n",
      "                        walk. If none are provided random ones will be\n",
      "                        generated. For methods: 'interpolate', 'circular',\n",
      "                        'noise'\n",
      "  --easing EASING       How to ease between seeds. For method: 'interpolate'\n",
      "                        Options: ['easeInBack', 'easeInBounce', 'easeInCirc',\n",
      "                        'easeInCubic', 'easeInElastic', 'easeInExpo',\n",
      "                        'easeInOutBack', 'easeInOutBounce', 'easeInOutCirc',\n",
      "                        'easeInOutCubic', 'easeInOutElastic', 'easeInOutExpo',\n",
      "                        'easeInOutQuad', 'easeInOutQuart', 'easeInOutQuint',\n",
      "                        'easeInOutSine', 'easeInQuad', 'easeInQuart',\n",
      "                        'easeInQuint', 'easeInSine', 'easeOutBack',\n",
      "                        'easeOutBounce', 'easeOutCirc', 'easeOutCubic',\n",
      "                        'easeOutElastic', 'easeOutExpo', 'easeOutQuad',\n",
      "                        'easeOutQuart', 'easeOutQuint', 'easeOutSine',\n",
      "                        'linear'] default: linear\n",
      "  --diameter DIAMETER   Defines the diameter of the circular path. For method:\n",
      "                        'circular' default: 500.0\n"
     ]
    }
   ],
   "source": [
    "!python scripts/generate_interpolation.py --help"
   ]
  },
  {
   "cell_type": "code",
   "execution_count": 50,
   "metadata": {},
   "outputs": [
    {
     "name": "stdout",
     "output_type": "stream",
     "text": [
      "Using Alias-Free GAN version: 1.0.0\n",
      "GPU available: True, used: True\n",
      "TPU available: False, using: 0 TPU cores\n",
      "IPU available: False, using: 0 IPUs\n",
      "LOCAL_RANK: 0 - CUDA_VISIBLE_DEVICES: [0]\n",
      "2021-08-01 07:45:37.816077: I tensorflow/stream_executor/platform/default/dso_loader.cc:53] Successfully opened dynamic library libcudart.so.11.0\n",
      "\n",
      "  | Name          | Type          | Params\n",
      "------------------------------------------------\n",
      "0 | generator     | Generator     | 17.3 M\n",
      "1 | g_ema         | Generator     | 17.3 M\n",
      "2 | discriminator | Discriminator | 28.9 M\n",
      "------------------------------------------------\n",
      "63.5 M    Trainable params\n",
      "0         Non-trainable params\n",
      "63.5 M    Total params\n",
      "253.864   Total estimated model params size (MB)\n",
      "Loading Model from: /content/drive/MyDrive/alias-free-models/painterly-faces/v2-cp10/painterly-faces-v2-cp10.pt\n",
      "\n",
      "Generating 24 frames for interpolation with seeds [74261, 45600] with linear easing.\n",
      "Generate from vectors progress: 1/24\n",
      "Generate from vectors progress: 2/24\n",
      "Generate from vectors progress: 3/24\n",
      "Generate from vectors progress: 4/24\n",
      "Generate from vectors progress: 5/24\n",
      "Generate from vectors progress: 6/24\n",
      "Generate from vectors progress: 7/24\n",
      "Generate from vectors progress: 8/24\n",
      "Generate from vectors progress: 9/24\n",
      "Generate from vectors progress: 10/24\n",
      "Generate from vectors progress: 11/24\n",
      "Generate from vectors progress: 12/24\n",
      "Generate from vectors progress: 13/24\n",
      "Generate from vectors progress: 14/24\n",
      "Generate from vectors progress: 15/24\n",
      "Generate from vectors progress: 16/24\n",
      "Generate from vectors progress: 17/24\n",
      "Generate from vectors progress: 18/24\n",
      "Generate from vectors progress: 19/24\n",
      "Generate from vectors progress: 20/24\n",
      "Generate from vectors progress: 21/24\n",
      "Generate from vectors progress: 22/24\n",
      "Generate from vectors progress: 23/24\n",
      "Generate from vectors progress: 24/24\n"
     ]
    }
   ],
   "source": [
    "!python scripts/generate_interpolation.py --size 256 --load_model /content/drive/MyDrive/alias-free-models/painterly-faces/v2-cp10/painterly-faces-v2-cp10.pt --outdir './gen-test2' --frames 24"
   ]
  },
  {
   "cell_type": "code",
   "execution_count": null,
   "metadata": {},
   "outputs": [],
   "source": []
  }
 ],
 "metadata": {
  "interpreter": {
   "hash": "31f2aee4e71d21fbe5cf8b01ff0e069b9275f58929596ceb00d14d90e3e16cd6"
  },
  "kernelspec": {
   "display_name": "Python 3.7.11 64-bit",
   "name": "python3"
  },
  "language_info": {
   "codemirror_mode": {
    "name": "ipython",
    "version": 3
   },
   "file_extension": ".py",
   "mimetype": "text/x-python",
   "name": "python",
   "nbconvert_exporter": "python",
   "pygments_lexer": "ipython3",
   "version": "3.7.11"
  },
  "orig_nbformat": 4
 },
 "nbformat": 4,
 "nbformat_minor": 2
}